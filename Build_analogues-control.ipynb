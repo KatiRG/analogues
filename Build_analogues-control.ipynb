{
 "cells": [
  {
   "cell_type": "markdown",
   "metadata": {},
   "source": [
    "Cathy NANGINI<br>\n",
    "Dataviz Scientist at LSCE (Climate and Environment Sciences Laboratory)<br>\n",
    "<img align=\"left\" width=\"40%\" src=\"http://www.lsce.ipsl.fr/Css/img/banniere_LSCE_75.png\"><br><br>\n",
    "<hr>\n",
    "\n",
    "Coded: 15.02.2016\n",
    "Last modified: 18.02.2016"
   ]
  },
  {
   "cell_type": "code",
   "execution_count": 1,
   "metadata": {
    "collapsed": true
   },
   "outputs": [],
   "source": [
    "#CREATE A CONTROL FILE TO TEST ANALOGUES VIS"
   ]
  },
  {
   "cell_type": "code",
   "execution_count": 2,
   "metadata": {
    "collapsed": true
   },
   "outputs": [],
   "source": [
    "import numpy as np\n",
    "import pandas as pd\n",
    "import collections\n",
    "import os\n",
    "import datetime\n",
    "from datetime import date"
   ]
  },
  {
   "cell_type": "code",
   "execution_count": 3,
   "metadata": {
    "collapsed": false
   },
   "outputs": [],
   "source": [
    "num_analogues = 10 #number of analogues per time of interest\n",
    "num_adate = num_analogues * 2\n",
    "\n",
    "numdays = 2  #number of days in one decade\n"
   ]
  },
  {
   "cell_type": "code",
   "execution_count": 4,
   "metadata": {
    "collapsed": false
   },
   "outputs": [
    {
     "data": {
      "text/plain": [
       "datetime.date(2000, 5, 1)"
      ]
     },
     "execution_count": 4,
     "metadata": {},
     "output_type": "execute_result"
    }
   ],
   "source": [
    "datetime.date(2000, 5, 1)"
   ]
  },
  {
   "cell_type": "code",
   "execution_count": 5,
   "metadata": {
    "collapsed": false
   },
   "outputs": [
    {
     "data": {
      "text/plain": [
       "['19550201',\n",
       " '19550131',\n",
       " '19550130',\n",
       " '19550129',\n",
       " '19550128',\n",
       " '19550127',\n",
       " '19550126',\n",
       " '19550125',\n",
       " '19550124',\n",
       " '19550123',\n",
       " '19550122',\n",
       " '19550121',\n",
       " '19550120',\n",
       " '19550119',\n",
       " '19550118',\n",
       " '19550117',\n",
       " '19550116',\n",
       " '19550115',\n",
       " '19550114',\n",
       " '19550113']"
      ]
     },
     "execution_count": 5,
     "metadata": {},
     "output_type": "execute_result"
    }
   ],
   "source": [
    "#DEFINE DATE LIST FOR REF PERIOD AND DATE LIST FOR CORRESPONDING ANALOGUES\n",
    "\n",
    "#REF PERIOD - DECADE 1\n",
    "base1 = datetime.date.today() #yr 2016\n",
    "date_list1 = [base1 - datetime.timedelta(days=x) for x in range(0, numdays)]\n",
    "#str(date_list[0])\n",
    "date_list1[0].strftime(\"%Y%m%d\")\n",
    "\n",
    "for i, item in enumerate(date_list1):\n",
    "    date_list1[i] = item.strftime(\"%Y%m%d\")\n",
    "\n",
    "#date_list1\n",
    "\n",
    "#ANLG PERIOD 1 - num_analogues DAYS IN 1955\n",
    "abase1 = datetime.date(1955, 2, 1)\n",
    "adate_list1 = [abase1 - datetime.timedelta(days=x) for x in range(0, num_adate)]\n",
    "\n",
    "for i, item in enumerate(adate_list1):\n",
    "    adate_list1[i] = item.strftime(\"%Y%m%d\")\n",
    "\n",
    "adate_list1"
   ]
  },
  {
   "cell_type": "code",
   "execution_count": 6,
   "metadata": {
    "collapsed": false
   },
   "outputs": [],
   "source": [
    "#DECADE 2\n",
    "\n",
    "base2 = datetime.date(2000, 5, 1) #yr 2000\n",
    "date_list2 = [base2 - datetime.timedelta(days=x) for x in range(0, numdays)]\n",
    "\n",
    "for i, item in enumerate(date_list2):\n",
    "    date_list2[i] = item.strftime(\"%Y%m%d\")\n",
    "\n",
    "#date_list2\n",
    "\n",
    "#ANLG PERIOD 2 - num_analogues DAYS IN 1984\n",
    "abase2 = datetime.date(1984, 6, 30)\n",
    "adate_list2 = [abase2 - datetime.timedelta(days=x) for x in range(0, num_adate)]\n",
    "\n",
    "for i, item in enumerate(adate_list2):\n",
    "    adate_list2[i] = item.strftime(\"%Y%m%d\")\n",
    "\n",
    "#adate_list2"
   ]
  },
  {
   "cell_type": "code",
   "execution_count": 7,
   "metadata": {
    "collapsed": false
   },
   "outputs": [],
   "source": [
    "#DECADE 3\n",
    "\n",
    "base3 = datetime.date(1990, 7, 10) #yr 1990\n",
    "date_list3 = [base3 - datetime.timedelta(days=x) for x in range(0, numdays)]\n",
    "\n",
    "for i, item in enumerate(date_list3):\n",
    "    date_list3[i] = item.strftime(\"%Y%m%d\")\n",
    "\n",
    "#date_list3\n",
    "\n",
    "#ANLG PERIOD 3 - num_analogues DAYS IN 1968\n",
    "abase3 = datetime.date(1968, 11, 11)\n",
    "adate_list3 = [abase3 - datetime.timedelta(days=x) for x in range(0, num_adate)]\n",
    "\n",
    "for i, item in enumerate(adate_list3):\n",
    "    adate_list3[i] = item.strftime(\"%Y%m%d\")\n",
    "\n",
    "#adate_list3"
   ]
  },
  {
   "cell_type": "code",
   "execution_count": 8,
   "metadata": {
    "collapsed": false
   },
   "outputs": [],
   "source": [
    "#DECADE 4\n",
    "\n",
    "base4 = datetime.date(1970, 6, 11) #yr 1970\n",
    "date_list4 = [base4 - datetime.timedelta(days=x) for x in range(0, numdays)]\n",
    "\n",
    "for i, item in enumerate(date_list4):\n",
    "    date_list4[i] = item.strftime(\"%Y%m%d\")\n",
    "\n",
    "#date_list4\n",
    "\n",
    "#ANLG PERIOD 4 - num_analogues DAYS IN 2006\n",
    "abase4 = datetime.date(2006, 9, 15)\n",
    "adate_list4 = [abase4 - datetime.timedelta(days=x) for x in range(0, num_adate)]\n",
    "\n",
    "for i, item in enumerate(adate_list4):\n",
    "    adate_list4[i] = item.strftime(\"%Y%m%d\")\n",
    "\n",
    "#adate_list4"
   ]
  },
  {
   "cell_type": "code",
   "execution_count": 9,
   "metadata": {
    "collapsed": false
   },
   "outputs": [],
   "source": [
    "#DECADE 5\n",
    "\n",
    "base5 = datetime.date(1950, 6, 11) #yr 1950\n",
    "date_list5 = [base5 - datetime.timedelta(days=x) for x in range(0, numdays)]\n",
    "\n",
    "for i, item in enumerate(date_list5):\n",
    "    date_list5[i] = item.strftime(\"%Y%m%d\")\n",
    "\n",
    "#date_list5\n",
    "\n",
    "#ANLG PERIOD 5 - num_analogues DAYS IN 1973\n",
    "abase5 = datetime.date(1973, 8, 22)\n",
    "adate_list5 = [abase5 - datetime.timedelta(days=x) for x in range(0, num_adate)]\n",
    "\n",
    "for i, item in enumerate(adate_list5):\n",
    "    adate_list5[i] = item.strftime(\"%Y%m%d\")\n",
    "\n",
    "#adate_list5"
   ]
  },
  {
   "cell_type": "code",
   "execution_count": 10,
   "metadata": {
    "collapsed": false
   },
   "outputs": [
    {
     "data": {
      "text/plain": [
       "100"
      ]
     },
     "execution_count": 10,
     "metadata": {},
     "output_type": "execute_result"
    }
   ],
   "source": [
    "#CONCATENATE REF DAYS ACROSS DECADES\n",
    "date_list = date_list1 + date_list2 + date_list3 + date_list4 + date_list5\n",
    "date_list\n",
    "\n",
    "#CONCATENATE CORRESPONDING ANALOGUE DAYS IN EACH DECADE\n",
    "adate_list = adate_list1 + adate_list2 + adate_list3 + adate_list4 + adate_list5\n",
    "len(adate_list)"
   ]
  },
  {
   "cell_type": "code",
   "execution_count": 11,
   "metadata": {
    "collapsed": false
   },
   "outputs": [],
   "source": [
    "#my_date_list = [base - datetime.timedelta(days=x) for x in range(0, numdays)]\n",
    "#my_date_list #= [d.date() for d in my_date_list]"
   ]
  },
  {
   "cell_type": "code",
   "execution_count": 12,
   "metadata": {
    "collapsed": false
   },
   "outputs": [
    {
     "data": {
      "text/html": [
       "<div>\n",
       "<table border=\"1\" class=\"dataframe\">\n",
       "  <thead>\n",
       "    <tr style=\"text-align: right;\">\n",
       "      <th></th>\n",
       "    </tr>\n",
       "  </thead>\n",
       "  <tbody>\n",
       "    <tr>\n",
       "      <th>20160219</th>\n",
       "    </tr>\n",
       "    <tr>\n",
       "      <th>20160218</th>\n",
       "    </tr>\n",
       "    <tr>\n",
       "      <th>20000501</th>\n",
       "    </tr>\n",
       "    <tr>\n",
       "      <th>20000430</th>\n",
       "    </tr>\n",
       "    <tr>\n",
       "      <th>19900710</th>\n",
       "    </tr>\n",
       "    <tr>\n",
       "      <th>19900709</th>\n",
       "    </tr>\n",
       "    <tr>\n",
       "      <th>19700611</th>\n",
       "    </tr>\n",
       "    <tr>\n",
       "      <th>19700610</th>\n",
       "    </tr>\n",
       "    <tr>\n",
       "      <th>19500611</th>\n",
       "    </tr>\n",
       "    <tr>\n",
       "      <th>19500610</th>\n",
       "    </tr>\n",
       "  </tbody>\n",
       "</table>\n",
       "</div>"
      ],
      "text/plain": [
       "Empty DataFrame\n",
       "Columns: []\n",
       "Index: [20160219, 20160218, 20000501, 20000430, 19900710, 19900709, 19700611, 19700610, 19500611, 19500610]"
      ]
     },
     "execution_count": 12,
     "metadata": {},
     "output_type": "execute_result"
    }
   ],
   "source": [
    "#CREATE A DATAFRAME WITH INDEX = DATE LIST\n",
    "\n",
    "dfA = pd.DataFrame(index=date_list)\n",
    "dfA"
   ]
  },
  {
   "cell_type": "code",
   "execution_count": 13,
   "metadata": {
    "collapsed": false
   },
   "outputs": [
    {
     "data": {
      "text/html": [
       "<div>\n",
       "<table border=\"1\" class=\"dataframe\">\n",
       "  <thead>\n",
       "    <tr style=\"text-align: right;\">\n",
       "      <th></th>\n",
       "    </tr>\n",
       "  </thead>\n",
       "  <tbody>\n",
       "    <tr>\n",
       "      <th>20160219</th>\n",
       "    </tr>\n",
       "    <tr>\n",
       "      <th>20160219</th>\n",
       "    </tr>\n",
       "    <tr>\n",
       "      <th>20160219</th>\n",
       "    </tr>\n",
       "    <tr>\n",
       "      <th>20160219</th>\n",
       "    </tr>\n",
       "    <tr>\n",
       "      <th>20160219</th>\n",
       "    </tr>\n",
       "    <tr>\n",
       "      <th>20160219</th>\n",
       "    </tr>\n",
       "    <tr>\n",
       "      <th>20160219</th>\n",
       "    </tr>\n",
       "    <tr>\n",
       "      <th>20160219</th>\n",
       "    </tr>\n",
       "    <tr>\n",
       "      <th>20160219</th>\n",
       "    </tr>\n",
       "    <tr>\n",
       "      <th>20160219</th>\n",
       "    </tr>\n",
       "    <tr>\n",
       "      <th>20160218</th>\n",
       "    </tr>\n",
       "    <tr>\n",
       "      <th>20160218</th>\n",
       "    </tr>\n",
       "    <tr>\n",
       "      <th>20160218</th>\n",
       "    </tr>\n",
       "    <tr>\n",
       "      <th>20160218</th>\n",
       "    </tr>\n",
       "    <tr>\n",
       "      <th>20160218</th>\n",
       "    </tr>\n",
       "    <tr>\n",
       "      <th>20160218</th>\n",
       "    </tr>\n",
       "    <tr>\n",
       "      <th>20160218</th>\n",
       "    </tr>\n",
       "    <tr>\n",
       "      <th>20160218</th>\n",
       "    </tr>\n",
       "    <tr>\n",
       "      <th>20160218</th>\n",
       "    </tr>\n",
       "    <tr>\n",
       "      <th>20160218</th>\n",
       "    </tr>\n",
       "    <tr>\n",
       "      <th>20000501</th>\n",
       "    </tr>\n",
       "    <tr>\n",
       "      <th>20000501</th>\n",
       "    </tr>\n",
       "    <tr>\n",
       "      <th>20000501</th>\n",
       "    </tr>\n",
       "    <tr>\n",
       "      <th>20000501</th>\n",
       "    </tr>\n",
       "    <tr>\n",
       "      <th>20000501</th>\n",
       "    </tr>\n",
       "  </tbody>\n",
       "</table>\n",
       "</div>"
      ],
      "text/plain": [
       "Empty DataFrame\n",
       "Columns: []\n",
       "Index: [20160219, 20160219, 20160219, 20160219, 20160219, 20160219, 20160219, 20160219, 20160219, 20160219, 20160218, 20160218, 20160218, 20160218, 20160218, 20160218, 20160218, 20160218, 20160218, 20160218, 20000501, 20000501, 20000501, 20000501, 20000501]"
      ]
     },
     "execution_count": 13,
     "metadata": {},
     "output_type": "execute_result"
    }
   ],
   "source": [
    "#REPLICATE INDEX COL num_analogues TIMES PER ROW\n",
    "\n",
    "dfA = dfA.loc[np.repeat(dfA.index.values,num_analogues)]\n",
    "dfA.head(25)"
   ]
  },
  {
   "cell_type": "code",
   "execution_count": 14,
   "metadata": {
    "collapsed": false
   },
   "outputs": [
    {
     "data": {
      "text/plain": [
       "(100, 0)"
      ]
     },
     "execution_count": 14,
     "metadata": {},
     "output_type": "execute_result"
    }
   ],
   "source": [
    "dfA.shape"
   ]
  },
  {
   "cell_type": "code",
   "execution_count": 15,
   "metadata": {
    "collapsed": false
   },
   "outputs": [
    {
     "name": "stderr",
     "output_type": "stream",
     "text": [
      "/usr/lib/python2.7/site-packages/ipykernel/__main__.py:1: SettingWithCopyWarning: \n",
      "A value is trying to be set on a copy of a slice from a DataFrame.\n",
      "Try using .loc[row_indexer,col_indexer] = value instead\n",
      "\n",
      "See the caveats in the documentation: http://pandas.pydata.org/pandas-docs/stable/indexing.html#indexing-view-versus-copy\n",
      "  if __name__ == '__main__':\n"
     ]
    },
    {
     "data": {
      "text/html": [
       "<div>\n",
       "<table border=\"1\" class=\"dataframe\">\n",
       "  <thead>\n",
       "    <tr style=\"text-align: right;\">\n",
       "      <th></th>\n",
       "      <th>dateAnlg</th>\n",
       "    </tr>\n",
       "  </thead>\n",
       "  <tbody>\n",
       "    <tr>\n",
       "      <th>20160219</th>\n",
       "      <td>19550201</td>\n",
       "    </tr>\n",
       "    <tr>\n",
       "      <th>20160219</th>\n",
       "      <td>19550131</td>\n",
       "    </tr>\n",
       "    <tr>\n",
       "      <th>20160219</th>\n",
       "      <td>19550130</td>\n",
       "    </tr>\n",
       "    <tr>\n",
       "      <th>20160219</th>\n",
       "      <td>19550129</td>\n",
       "    </tr>\n",
       "    <tr>\n",
       "      <th>20160219</th>\n",
       "      <td>19550128</td>\n",
       "    </tr>\n",
       "    <tr>\n",
       "      <th>20160219</th>\n",
       "      <td>19550127</td>\n",
       "    </tr>\n",
       "    <tr>\n",
       "      <th>20160219</th>\n",
       "      <td>19550126</td>\n",
       "    </tr>\n",
       "    <tr>\n",
       "      <th>20160219</th>\n",
       "      <td>19550125</td>\n",
       "    </tr>\n",
       "    <tr>\n",
       "      <th>20160219</th>\n",
       "      <td>19550124</td>\n",
       "    </tr>\n",
       "    <tr>\n",
       "      <th>20160219</th>\n",
       "      <td>19550123</td>\n",
       "    </tr>\n",
       "    <tr>\n",
       "      <th>20160218</th>\n",
       "      <td>19550122</td>\n",
       "    </tr>\n",
       "    <tr>\n",
       "      <th>20160218</th>\n",
       "      <td>19550121</td>\n",
       "    </tr>\n",
       "    <tr>\n",
       "      <th>20160218</th>\n",
       "      <td>19550120</td>\n",
       "    </tr>\n",
       "    <tr>\n",
       "      <th>20160218</th>\n",
       "      <td>19550119</td>\n",
       "    </tr>\n",
       "    <tr>\n",
       "      <th>20160218</th>\n",
       "      <td>19550118</td>\n",
       "    </tr>\n",
       "    <tr>\n",
       "      <th>20160218</th>\n",
       "      <td>19550117</td>\n",
       "    </tr>\n",
       "    <tr>\n",
       "      <th>20160218</th>\n",
       "      <td>19550116</td>\n",
       "    </tr>\n",
       "    <tr>\n",
       "      <th>20160218</th>\n",
       "      <td>19550115</td>\n",
       "    </tr>\n",
       "    <tr>\n",
       "      <th>20160218</th>\n",
       "      <td>19550114</td>\n",
       "    </tr>\n",
       "    <tr>\n",
       "      <th>20160218</th>\n",
       "      <td>19550113</td>\n",
       "    </tr>\n",
       "    <tr>\n",
       "      <th>20000501</th>\n",
       "      <td>19840630</td>\n",
       "    </tr>\n",
       "    <tr>\n",
       "      <th>20000501</th>\n",
       "      <td>19840629</td>\n",
       "    </tr>\n",
       "    <tr>\n",
       "      <th>20000501</th>\n",
       "      <td>19840628</td>\n",
       "    </tr>\n",
       "    <tr>\n",
       "      <th>20000501</th>\n",
       "      <td>19840627</td>\n",
       "    </tr>\n",
       "    <tr>\n",
       "      <th>20000501</th>\n",
       "      <td>19840626</td>\n",
       "    </tr>\n",
       "    <tr>\n",
       "      <th>20000501</th>\n",
       "      <td>19840625</td>\n",
       "    </tr>\n",
       "    <tr>\n",
       "      <th>20000501</th>\n",
       "      <td>19840624</td>\n",
       "    </tr>\n",
       "    <tr>\n",
       "      <th>20000501</th>\n",
       "      <td>19840623</td>\n",
       "    </tr>\n",
       "    <tr>\n",
       "      <th>20000501</th>\n",
       "      <td>19840622</td>\n",
       "    </tr>\n",
       "    <tr>\n",
       "      <th>20000501</th>\n",
       "      <td>19840621</td>\n",
       "    </tr>\n",
       "    <tr>\n",
       "      <th>...</th>\n",
       "      <td>...</td>\n",
       "    </tr>\n",
       "    <tr>\n",
       "      <th>19700610</th>\n",
       "      <td>20060905</td>\n",
       "    </tr>\n",
       "    <tr>\n",
       "      <th>19700610</th>\n",
       "      <td>20060904</td>\n",
       "    </tr>\n",
       "    <tr>\n",
       "      <th>19700610</th>\n",
       "      <td>20060903</td>\n",
       "    </tr>\n",
       "    <tr>\n",
       "      <th>19700610</th>\n",
       "      <td>20060902</td>\n",
       "    </tr>\n",
       "    <tr>\n",
       "      <th>19700610</th>\n",
       "      <td>20060901</td>\n",
       "    </tr>\n",
       "    <tr>\n",
       "      <th>19700610</th>\n",
       "      <td>20060831</td>\n",
       "    </tr>\n",
       "    <tr>\n",
       "      <th>19700610</th>\n",
       "      <td>20060830</td>\n",
       "    </tr>\n",
       "    <tr>\n",
       "      <th>19700610</th>\n",
       "      <td>20060829</td>\n",
       "    </tr>\n",
       "    <tr>\n",
       "      <th>19700610</th>\n",
       "      <td>20060828</td>\n",
       "    </tr>\n",
       "    <tr>\n",
       "      <th>19700610</th>\n",
       "      <td>20060827</td>\n",
       "    </tr>\n",
       "    <tr>\n",
       "      <th>19500611</th>\n",
       "      <td>19730822</td>\n",
       "    </tr>\n",
       "    <tr>\n",
       "      <th>19500611</th>\n",
       "      <td>19730821</td>\n",
       "    </tr>\n",
       "    <tr>\n",
       "      <th>19500611</th>\n",
       "      <td>19730820</td>\n",
       "    </tr>\n",
       "    <tr>\n",
       "      <th>19500611</th>\n",
       "      <td>19730819</td>\n",
       "    </tr>\n",
       "    <tr>\n",
       "      <th>19500611</th>\n",
       "      <td>19730818</td>\n",
       "    </tr>\n",
       "    <tr>\n",
       "      <th>19500611</th>\n",
       "      <td>19730817</td>\n",
       "    </tr>\n",
       "    <tr>\n",
       "      <th>19500611</th>\n",
       "      <td>19730816</td>\n",
       "    </tr>\n",
       "    <tr>\n",
       "      <th>19500611</th>\n",
       "      <td>19730815</td>\n",
       "    </tr>\n",
       "    <tr>\n",
       "      <th>19500611</th>\n",
       "      <td>19730814</td>\n",
       "    </tr>\n",
       "    <tr>\n",
       "      <th>19500611</th>\n",
       "      <td>19730813</td>\n",
       "    </tr>\n",
       "    <tr>\n",
       "      <th>19500610</th>\n",
       "      <td>19730812</td>\n",
       "    </tr>\n",
       "    <tr>\n",
       "      <th>19500610</th>\n",
       "      <td>19730811</td>\n",
       "    </tr>\n",
       "    <tr>\n",
       "      <th>19500610</th>\n",
       "      <td>19730810</td>\n",
       "    </tr>\n",
       "    <tr>\n",
       "      <th>19500610</th>\n",
       "      <td>19730809</td>\n",
       "    </tr>\n",
       "    <tr>\n",
       "      <th>19500610</th>\n",
       "      <td>19730808</td>\n",
       "    </tr>\n",
       "    <tr>\n",
       "      <th>19500610</th>\n",
       "      <td>19730807</td>\n",
       "    </tr>\n",
       "    <tr>\n",
       "      <th>19500610</th>\n",
       "      <td>19730806</td>\n",
       "    </tr>\n",
       "    <tr>\n",
       "      <th>19500610</th>\n",
       "      <td>19730805</td>\n",
       "    </tr>\n",
       "    <tr>\n",
       "      <th>19500610</th>\n",
       "      <td>19730804</td>\n",
       "    </tr>\n",
       "    <tr>\n",
       "      <th>19500610</th>\n",
       "      <td>19730803</td>\n",
       "    </tr>\n",
       "  </tbody>\n",
       "</table>\n",
       "<p>100 rows × 1 columns</p>\n",
       "</div>"
      ],
      "text/plain": [
       "          dateAnlg\n",
       "20160219  19550201\n",
       "20160219  19550131\n",
       "20160219  19550130\n",
       "20160219  19550129\n",
       "20160219  19550128\n",
       "20160219  19550127\n",
       "20160219  19550126\n",
       "20160219  19550125\n",
       "20160219  19550124\n",
       "20160219  19550123\n",
       "20160218  19550122\n",
       "20160218  19550121\n",
       "20160218  19550120\n",
       "20160218  19550119\n",
       "20160218  19550118\n",
       "20160218  19550117\n",
       "20160218  19550116\n",
       "20160218  19550115\n",
       "20160218  19550114\n",
       "20160218  19550113\n",
       "20000501  19840630\n",
       "20000501  19840629\n",
       "20000501  19840628\n",
       "20000501  19840627\n",
       "20000501  19840626\n",
       "20000501  19840625\n",
       "20000501  19840624\n",
       "20000501  19840623\n",
       "20000501  19840622\n",
       "20000501  19840621\n",
       "...            ...\n",
       "19700610  20060905\n",
       "19700610  20060904\n",
       "19700610  20060903\n",
       "19700610  20060902\n",
       "19700610  20060901\n",
       "19700610  20060831\n",
       "19700610  20060830\n",
       "19700610  20060829\n",
       "19700610  20060828\n",
       "19700610  20060827\n",
       "19500611  19730822\n",
       "19500611  19730821\n",
       "19500611  19730820\n",
       "19500611  19730819\n",
       "19500611  19730818\n",
       "19500611  19730817\n",
       "19500611  19730816\n",
       "19500611  19730815\n",
       "19500611  19730814\n",
       "19500611  19730813\n",
       "19500610  19730812\n",
       "19500610  19730811\n",
       "19500610  19730810\n",
       "19500610  19730809\n",
       "19500610  19730808\n",
       "19500610  19730807\n",
       "19500610  19730806\n",
       "19500610  19730805\n",
       "19500610  19730804\n",
       "19500610  19730803\n",
       "\n",
       "[100 rows x 1 columns]"
      ]
     },
     "execution_count": 15,
     "metadata": {},
     "output_type": "execute_result"
    }
   ],
   "source": [
    "dfA['dateAnlg'] = adate_list\n",
    "#dfA.loc[:,'dateAnlg'] = adate_list\n",
    "dfA"
   ]
  },
  {
   "cell_type": "code",
   "execution_count": 16,
   "metadata": {
    "collapsed": false
   },
   "outputs": [
    {
     "data": {
      "text/plain": [
       "(100, 1)"
      ]
     },
     "execution_count": 16,
     "metadata": {},
     "output_type": "execute_result"
    }
   ],
   "source": [
    "dfA.shape"
   ]
  },
  {
   "cell_type": "code",
   "execution_count": 17,
   "metadata": {
    "collapsed": false
   },
   "outputs": [
    {
     "data": {
      "text/html": [
       "<div>\n",
       "<table border=\"1\" class=\"dataframe\">\n",
       "  <thead>\n",
       "    <tr style=\"text-align: right;\">\n",
       "      <th></th>\n",
       "      <th>dateAnlg</th>\n",
       "    </tr>\n",
       "    <tr>\n",
       "      <th>dateRef</th>\n",
       "      <th></th>\n",
       "    </tr>\n",
       "  </thead>\n",
       "  <tbody>\n",
       "    <tr>\n",
       "      <th>20160219</th>\n",
       "      <td>19550201</td>\n",
       "    </tr>\n",
       "    <tr>\n",
       "      <th>20160219</th>\n",
       "      <td>19550131</td>\n",
       "    </tr>\n",
       "    <tr>\n",
       "      <th>20160219</th>\n",
       "      <td>19550130</td>\n",
       "    </tr>\n",
       "    <tr>\n",
       "      <th>20160219</th>\n",
       "      <td>19550129</td>\n",
       "    </tr>\n",
       "    <tr>\n",
       "      <th>20160219</th>\n",
       "      <td>19550128</td>\n",
       "    </tr>\n",
       "    <tr>\n",
       "      <th>20160219</th>\n",
       "      <td>19550127</td>\n",
       "    </tr>\n",
       "    <tr>\n",
       "      <th>20160219</th>\n",
       "      <td>19550126</td>\n",
       "    </tr>\n",
       "    <tr>\n",
       "      <th>20160219</th>\n",
       "      <td>19550125</td>\n",
       "    </tr>\n",
       "    <tr>\n",
       "      <th>20160219</th>\n",
       "      <td>19550124</td>\n",
       "    </tr>\n",
       "    <tr>\n",
       "      <th>20160219</th>\n",
       "      <td>19550123</td>\n",
       "    </tr>\n",
       "  </tbody>\n",
       "</table>\n",
       "</div>"
      ],
      "text/plain": [
       "          dateAnlg\n",
       "dateRef           \n",
       "20160219  19550201\n",
       "20160219  19550131\n",
       "20160219  19550130\n",
       "20160219  19550129\n",
       "20160219  19550128\n",
       "20160219  19550127\n",
       "20160219  19550126\n",
       "20160219  19550125\n",
       "20160219  19550124\n",
       "20160219  19550123"
      ]
     },
     "execution_count": 17,
     "metadata": {},
     "output_type": "execute_result"
    }
   ],
   "source": [
    "dfA.index.name = 'dateRef'\n",
    "dfA.head(10)"
   ]
  },
  {
   "cell_type": "code",
   "execution_count": 18,
   "metadata": {
    "collapsed": false
   },
   "outputs": [],
   "source": [
    "#SAVE TO TSV FILE\n",
    "\n",
    "dfA.to_csv('analogues_control.tsv', sep='\\t')\n"
   ]
  },
  {
   "cell_type": "code",
   "execution_count": null,
   "metadata": {
    "collapsed": true
   },
   "outputs": [],
   "source": []
  },
  {
   "cell_type": "code",
   "execution_count": null,
   "metadata": {
    "collapsed": true
   },
   "outputs": [],
   "source": []
  }
 ],
 "metadata": {
  "kernelspec": {
   "display_name": "Python 2",
   "language": "python",
   "name": "python2"
  },
  "language_info": {
   "codemirror_mode": {
    "name": "ipython",
    "version": 2
   },
   "file_extension": ".py",
   "mimetype": "text/x-python",
   "name": "python",
   "nbconvert_exporter": "python",
   "pygments_lexer": "ipython2",
   "version": "2.7.10"
  }
 },
 "nbformat": 4,
 "nbformat_minor": 0
}
