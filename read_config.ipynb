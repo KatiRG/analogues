{
 "cells": [
  {
   "cell_type": "code",
   "execution_count": 243,
   "metadata": {
    "collapsed": false
   },
   "outputs": [],
   "source": [
    "#Created: 12.09.2016\n",
    "#Reads config file produced by analogues detection process\n",
    "#Last modified: \n",
    "#               \n"
   ]
  },
  {
   "cell_type": "code",
   "execution_count": 51,
   "metadata": {
    "collapsed": true
   },
   "outputs": [],
   "source": [
    "import numpy as np\n",
    "import pandas as pd\n",
    "import collections\n",
    "import os"
   ]
  },
  {
   "cell_type": "code",
   "execution_count": 52,
   "metadata": {
    "collapsed": true
   },
   "outputs": [],
   "source": [
    "num_analogues = 20 #number of analogues searched for\n",
    "num_cols = 3 #dateAnlg, Dis, Corr"
   ]
  },
  {
   "cell_type": "code",
   "execution_count": 53,
   "metadata": {
    "collapsed": false
   },
   "outputs": [
    {
     "data": {
      "text/html": [
       "<div style=\"max-height:1000px;max-width:1500px;overflow:auto;\">\n",
       "<table border=\"1\" class=\"dataframe\">\n",
       "  <thead>\n",
       "    <tr style=\"text-align: right;\">\n",
       "      <th></th>\n",
       "    </tr>\n",
       "    <tr>\n",
       "      <th>!Configuration file for flyingpigeon analogs process</th>\n",
       "    </tr>\n",
       "  </thead>\n",
       "  <tbody>\n",
       "    <tr>\n",
       "      <th>!Created : 20160913_134248</th>\n",
       "    </tr>\n",
       "    <tr>\n",
       "      <th>!Version : 0.1</th>\n",
       "    </tr>\n",
       "    <tr>\n",
       "      <th>&amp;FILES</th>\n",
       "    </tr>\n",
       "    <tr>\n",
       "      <th>my_files%archivefile = \"/homel/cnangini/.conda/envs/birdhouse/var/tmp/pywps-instanceptvfzp/31c5c4cc-79a7-11e6-88fc-295566a6c666.nc\"</th>\n",
       "    </tr>\n",
       "    <tr>\n",
       "      <th>my_files%simulationfile = \"/homel/cnangini/.conda/envs/birdhouse/var/tmp/pywps-instanceptvfzp/31d78d92-79a7-11e6-88fc-295566a6c666.nc\"</th>\n",
       "    </tr>\n",
       "    <tr>\n",
       "      <th>my_files%outputfile = \"/homel/cnangini/.conda/envs/birdhouse/var/tmp/pywps-instanceptvfzp/tmp6Jc4Qp.txt\"</th>\n",
       "    </tr>\n",
       "    <tr>\n",
       "      <th>/</th>\n",
       "    </tr>\n",
       "    <tr>\n",
       "      <th>&amp;PARAM</th>\n",
       "    </tr>\n",
       "    <tr>\n",
       "      <th>my_params%timewin = 1</th>\n",
       "    </tr>\n",
       "    <tr>\n",
       "      <th>my_params%varname = \"slp\"</th>\n",
       "    </tr>\n",
       "    <tr>\n",
       "      <th>my_params%seacyc = .TRUE.</th>\n",
       "    </tr>\n",
       "    <tr>\n",
       "      <th>my_params%cycsmooth = 91</th>\n",
       "    </tr>\n",
       "    <tr>\n",
       "      <th>my_params%nanalog = 11</th>\n",
       "    </tr>\n",
       "    <tr>\n",
       "      <th>my_params%seasonwin = 30</th>\n",
       "    </tr>\n",
       "    <tr>\n",
       "      <th>my_params%calccor = .TRUE.</th>\n",
       "    </tr>\n",
       "    <tr>\n",
       "      <th>my_params%oformat = \".txt\"</th>\n",
       "    </tr>\n",
       "    <tr>\n",
       "      <th>my_params%silent = .FALSE.</th>\n",
       "    </tr>\n",
       "    <tr>\n",
       "      <th>/</th>\n",
       "    </tr>\n",
       "    <tr>\n",
       "      <th>&amp;ATTS</th>\n",
       "    </tr>\n",
       "    <tr>\n",
       "      <th>my_atts%simsource = \"NCEP\"</th>\n",
       "    </tr>\n",
       "    <tr>\n",
       "      <th>my_atts%predictorvar = \"slp\"</th>\n",
       "    </tr>\n",
       "    <tr>\n",
       "      <th>my_atts%archisource = \"NCEP\"</th>\n",
       "    </tr>\n",
       "    <tr>\n",
       "      <th>my_atts%archiperiod = \"2013-01-01,2014-12-31\"</th>\n",
       "    </tr>\n",
       "    <tr>\n",
       "      <th>my_atts%predictordom = \"-80.0,50.0,22.5,70.0\"</th>\n",
       "    </tr>\n",
       "    <tr>\n",
       "      <th>/</th>\n",
       "    </tr>\n",
       "  </tbody>\n",
       "</table>\n",
       "</div>"
      ],
      "text/plain": [
       "Empty DataFrame\n",
       "Columns: []\n",
       "Index: [!Created : 20160913_134248, !Version : 0.1, &FILES, my_files%archivefile = \"/homel/cnangini/.conda/envs/birdhouse/var/tmp/pywps-instanceptvfzp/31c5c4cc-79a7-11e6-88fc-295566a6c666.nc\", my_files%simulationfile = \"/homel/cnangini/.conda/envs/birdhouse/var/tmp/pywps-instanceptvfzp/31d78d92-79a7-11e6-88fc-295566a6c666.nc\", my_files%outputfile = \"/homel/cnangini/.conda/envs/birdhouse/var/tmp/pywps-instanceptvfzp/tmp6Jc4Qp.txt\", /, &PARAM, my_params%timewin = 1, my_params%varname = \"slp\", my_params%seacyc = .TRUE., my_params%cycsmooth = 91, my_params%nanalog = 11, my_params%seasonwin = 30, my_params%calccor = .TRUE., my_params%oformat = \".txt\", my_params%silent = .FALSE., /, &ATTS, my_atts%simsource = \"NCEP\", my_atts%predictorvar = \"slp\", my_atts%archisource = \"NCEP\", my_atts%archiperiod = \"2013-01-01,2014-12-31\", my_atts%predictordom = \"-80.0,50.0,22.5,70.0\", /]"
      ]
     },
     "execution_count": 53,
     "metadata": {},
     "output_type": "execute_result"
    }
   ],
   "source": [
    "#To read file produced in birdhouse\n",
    "dfS = pd.DataFrame()\n",
    "#analogs = 'http://birdhouse-lsce.extra.cea.fr:8090/wpsoutputs/flyingpigeon/output_txt-0797016c-378e-11e6-91dd-41d8cd554993.txt'\n",
    "#analogs = 'http://localhost:8090/wpsoutputs/flyingpigeon/analogs-c26ba398-711e-11e6-8d5a-fb3204a8dad1.txt'\n",
    "\n",
    "#Analysis period > 1 year\n",
    "#analogs = 'http://birdhouse-lsce.extra.cea.fr:8090/wpsoutputs/flyingpigeon/analogs-5ee81d98-6fc9-11e6-a296-4d3fe2c8a29e.txt'\n",
    "#analogs = 'http://birdhouse-lsce.extra.cea.fr:8090/wpsoutputs/flyingpigeon/analogs-73cd782c-74f4-11e6-bf5f-f73f2a3d7e35.txt'\n",
    "#config = 'http://birdhouse-lsce.extra.cea.fr:8090/wpsoutputs/flyingpigeon/config-73cd782c-74f4-11e6-bf5f-f73f2a3d7e35.txt'\n",
    "\n",
    "#bbox x: [-80,50], y: [22.5,70], 11 analogues\n",
    "config = 'http://localhost:8090/wpsoutputs/flyingpigeon/config-12f189be-79a7-11e6-b7f7-e7ff4fd8b248.txt'\n",
    "\n",
    "#Analysis period spans two months (30.06.2013 to 02.07.2013)\n",
    "#analogs = 'http://localhost:8090/wpsoutputs/flyingpigeon/analogs-7aafc4ec-74ea-11e6-b77d-eb5606a7fe9f.txt'\n",
    "\n",
    "#one day only (03.01.2013)\n",
    "#analogs = 'http://localhost:8090/wpsoutputs/flyingpigeon/analogs-9841a808-7504-11e6-b77d-eb5606a7fe9f.txt'\n",
    "\n",
    "#dfS = pd.read_csv(analogs, delimiter=r\"\\s+\", skiprows=[15], index_col=0)\n",
    "dfC = pd.read_csv(config, delimiter=\"none\", skiprows=[15], index_col=0)\n",
    "dfC"
   ]
  },
  {
   "cell_type": "code",
   "execution_count": null,
   "metadata": {
    "collapsed": true
   },
   "outputs": [],
   "source": []
  },
  {
   "cell_type": "code",
   "execution_count": 45,
   "metadata": {
    "collapsed": false
   },
   "outputs": [
    {
     "data": {
      "text/plain": [
       "'my_params%nanalog = 20'"
      ]
     },
     "execution_count": 45,
     "metadata": {},
     "output_type": "execute_result"
    }
   ],
   "source": [
    "nanalogs = dfC.index[12]\n",
    "nanalogs"
   ]
  },
  {
   "cell_type": "code",
   "execution_count": 46,
   "metadata": {
    "collapsed": false
   },
   "outputs": [
    {
     "name": "stdout",
     "output_type": "stream",
     "text": [
      "['my_params%nanalog', '=', '20']\n"
     ]
    }
   ],
   "source": [
    "print nanalogs.split( )"
   ]
  },
  {
   "cell_type": "code",
   "execution_count": 47,
   "metadata": {
    "collapsed": false
   },
   "outputs": [
    {
     "data": {
      "text/plain": [
       "20"
      ]
     },
     "execution_count": 47,
     "metadata": {},
     "output_type": "execute_result"
    }
   ],
   "source": [
    "nanalogs = int(nanalogs.split( )[2])\n",
    "nanalogs"
   ]
  },
  {
   "cell_type": "code",
   "execution_count": 54,
   "metadata": {
    "collapsed": true
   },
   "outputs": [],
   "source": [
    "pattern = 'my_params%nanalog'"
   ]
  },
  {
   "cell_type": "code",
   "execution_count": 58,
   "metadata": {
    "collapsed": false
   },
   "outputs": [],
   "source": [
    "frame = pd.DataFrame({'a' : ['the cat is blue', 'the sky is green', 'the dog is black']})"
   ]
  },
  {
   "cell_type": "code",
   "execution_count": 59,
   "metadata": {
    "collapsed": false
   },
   "outputs": [
    {
     "data": {
      "text/html": [
       "<div style=\"max-height:1000px;max-width:1500px;overflow:auto;\">\n",
       "<table border=\"1\" class=\"dataframe\">\n",
       "  <thead>\n",
       "    <tr style=\"text-align: right;\">\n",
       "      <th></th>\n",
       "      <th>a</th>\n",
       "    </tr>\n",
       "  </thead>\n",
       "  <tbody>\n",
       "    <tr>\n",
       "      <th>0</th>\n",
       "      <td>  the cat is blue</td>\n",
       "    </tr>\n",
       "    <tr>\n",
       "      <th>1</th>\n",
       "      <td> the sky is green</td>\n",
       "    </tr>\n",
       "    <tr>\n",
       "      <th>2</th>\n",
       "      <td> the dog is black</td>\n",
       "    </tr>\n",
       "  </tbody>\n",
       "</table>\n",
       "</div>"
      ],
      "text/plain": [
       "                  a\n",
       "0   the cat is blue\n",
       "1  the sky is green\n",
       "2  the dog is black"
      ]
     },
     "execution_count": 59,
     "metadata": {},
     "output_type": "execute_result"
    }
   ],
   "source": [
    "frame"
   ]
  },
  {
   "cell_type": "code",
   "execution_count": 60,
   "metadata": {
    "collapsed": false
   },
   "outputs": [
    {
     "data": {
      "text/plain": [
       "0     True\n",
       "1    False\n",
       "2    False\n",
       "Name: a, dtype: bool"
      ]
     },
     "execution_count": 60,
     "metadata": {},
     "output_type": "execute_result"
    }
   ],
   "source": [
    "frame.a.str.contains('cat')"
   ]
  },
  {
   "cell_type": "code",
   "execution_count": 80,
   "metadata": {
    "collapsed": false
   },
   "outputs": [
    {
     "data": {
      "text/plain": [
       "(25, 0)"
      ]
     },
     "execution_count": 80,
     "metadata": {},
     "output_type": "execute_result"
    }
   ],
   "source": [
    "dfC.shape"
   ]
  },
  {
   "cell_type": "code",
   "execution_count": 90,
   "metadata": {
    "collapsed": false
   },
   "outputs": [
    {
     "data": {
      "text/plain": [
       "Index([u'!Created : 20160913_134248', u'!Version : 0.1', u'&FILES', u'my_files%archivefile = \"/homel/cnangini/.conda/envs/birdhouse/var/tmp/pywps-instanceptvfzp/31c5c4cc-79a7-11e6-88fc-295566a6c666.nc\"', u'my_files%simulationfile = \"/homel/cnangini/.conda/envs/birdhouse/var/tmp/pywps-instanceptvfzp/31d78d92-79a7-11e6-88fc-295566a6c666.nc\"', u'my_files%outputfile = \"/homel/cnangini/.conda/envs/birdhouse/var/tmp/pywps-instanceptvfzp/tmp6Jc4Qp.txt\"', u'/', u'&PARAM', u'my_params%timewin = 1', u'my_params%varname = \"slp\"', u'my_params%seacyc = .TRUE.', u'my_params%cycsmooth = 91', u'my_params%nanalog = 11', u'my_params%seasonwin = 30', u'my_params%calccor = .TRUE.', u'my_params%oformat = \".txt\"', u'my_params%silent = .FALSE.', u'/', u'&ATTS', u'my_atts%simsource = \"NCEP\"', u'my_atts%predictorvar = \"slp\"', u'my_atts%archisource = \"NCEP\"', u'my_atts%archiperiod = \"2013-01-01,2014-12-31\"', u'my_atts%predictordom = \"-80.0,50.0,22.5,70.0\"', u'/'], dtype='object')"
      ]
     },
     "execution_count": 90,
     "metadata": {},
     "output_type": "execute_result"
    }
   ],
   "source": [
    "dfC.index"
   ]
  },
  {
   "cell_type": "code",
   "execution_count": 93,
   "metadata": {
    "collapsed": false
   },
   "outputs": [
    {
     "data": {
      "text/plain": [
       "array(['!Created : 20160913_134248', '!Version : 0.1', '&FILES',\n",
       "       'my_files%archivefile = \"/homel/cnangini/.conda/envs/birdhouse/var/tmp/pywps-instanceptvfzp/31c5c4cc-79a7-11e6-88fc-295566a6c666.nc\"',\n",
       "       'my_files%simulationfile = \"/homel/cnangini/.conda/envs/birdhouse/var/tmp/pywps-instanceptvfzp/31d78d92-79a7-11e6-88fc-295566a6c666.nc\"',\n",
       "       'my_files%outputfile = \"/homel/cnangini/.conda/envs/birdhouse/var/tmp/pywps-instanceptvfzp/tmp6Jc4Qp.txt\"',\n",
       "       '/', '&PARAM', 'my_params%timewin = 1', 'my_params%varname = \"slp\"',\n",
       "       'my_params%seacyc = .TRUE.', 'my_params%cycsmooth = 91',\n",
       "       'my_params%nanalog = 11', 'my_params%seasonwin = 30',\n",
       "       'my_params%calccor = .TRUE.', 'my_params%oformat = \".txt\"',\n",
       "       'my_params%silent = .FALSE.', '/', '&ATTS',\n",
       "       'my_atts%simsource = \"NCEP\"', 'my_atts%predictorvar = \"slp\"',\n",
       "       'my_atts%archisource = \"NCEP\"',\n",
       "       'my_atts%archiperiod = \"2013-01-01,2014-12-31\"',\n",
       "       'my_atts%predictordom = \"-80.0,50.0,22.5,70.0\"', '/'], dtype=object)"
      ]
     },
     "execution_count": 93,
     "metadata": {},
     "output_type": "execute_result"
    }
   ],
   "source": [
    "dfC.index.values"
   ]
  },
  {
   "cell_type": "code",
   "execution_count": null,
   "metadata": {
    "collapsed": false
   },
   "outputs": [],
   "source": []
  },
  {
   "cell_type": "code",
   "execution_count": 99,
   "metadata": {
    "collapsed": false
   },
   "outputs": [
    {
     "data": {
      "text/plain": [
       "<bound method DataFrame.info of Empty DataFrame\n",
       "Columns: []\n",
       "Index: [!Created : 20160913_134248, !Version : 0.1, &FILES, my_files%archivefile = \"/homel/cnangini/.conda/envs/birdhouse/var/tmp/pywps-instanceptvfzp/31c5c4cc-79a7-11e6-88fc-295566a6c666.nc\", my_files%simulationfile = \"/homel/cnangini/.conda/envs/birdhouse/var/tmp/pywps-instanceptvfzp/31d78d92-79a7-11e6-88fc-295566a6c666.nc\", my_files%outputfile = \"/homel/cnangini/.conda/envs/birdhouse/var/tmp/pywps-instanceptvfzp/tmp6Jc4Qp.txt\", /, &PARAM, my_params%timewin = 1, my_params%varname = \"slp\", my_params%seacyc = .TRUE., my_params%cycsmooth = 91, my_params%nanalog = 11, my_params%seasonwin = 30, my_params%calccor = .TRUE., my_params%oformat = \".txt\", my_params%silent = .FALSE., /, &ATTS, my_atts%simsource = \"NCEP\", my_atts%predictorvar = \"slp\", my_atts%archisource = \"NCEP\", my_atts%archiperiod = \"2013-01-01,2014-12-31\", my_atts%predictordom = \"-80.0,50.0,22.5,70.0\", /]>"
      ]
     },
     "execution_count": 99,
     "metadata": {},
     "output_type": "execute_result"
    }
   ],
   "source": [
    "dfC.info"
   ]
  },
  {
   "cell_type": "code",
   "execution_count": null,
   "metadata": {
    "collapsed": false
   },
   "outputs": [],
   "source": []
  },
  {
   "cell_type": "code",
   "execution_count": null,
   "metadata": {
    "collapsed": true
   },
   "outputs": [],
   "source": []
  }
 ],
 "metadata": {
  "kernelspec": {
   "display_name": "Python 2",
   "language": "python",
   "name": "python2"
  },
  "language_info": {
   "codemirror_mode": {
    "name": "ipython",
    "version": 2
   },
   "file_extension": ".py",
   "mimetype": "text/x-python",
   "name": "python",
   "nbconvert_exporter": "python",
   "pygments_lexer": "ipython2",
   "version": "2.7.11"
  }
 },
 "nbformat": 4,
 "nbformat_minor": 0
}
