{
 "cells": [
  {
   "cell_type": "code",
   "execution_count": 243,
   "metadata": {
    "collapsed": false
   },
   "outputs": [],
   "source": [
    "#Created: 15.02.2016\n",
    "#Last modified: 18.02.2016\n",
    "#               29.02.2016 add Corr and Dis cols\n",
    "#               25.05.2016 updated input file and created truncated file for testing\n",
    "#               24.05.2016 tested reading in file produced in birdhouse analogs process\n",
    "#               05.09.2016 format test file for dc chart brush problem"
   ]
  },
  {
   "cell_type": "code",
   "execution_count": 58,
   "metadata": {
    "collapsed": true
   },
   "outputs": [],
   "source": [
    "import numpy as np\n",
    "import pandas as pd\n",
    "import collections\n",
    "import os"
   ]
  },
  {
   "cell_type": "code",
   "execution_count": 59,
   "metadata": {
    "collapsed": true
   },
   "outputs": [],
   "source": [
    "num_analogues = 20 #number of analogues searched for\n",
    "num_cols = 3 #dateAnlg, Dis, Corr"
   ]
  },
  {
   "cell_type": "code",
   "execution_count": 78,
   "metadata": {
    "collapsed": false
   },
   "outputs": [
    {
     "data": {
      "text/html": [
       "<div style=\"max-height:1000px;max-width:1500px;overflow:auto;\">\n",
       "<table border=\"1\" class=\"dataframe\">\n",
       "  <thead>\n",
       "    <tr style=\"text-align: right;\">\n",
       "      <th></th>\n",
       "      <th>date.an1</th>\n",
       "      <th>date.an2</th>\n",
       "      <th>date.an3</th>\n",
       "      <th>date.an4</th>\n",
       "      <th>date.an5</th>\n",
       "      <th>date.an6</th>\n",
       "      <th>date.an7</th>\n",
       "      <th>date.an8</th>\n",
       "      <th>date.an9</th>\n",
       "      <th>date.an10</th>\n",
       "      <th>...</th>\n",
       "      <th>cor11</th>\n",
       "      <th>cor12</th>\n",
       "      <th>cor13</th>\n",
       "      <th>cor14</th>\n",
       "      <th>cor15</th>\n",
       "      <th>cor16</th>\n",
       "      <th>cor17</th>\n",
       "      <th>cor18</th>\n",
       "      <th>cor19</th>\n",
       "      <th>cor20</th>\n",
       "    </tr>\n",
       "    <tr>\n",
       "      <th>date</th>\n",
       "      <th></th>\n",
       "      <th></th>\n",
       "      <th></th>\n",
       "      <th></th>\n",
       "      <th></th>\n",
       "      <th></th>\n",
       "      <th></th>\n",
       "      <th></th>\n",
       "      <th></th>\n",
       "      <th></th>\n",
       "      <th></th>\n",
       "      <th></th>\n",
       "      <th></th>\n",
       "      <th></th>\n",
       "      <th></th>\n",
       "      <th></th>\n",
       "      <th></th>\n",
       "      <th></th>\n",
       "      <th></th>\n",
       "      <th></th>\n",
       "      <th></th>\n",
       "    </tr>\n",
       "  </thead>\n",
       "  <tbody>\n",
       "    <tr>\n",
       "      <th>20130715</th>\n",
       "      <td> 20140617</td>\n",
       "      <td> 20140618</td>\n",
       "      <td> 20140720</td>\n",
       "      <td> 20140616</td>\n",
       "      <td> 20140718</td>\n",
       "      <td> 20140719</td>\n",
       "      <td> 20140721</td>\n",
       "      <td> 20140717</td>\n",
       "      <td> 20140615</td>\n",
       "      <td> 20140619</td>\n",
       "      <td>...</td>\n",
       "      <td> 0.040807</td>\n",
       "      <td> 0.158543</td>\n",
       "      <td> 0.273213</td>\n",
       "      <td>-0.068464</td>\n",
       "      <td>-0.210298</td>\n",
       "      <td>-0.183739</td>\n",
       "      <td> 0.202253</td>\n",
       "      <td>-0.196584</td>\n",
       "      <td> 0.082900</td>\n",
       "      <td> 0.177262</td>\n",
       "    </tr>\n",
       "    <tr>\n",
       "      <th>20130716</th>\n",
       "      <td> 20140618</td>\n",
       "      <td> 20140617</td>\n",
       "      <td> 20140619</td>\n",
       "      <td> 20140616</td>\n",
       "      <td> 20140721</td>\n",
       "      <td> 20140719</td>\n",
       "      <td> 20140720</td>\n",
       "      <td> 20140718</td>\n",
       "      <td> 20140722</td>\n",
       "      <td> 20140620</td>\n",
       "      <td>...</td>\n",
       "      <td>-0.249727</td>\n",
       "      <td> 0.282605</td>\n",
       "      <td> 0.135977</td>\n",
       "      <td> 0.248536</td>\n",
       "      <td>-0.298021</td>\n",
       "      <td> 0.151550</td>\n",
       "      <td>-0.110848</td>\n",
       "      <td> 0.110323</td>\n",
       "      <td>-0.312314</td>\n",
       "      <td>-0.269157</td>\n",
       "    </tr>\n",
       "    <tr>\n",
       "      <th>20130717</th>\n",
       "      <td> 20140619</td>\n",
       "      <td> 20140618</td>\n",
       "      <td> 20140620</td>\n",
       "      <td> 20140617</td>\n",
       "      <td> 20140722</td>\n",
       "      <td> 20140721</td>\n",
       "      <td> 20140720</td>\n",
       "      <td> 20140621</td>\n",
       "      <td> 20140723</td>\n",
       "      <td> 20140719</td>\n",
       "      <td>...</td>\n",
       "      <td>-0.148778</td>\n",
       "      <td> 0.255422</td>\n",
       "      <td>-0.153418</td>\n",
       "      <td>-0.096858</td>\n",
       "      <td>-0.068934</td>\n",
       "      <td>-0.252951</td>\n",
       "      <td>-0.067510</td>\n",
       "      <td> 0.323493</td>\n",
       "      <td>-0.137571</td>\n",
       "      <td>-0.328731</td>\n",
       "    </tr>\n",
       "    <tr>\n",
       "      <th>20130718</th>\n",
       "      <td> 20140620</td>\n",
       "      <td> 20140619</td>\n",
       "      <td> 20140621</td>\n",
       "      <td> 20140618</td>\n",
       "      <td> 20140622</td>\n",
       "      <td> 20140724</td>\n",
       "      <td> 20140723</td>\n",
       "      <td> 20140721</td>\n",
       "      <td> 20140722</td>\n",
       "      <td> 20140706</td>\n",
       "      <td>...</td>\n",
       "      <td>-0.262210</td>\n",
       "      <td>-0.245415</td>\n",
       "      <td> 0.482811</td>\n",
       "      <td> 0.071691</td>\n",
       "      <td>-0.455160</td>\n",
       "      <td>-0.311678</td>\n",
       "      <td>-0.446923</td>\n",
       "      <td>-0.180638</td>\n",
       "      <td>-0.015390</td>\n",
       "      <td>-0.403529</td>\n",
       "    </tr>\n",
       "    <tr>\n",
       "      <th>20130719</th>\n",
       "      <td> 20140621</td>\n",
       "      <td> 20140620</td>\n",
       "      <td> 20140622</td>\n",
       "      <td> 20140619</td>\n",
       "      <td> 20140706</td>\n",
       "      <td> 20140707</td>\n",
       "      <td> 20140623</td>\n",
       "      <td> 20140725</td>\n",
       "      <td> 20140802</td>\n",
       "      <td> 20140724</td>\n",
       "      <td>...</td>\n",
       "      <td>-0.410743</td>\n",
       "      <td>-0.018606</td>\n",
       "      <td>-0.448994</td>\n",
       "      <td>-0.440269</td>\n",
       "      <td> 0.310559</td>\n",
       "      <td> 0.315430</td>\n",
       "      <td> 0.168408</td>\n",
       "      <td>-0.430002</td>\n",
       "      <td>-0.221050</td>\n",
       "      <td> 0.193810</td>\n",
       "    </tr>\n",
       "  </tbody>\n",
       "</table>\n",
       "<p>5 rows × 60 columns</p>\n",
       "</div>"
      ],
      "text/plain": [
       "          date.an1  date.an2  date.an3  date.an4  date.an5  date.an6  \\\n",
       "date                                                                   \n",
       "20130715  20140617  20140618  20140720  20140616  20140718  20140719   \n",
       "20130716  20140618  20140617  20140619  20140616  20140721  20140719   \n",
       "20130717  20140619  20140618  20140620  20140617  20140722  20140721   \n",
       "20130718  20140620  20140619  20140621  20140618  20140622  20140724   \n",
       "20130719  20140621  20140620  20140622  20140619  20140706  20140707   \n",
       "\n",
       "          date.an7  date.an8  date.an9  date.an10    ...        cor11  \\\n",
       "date                                                 ...                \n",
       "20130715  20140721  20140717  20140615   20140619    ...     0.040807   \n",
       "20130716  20140720  20140718  20140722   20140620    ...    -0.249727   \n",
       "20130717  20140720  20140621  20140723   20140719    ...    -0.148778   \n",
       "20130718  20140723  20140721  20140722   20140706    ...    -0.262210   \n",
       "20130719  20140623  20140725  20140802   20140724    ...    -0.410743   \n",
       "\n",
       "             cor12     cor13     cor14     cor15     cor16     cor17  \\\n",
       "date                                                                   \n",
       "20130715  0.158543  0.273213 -0.068464 -0.210298 -0.183739  0.202253   \n",
       "20130716  0.282605  0.135977  0.248536 -0.298021  0.151550 -0.110848   \n",
       "20130717  0.255422 -0.153418 -0.096858 -0.068934 -0.252951 -0.067510   \n",
       "20130718 -0.245415  0.482811  0.071691 -0.455160 -0.311678 -0.446923   \n",
       "20130719 -0.018606 -0.448994 -0.440269  0.310559  0.315430  0.168408   \n",
       "\n",
       "             cor18     cor19     cor20  \n",
       "date                                    \n",
       "20130715 -0.196584  0.082900  0.177262  \n",
       "20130716  0.110323 -0.312314 -0.269157  \n",
       "20130717  0.323493 -0.137571 -0.328731  \n",
       "20130718 -0.180638 -0.015390 -0.403529  \n",
       "20130719 -0.430002 -0.221050  0.193810  \n",
       "\n",
       "[5 rows x 60 columns]"
      ]
     },
     "execution_count": 78,
     "metadata": {},
     "output_type": "execute_result"
    }
   ],
   "source": [
    "#To read file produced in birdhouse\n",
    "dfS = pd.DataFrame()\n",
    "#analogs = 'http://birdhouse-lsce.extra.cea.fr:8090/wpsoutputs/flyingpigeon/output_txt-0797016c-378e-11e6-91dd-41d8cd554993.txt'\n",
    "#analogs = 'http://localhost:8090/wpsoutputs/flyingpigeon/analogs-c26ba398-711e-11e6-8d5a-fb3204a8dad1.txt'\n",
    "\n",
    "#Analysis period > 1 year\n",
    "analogs = 'http://birdhouse-lsce.extra.cea.fr:8090/wpsoutputs/flyingpigeon/analogs-5ee81d98-6fc9-11e6-a296-4d3fe2c8a29e.txt'\n",
    "\n",
    "dfS = pd.read_csv(analogs, delimiter=r\"\\s+\", index_col=0)\n",
    "dfS.head()"
   ]
  },
  {
   "cell_type": "code",
   "execution_count": 79,
   "metadata": {
    "collapsed": false
   },
   "outputs": [],
   "source": [
    "# Create dataframe from analogues file\n",
    "# Latest file: /home/estimr1/yiou/estimr1/NCEP/slpano-NA.analog30rms.1d.all1948-2016.dat\n",
    "# 2015: /home/estimr1/yiou/estimr1/NCEP/slpano-NA.analog30rms.1d.all1948-2015.dat\n",
    "# Note that last day in 2015 file is 20151225 (and NOT 20151231) because that is the last sunday of Dec 2015.\n",
    "\n",
    "#dfS = pd.DataFrame()\n",
    "#dfS = pd.read_csv('/home/estimr1/yiou/estimr1/NCEP/slpano-NA.analog30rms.1d.all1948-2016.dat', delimiter=' ', index_col=0)\n",
    "#dfS.set_index('Date', inplace=True)\n",
    "\n",
    "#dfS.head(5)\n",
    "\n",
    "#dfS.index.name"
   ]
  },
  {
   "cell_type": "code",
   "execution_count": 80,
   "metadata": {
    "collapsed": false
   },
   "outputs": [
    {
     "data": {
      "text/html": [
       "<div style=\"max-height:1000px;max-width:1500px;overflow:auto;\">\n",
       "<table border=\"1\" class=\"dataframe\">\n",
       "  <thead>\n",
       "    <tr style=\"text-align: right;\">\n",
       "      <th></th>\n",
       "      <th>date.an1</th>\n",
       "      <th>date.an2</th>\n",
       "      <th>date.an3</th>\n",
       "      <th>date.an4</th>\n",
       "      <th>date.an5</th>\n",
       "      <th>date.an6</th>\n",
       "      <th>date.an7</th>\n",
       "      <th>date.an8</th>\n",
       "      <th>date.an9</th>\n",
       "      <th>date.an10</th>\n",
       "      <th>...</th>\n",
       "      <th>cor11</th>\n",
       "      <th>cor12</th>\n",
       "      <th>cor13</th>\n",
       "      <th>cor14</th>\n",
       "      <th>cor15</th>\n",
       "      <th>cor16</th>\n",
       "      <th>cor17</th>\n",
       "      <th>cor18</th>\n",
       "      <th>cor19</th>\n",
       "      <th>cor20</th>\n",
       "    </tr>\n",
       "    <tr>\n",
       "      <th>date</th>\n",
       "      <th></th>\n",
       "      <th></th>\n",
       "      <th></th>\n",
       "      <th></th>\n",
       "      <th></th>\n",
       "      <th></th>\n",
       "      <th></th>\n",
       "      <th></th>\n",
       "      <th></th>\n",
       "      <th></th>\n",
       "      <th></th>\n",
       "      <th></th>\n",
       "      <th></th>\n",
       "      <th></th>\n",
       "      <th></th>\n",
       "      <th></th>\n",
       "      <th></th>\n",
       "      <th></th>\n",
       "      <th></th>\n",
       "      <th></th>\n",
       "      <th></th>\n",
       "    </tr>\n",
       "  </thead>\n",
       "  <tbody>\n",
       "    <tr>\n",
       "      <th>20141128</th>\n",
       "      <td> 20131108</td>\n",
       "      <td> 20131107</td>\n",
       "      <td> 20131109</td>\n",
       "      <td> 20131106</td>\n",
       "      <td> 20131103</td>\n",
       "      <td> 20131104</td>\n",
       "      <td> 20131105</td>\n",
       "      <td> 20131102</td>\n",
       "      <td> 20131110</td>\n",
       "      <td> 20131031</td>\n",
       "      <td>...</td>\n",
       "      <td>-0.381940</td>\n",
       "      <td>-0.440711</td>\n",
       "      <td>-0.316047</td>\n",
       "      <td>-0.524591</td>\n",
       "      <td>-0.258546</td>\n",
       "      <td>-0.381223</td>\n",
       "      <td>-0.295259</td>\n",
       "      <td> 0.084040</td>\n",
       "      <td> 0.126356</td>\n",
       "      <td>-0.040341</td>\n",
       "    </tr>\n",
       "    <tr>\n",
       "      <th>20141129</th>\n",
       "      <td> 20131108</td>\n",
       "      <td> 20131109</td>\n",
       "      <td> 20131107</td>\n",
       "      <td> 20131110</td>\n",
       "      <td> 20131104</td>\n",
       "      <td> 20131105</td>\n",
       "      <td> 20131103</td>\n",
       "      <td> 20131106</td>\n",
       "      <td> 20131111</td>\n",
       "      <td> 20131101</td>\n",
       "      <td>...</td>\n",
       "      <td>-0.514355</td>\n",
       "      <td>-0.321692</td>\n",
       "      <td>-0.301979</td>\n",
       "      <td>-0.180112</td>\n",
       "      <td>-0.303651</td>\n",
       "      <td>-0.162655</td>\n",
       "      <td>-0.090687</td>\n",
       "      <td> 0.138101</td>\n",
       "      <td> 0.080167</td>\n",
       "      <td> 0.034663</td>\n",
       "    </tr>\n",
       "    <tr>\n",
       "      <th>20141130</th>\n",
       "      <td> 20131109</td>\n",
       "      <td> 20131110</td>\n",
       "      <td> 20131108</td>\n",
       "      <td> 20131111</td>\n",
       "      <td> 20131105</td>\n",
       "      <td> 20131107</td>\n",
       "      <td> 20131104</td>\n",
       "      <td> 20131106</td>\n",
       "      <td> 20131112</td>\n",
       "      <td> 20131103</td>\n",
       "      <td>...</td>\n",
       "      <td>-0.445715</td>\n",
       "      <td>-0.235280</td>\n",
       "      <td>-0.104036</td>\n",
       "      <td>-0.235899</td>\n",
       "      <td>-0.045316</td>\n",
       "      <td> 0.266942</td>\n",
       "      <td>-0.178383</td>\n",
       "      <td>-0.119108</td>\n",
       "      <td>-0.019754</td>\n",
       "      <td> 0.005755</td>\n",
       "    </tr>\n",
       "    <tr>\n",
       "      <th>20141201</th>\n",
       "      <td> 20131110</td>\n",
       "      <td> 20131111</td>\n",
       "      <td> 20131109</td>\n",
       "      <td> 20131112</td>\n",
       "      <td> 20131108</td>\n",
       "      <td> 20131105</td>\n",
       "      <td> 20131106</td>\n",
       "      <td> 20131107</td>\n",
       "      <td> 20131113</td>\n",
       "      <td> 20131103</td>\n",
       "      <td>...</td>\n",
       "      <td>-0.292975</td>\n",
       "      <td>-0.100933</td>\n",
       "      <td>-0.048313</td>\n",
       "      <td> 0.225721</td>\n",
       "      <td> 0.465037</td>\n",
       "      <td>-0.254059</td>\n",
       "      <td> 0.154388</td>\n",
       "      <td>-0.149590</td>\n",
       "      <td> 0.122966</td>\n",
       "      <td>-0.160139</td>\n",
       "    </tr>\n",
       "    <tr>\n",
       "      <th>20141202</th>\n",
       "      <td> 20131111</td>\n",
       "      <td> 20131112</td>\n",
       "      <td> 20131110</td>\n",
       "      <td> 20131113</td>\n",
       "      <td> 20131109</td>\n",
       "      <td> 20131108</td>\n",
       "      <td> 20131107</td>\n",
       "      <td> 20131106</td>\n",
       "      <td> 20131114</td>\n",
       "      <td> 20131104</td>\n",
       "      <td>...</td>\n",
       "      <td> 0.045430</td>\n",
       "      <td> 0.001527</td>\n",
       "      <td>-0.222373</td>\n",
       "      <td> 0.496559</td>\n",
       "      <td>-0.280027</td>\n",
       "      <td> 0.320055</td>\n",
       "      <td>-0.010179</td>\n",
       "      <td> 0.219799</td>\n",
       "      <td>-0.090785</td>\n",
       "      <td> 0.166583</td>\n",
       "    </tr>\n",
       "  </tbody>\n",
       "</table>\n",
       "<p>5 rows × 60 columns</p>\n",
       "</div>"
      ],
      "text/plain": [
       "          date.an1  date.an2  date.an3  date.an4  date.an5  date.an6  \\\n",
       "date                                                                   \n",
       "20141128  20131108  20131107  20131109  20131106  20131103  20131104   \n",
       "20141129  20131108  20131109  20131107  20131110  20131104  20131105   \n",
       "20141130  20131109  20131110  20131108  20131111  20131105  20131107   \n",
       "20141201  20131110  20131111  20131109  20131112  20131108  20131105   \n",
       "20141202  20131111  20131112  20131110  20131113  20131109  20131108   \n",
       "\n",
       "          date.an7  date.an8  date.an9  date.an10    ...        cor11  \\\n",
       "date                                                 ...                \n",
       "20141128  20131105  20131102  20131110   20131031    ...    -0.381940   \n",
       "20141129  20131103  20131106  20131111   20131101    ...    -0.514355   \n",
       "20141130  20131104  20131106  20131112   20131103    ...    -0.445715   \n",
       "20141201  20131106  20131107  20131113   20131103    ...    -0.292975   \n",
       "20141202  20131107  20131106  20131114   20131104    ...     0.045430   \n",
       "\n",
       "             cor12     cor13     cor14     cor15     cor16     cor17  \\\n",
       "date                                                                   \n",
       "20141128 -0.440711 -0.316047 -0.524591 -0.258546 -0.381223 -0.295259   \n",
       "20141129 -0.321692 -0.301979 -0.180112 -0.303651 -0.162655 -0.090687   \n",
       "20141130 -0.235280 -0.104036 -0.235899 -0.045316  0.266942 -0.178383   \n",
       "20141201 -0.100933 -0.048313  0.225721  0.465037 -0.254059  0.154388   \n",
       "20141202  0.001527 -0.222373  0.496559 -0.280027  0.320055 -0.010179   \n",
       "\n",
       "             cor18     cor19     cor20  \n",
       "date                                    \n",
       "20141128  0.084040  0.126356 -0.040341  \n",
       "20141129  0.138101  0.080167  0.034663  \n",
       "20141130 -0.119108 -0.019754  0.005755  \n",
       "20141201 -0.149590  0.122966 -0.160139  \n",
       "20141202  0.219799 -0.090785  0.166583  \n",
       "\n",
       "[5 rows x 60 columns]"
      ]
     },
     "execution_count": 80,
     "metadata": {},
     "output_type": "execute_result"
    }
   ],
   "source": [
    "dfS.tail(5)"
   ]
  },
  {
   "cell_type": "code",
   "execution_count": 81,
   "metadata": {
    "collapsed": false
   },
   "outputs": [
    {
     "data": {
      "text/plain": [
       "Int64Index([20130715, 20130716, 20130717, 20130718, 20130719, 20130720, 20130721, 20130722, 20130723, 20130724, 20130725, 20130726, 20130727, 20130728, 20130729, 20130730, 20130731, 20130801, 20130802, 20130803, 20130804, 20130805, 20130806, 20130807, 20130808, 20130809, 20130810, 20130811, 20130812, 20130813, 20130814, 20130815, 20130816, 20130817, 20130818, 20130819, 20130820, 20130821, 20130822, 20130823, 20130824, 20130825, 20130826, 20130827, 20130828, 20130829, 20130830, 20130831, 20130901, 20130902, 20130903, 20130904, 20130905, 20130906, 20130907, 20130908, 20130909, 20130910, 20130911, 20130912, 20130913, 20130914, 20130915, 20130916, 20130917, 20130918, 20130919, 20130920, 20130921, 20130922, 20130923, 20130924, 20130925, 20130926, 20130927, 20130928, 20130929, 20130930, 20131001, 20131002, 20131003, 20131004, 20131005, 20131006, 20131007, 20131008, 20131009, 20131010, 20131011, 20131012, 20131013, 20131014, 20131015, 20131016, 20131017, 20131018, 20131019, 20131020, 20131021, 20131022, ...], dtype='int64')"
      ]
     },
     "execution_count": 81,
     "metadata": {},
     "output_type": "execute_result"
    }
   ],
   "source": [
    "dfS.index"
   ]
  },
  {
   "cell_type": "code",
   "execution_count": 82,
   "metadata": {
    "collapsed": false
   },
   "outputs": [
    {
     "data": {
      "text/plain": [
       "506"
      ]
     },
     "execution_count": 82,
     "metadata": {},
     "output_type": "execute_result"
    }
   ],
   "source": [
    "len(dfS.index)"
   ]
  },
  {
   "cell_type": "code",
   "execution_count": 83,
   "metadata": {
    "collapsed": false
   },
   "outputs": [],
   "source": [
    "#Chop off 2016 rows NO!!! there will still be 2016 dates found as analogues, which messes up js script\n",
    "#dfS = dfS[dfS.index <= 20151231]"
   ]
  },
  {
   "cell_type": "code",
   "execution_count": 84,
   "metadata": {
    "collapsed": false
   },
   "outputs": [
    {
     "data": {
      "text/plain": [
       "date\n",
       "20130715    20130715\n",
       "20130716    20130716\n",
       "20130717    20130717\n",
       "20130718    20130718\n",
       "20130719    20130719\n",
       "20130720    20130720\n",
       "20130721    20130721\n",
       "20130722    20130722\n",
       "20130723    20130723\n",
       "20130724    20130724\n",
       "Name: dateRef, dtype: int64"
      ]
     },
     "execution_count": 84,
     "metadata": {},
     "output_type": "execute_result"
    }
   ],
   "source": [
    "#SAVE DATE INDEX\n",
    "#DF['id2'] = DF.index\n",
    "dfS['dateRef'] = dfS.index\n",
    "dfS['dateRef'].head(10)"
   ]
  },
  {
   "cell_type": "code",
   "execution_count": 85,
   "metadata": {
    "collapsed": false
   },
   "outputs": [],
   "source": [
    "#TRANSPOSE ANLG DATE COLS INTO SINGLE COL\n",
    "\n",
    "#Define temporary df containing only anlg dates cols\n",
    "df_anlg = dfS.iloc[:, 0:20]\n",
    "\n",
    "#remove index name before transpose (stack)\n",
    "df_anlg.index.name = \"\"\n",
    "\n",
    "#transpose (stack)into single col\n",
    "dateStack = df_anlg.stack()\n",
    "#dateStack"
   ]
  },
  {
   "cell_type": "code",
   "execution_count": 86,
   "metadata": {
    "collapsed": false
   },
   "outputs": [
    {
     "data": {
      "text/plain": [
       "20130715  dis1    18399.063\n",
       "          dis2    18701.893\n",
       "          dis3    18872.632\n",
       "          dis4    18873.726\n",
       "          dis5    18904.398\n",
       "dtype: float64"
      ]
     },
     "execution_count": 86,
     "metadata": {},
     "output_type": "execute_result"
    }
   ],
   "source": [
    "#TRANSPOSE DIS COLS INTO SINGLE COL\n",
    "\n",
    "#Define temporary df containing only dis cols\n",
    "df_dis = dfS.iloc[:, 20:40]\n",
    "\n",
    "#remove index name before transpose (stack)\n",
    "df_dis.index.name = \"\"\n",
    "\n",
    "#transpose (stack) into single col and take absolute value\n",
    "disStack = df_dis.stack().abs()\n",
    "disStack.head(5)"
   ]
  },
  {
   "cell_type": "code",
   "execution_count": 87,
   "metadata": {
    "collapsed": false
   },
   "outputs": [
    {
     "data": {
      "text/plain": [
       "20130715  cor1    0.028666\n",
       "          cor2    0.132599\n",
       "          cor3   -0.249644\n",
       "          cor4    0.019138\n",
       "          cor5   -0.296871\n",
       "dtype: float64"
      ]
     },
     "execution_count": 87,
     "metadata": {},
     "output_type": "execute_result"
    }
   ],
   "source": [
    "#TRANSPOSE CORR COLS INTO SINGLE COL\n",
    "\n",
    "#Define temporary df containing only corr cols\n",
    "df_corr = dfS.iloc[:, 40:60]\n",
    "\n",
    "#remove index name before transpose (stack)\n",
    "df_corr.index.name = \"\"\n",
    "\n",
    "#transpose (stack) into single col\n",
    "corrStack = df_corr.stack()\n",
    "corrStack.head(5)"
   ]
  },
  {
   "cell_type": "code",
   "execution_count": 88,
   "metadata": {
    "collapsed": true
   },
   "outputs": [],
   "source": [
    "#BUILD NEW DF IN CORRECT FORMAT\n",
    "\n",
    "#CREATE DF OF CORRECT DIMENSIONS (n x num_cols)\n",
    "df_all = dfS.iloc[:, 0:num_cols]\n",
    "#rename cols\n",
    "df_all.columns = ['dateAnlg', 'Dis', 'Corr']"
   ]
  },
  {
   "cell_type": "code",
   "execution_count": 89,
   "metadata": {
    "collapsed": false
   },
   "outputs": [
    {
     "data": {
      "text/html": [
       "<div style=\"max-height:1000px;max-width:1500px;overflow:auto;\">\n",
       "<table border=\"1\" class=\"dataframe\">\n",
       "  <thead>\n",
       "    <tr style=\"text-align: right;\">\n",
       "      <th></th>\n",
       "      <th>dateAnlg</th>\n",
       "      <th>Dis</th>\n",
       "      <th>Corr</th>\n",
       "    </tr>\n",
       "    <tr>\n",
       "      <th></th>\n",
       "      <th></th>\n",
       "      <th></th>\n",
       "      <th></th>\n",
       "    </tr>\n",
       "  </thead>\n",
       "  <tbody>\n",
       "    <tr>\n",
       "      <th>20130715</th>\n",
       "      <td> 20140617</td>\n",
       "      <td> 20140618</td>\n",
       "      <td> 20140720</td>\n",
       "    </tr>\n",
       "    <tr>\n",
       "      <th>20130716</th>\n",
       "      <td> 20140618</td>\n",
       "      <td> 20140617</td>\n",
       "      <td> 20140619</td>\n",
       "    </tr>\n",
       "    <tr>\n",
       "      <th>20130717</th>\n",
       "      <td> 20140619</td>\n",
       "      <td> 20140618</td>\n",
       "      <td> 20140620</td>\n",
       "    </tr>\n",
       "    <tr>\n",
       "      <th>20130718</th>\n",
       "      <td> 20140620</td>\n",
       "      <td> 20140619</td>\n",
       "      <td> 20140621</td>\n",
       "    </tr>\n",
       "    <tr>\n",
       "      <th>20130719</th>\n",
       "      <td> 20140621</td>\n",
       "      <td> 20140620</td>\n",
       "      <td> 20140622</td>\n",
       "    </tr>\n",
       "  </tbody>\n",
       "</table>\n",
       "</div>"
      ],
      "text/plain": [
       "          dateAnlg       Dis      Corr\n",
       "                                      \n",
       "20130715  20140617  20140618  20140720\n",
       "20130716  20140618  20140617  20140619\n",
       "20130717  20140619  20140618  20140620\n",
       "20130718  20140620  20140619  20140621\n",
       "20130719  20140621  20140620  20140622"
      ]
     },
     "execution_count": 89,
     "metadata": {},
     "output_type": "execute_result"
    }
   ],
   "source": [
    "#dfS.index.tolist()\n",
    "df_all.head(5)"
   ]
  },
  {
   "cell_type": "code",
   "execution_count": 90,
   "metadata": {
    "collapsed": false
   },
   "outputs": [
    {
     "data": {
      "text/html": [
       "<div style=\"max-height:1000px;max-width:1500px;overflow:auto;\">\n",
       "<table border=\"1\" class=\"dataframe\">\n",
       "  <thead>\n",
       "    <tr style=\"text-align: right;\">\n",
       "      <th></th>\n",
       "      <th>dateAnlg</th>\n",
       "      <th>Dis</th>\n",
       "      <th>Corr</th>\n",
       "    </tr>\n",
       "    <tr>\n",
       "      <th>dateRef</th>\n",
       "      <th></th>\n",
       "      <th></th>\n",
       "      <th></th>\n",
       "    </tr>\n",
       "  </thead>\n",
       "  <tbody>\n",
       "    <tr>\n",
       "      <th>20130715</th>\n",
       "      <td> 20140617</td>\n",
       "      <td> 20140618</td>\n",
       "      <td> 20140720</td>\n",
       "    </tr>\n",
       "    <tr>\n",
       "      <th>20130716</th>\n",
       "      <td> 20140618</td>\n",
       "      <td> 20140617</td>\n",
       "      <td> 20140619</td>\n",
       "    </tr>\n",
       "    <tr>\n",
       "      <th>20130717</th>\n",
       "      <td> 20140619</td>\n",
       "      <td> 20140618</td>\n",
       "      <td> 20140620</td>\n",
       "    </tr>\n",
       "    <tr>\n",
       "      <th>20130718</th>\n",
       "      <td> 20140620</td>\n",
       "      <td> 20140619</td>\n",
       "      <td> 20140621</td>\n",
       "    </tr>\n",
       "    <tr>\n",
       "      <th>20130719</th>\n",
       "      <td> 20140621</td>\n",
       "      <td> 20140620</td>\n",
       "      <td> 20140622</td>\n",
       "    </tr>\n",
       "    <tr>\n",
       "      <th>20130720</th>\n",
       "      <td> 20140622</td>\n",
       "      <td> 20140621</td>\n",
       "      <td> 20140620</td>\n",
       "    </tr>\n",
       "    <tr>\n",
       "      <th>20130721</th>\n",
       "      <td> 20140623</td>\n",
       "      <td> 20140622</td>\n",
       "      <td> 20140621</td>\n",
       "    </tr>\n",
       "    <tr>\n",
       "      <th>20130722</th>\n",
       "      <td> 20140624</td>\n",
       "      <td> 20140623</td>\n",
       "      <td> 20140622</td>\n",
       "    </tr>\n",
       "    <tr>\n",
       "      <th>20130723</th>\n",
       "      <td> 20140625</td>\n",
       "      <td> 20140624</td>\n",
       "      <td> 20140623</td>\n",
       "    </tr>\n",
       "    <tr>\n",
       "      <th>20130724</th>\n",
       "      <td> 20140625</td>\n",
       "      <td> 20140626</td>\n",
       "      <td> 20140624</td>\n",
       "    </tr>\n",
       "  </tbody>\n",
       "</table>\n",
       "</div>"
      ],
      "text/plain": [
       "          dateAnlg       Dis      Corr\n",
       "dateRef                               \n",
       "20130715  20140617  20140618  20140720\n",
       "20130716  20140618  20140617  20140619\n",
       "20130717  20140619  20140618  20140620\n",
       "20130718  20140620  20140619  20140621\n",
       "20130719  20140621  20140620  20140622\n",
       "20130720  20140622  20140621  20140620\n",
       "20130721  20140623  20140622  20140621\n",
       "20130722  20140624  20140623  20140622\n",
       "20130723  20140625  20140624  20140623\n",
       "20130724  20140625  20140626  20140624"
      ]
     },
     "execution_count": 90,
     "metadata": {},
     "output_type": "execute_result"
    }
   ],
   "source": [
    "df_all = df_all.set_index(dfS['dateRef'] )\n",
    "df_all.head(10)"
   ]
  },
  {
   "cell_type": "code",
   "execution_count": 91,
   "metadata": {
    "collapsed": false
   },
   "outputs": [],
   "source": [
    "#REPLICATE INDEX COL 20 TIMES PER ROW\n",
    "\n",
    "#http://stackoverflow.com/questions/26777832/replicating-rows-in-a-pandas-data-frame-by-a-column-value\n",
    "#df2 = df.loc[np.repeat(df.index.values,df.n)]\n",
    "df_all = df_all.loc[np.repeat(df_all.index.values,num_analogues)]"
   ]
  },
  {
   "cell_type": "code",
   "execution_count": 92,
   "metadata": {
    "collapsed": false
   },
   "outputs": [
    {
     "data": {
      "text/html": [
       "<div style=\"max-height:1000px;max-width:1500px;overflow:auto;\">\n",
       "<table border=\"1\" class=\"dataframe\">\n",
       "  <thead>\n",
       "    <tr style=\"text-align: right;\">\n",
       "      <th></th>\n",
       "      <th>dateAnlg</th>\n",
       "      <th>Dis</th>\n",
       "      <th>Corr</th>\n",
       "    </tr>\n",
       "    <tr>\n",
       "      <th>dateRef</th>\n",
       "      <th></th>\n",
       "      <th></th>\n",
       "      <th></th>\n",
       "    </tr>\n",
       "  </thead>\n",
       "  <tbody>\n",
       "    <tr>\n",
       "      <th>20130715</th>\n",
       "      <td> 20140617</td>\n",
       "      <td> 18399.063</td>\n",
       "      <td> 0.028666</td>\n",
       "    </tr>\n",
       "    <tr>\n",
       "      <th>20130715</th>\n",
       "      <td> 20140618</td>\n",
       "      <td> 18701.893</td>\n",
       "      <td> 0.132599</td>\n",
       "    </tr>\n",
       "    <tr>\n",
       "      <th>20130715</th>\n",
       "      <td> 20140720</td>\n",
       "      <td> 18872.632</td>\n",
       "      <td>-0.249644</td>\n",
       "    </tr>\n",
       "    <tr>\n",
       "      <th>20130715</th>\n",
       "      <td> 20140616</td>\n",
       "      <td> 18873.726</td>\n",
       "      <td> 0.019138</td>\n",
       "    </tr>\n",
       "    <tr>\n",
       "      <th>20130715</th>\n",
       "      <td> 20140718</td>\n",
       "      <td> 18904.398</td>\n",
       "      <td>-0.296871</td>\n",
       "    </tr>\n",
       "  </tbody>\n",
       "</table>\n",
       "</div>"
      ],
      "text/plain": [
       "          dateAnlg        Dis      Corr\n",
       "dateRef                                \n",
       "20130715  20140617  18399.063  0.028666\n",
       "20130715  20140618  18701.893  0.132599\n",
       "20130715  20140720  18872.632 -0.249644\n",
       "20130715  20140616  18873.726  0.019138\n",
       "20130715  20140718  18904.398 -0.296871"
      ]
     },
     "execution_count": 92,
     "metadata": {},
     "output_type": "execute_result"
    }
   ],
   "source": [
    "#REPLACE COLS WITH STACKED ANLG DATES, DIS AND CORR\n",
    "df_all.iloc[:,0] = list(dateStack)\n",
    "df_all.iloc[:,1] = list(disStack)\n",
    "df_all.iloc[:,2] = list(corrStack)\n",
    "df_all.head(5)"
   ]
  },
  {
   "cell_type": "code",
   "execution_count": 93,
   "metadata": {
    "collapsed": false
   },
   "outputs": [
    {
     "data": {
      "text/plain": [
       "(10120, 3)"
      ]
     },
     "execution_count": 93,
     "metadata": {},
     "output_type": "execute_result"
    }
   ],
   "source": [
    "df_all.shape"
   ]
  },
  {
   "cell_type": "code",
   "execution_count": 94,
   "metadata": {
    "collapsed": false,
    "scrolled": true
   },
   "outputs": [
    {
     "data": {
      "text/html": [
       "<div style=\"max-height:1000px;max-width:1500px;overflow:auto;\">\n",
       "<table border=\"1\" class=\"dataframe\">\n",
       "  <thead>\n",
       "    <tr style=\"text-align: right;\">\n",
       "      <th></th>\n",
       "      <th>dateAnlg</th>\n",
       "      <th>Dis</th>\n",
       "      <th>Corr</th>\n",
       "    </tr>\n",
       "    <tr>\n",
       "      <th>dateRef</th>\n",
       "      <th></th>\n",
       "      <th></th>\n",
       "      <th></th>\n",
       "    </tr>\n",
       "  </thead>\n",
       "  <tbody>\n",
       "    <tr>\n",
       "      <th>20141202</th>\n",
       "      <td> 20131116</td>\n",
       "      <td> 41676.696</td>\n",
       "      <td> 0.320055</td>\n",
       "    </tr>\n",
       "    <tr>\n",
       "      <th>20141202</th>\n",
       "      <td> 20131227</td>\n",
       "      <td> 41764.615</td>\n",
       "      <td>-0.010179</td>\n",
       "    </tr>\n",
       "    <tr>\n",
       "      <th>20141202</th>\n",
       "      <td> 20131117</td>\n",
       "      <td> 42008.494</td>\n",
       "      <td> 0.219799</td>\n",
       "    </tr>\n",
       "    <tr>\n",
       "      <th>20141202</th>\n",
       "      <td> 20131225</td>\n",
       "      <td> 42477.269</td>\n",
       "      <td>-0.090785</td>\n",
       "    </tr>\n",
       "    <tr>\n",
       "      <th>20141202</th>\n",
       "      <td> 20131118</td>\n",
       "      <td> 42534.134</td>\n",
       "      <td> 0.166583</td>\n",
       "    </tr>\n",
       "  </tbody>\n",
       "</table>\n",
       "</div>"
      ],
      "text/plain": [
       "          dateAnlg        Dis      Corr\n",
       "dateRef                                \n",
       "20141202  20131116  41676.696  0.320055\n",
       "20141202  20131227  41764.615 -0.010179\n",
       "20141202  20131117  42008.494  0.219799\n",
       "20141202  20131225  42477.269 -0.090785\n",
       "20141202  20131118  42534.134  0.166583"
      ]
     },
     "execution_count": 94,
     "metadata": {},
     "output_type": "execute_result"
    }
   ],
   "source": [
    "df_all.tail(5)"
   ]
  },
  {
   "cell_type": "code",
   "execution_count": 33,
   "metadata": {
    "collapsed": true
   },
   "outputs": [],
   "source": [
    "#dfS_select = df_all[df_all.index <= 19600101]"
   ]
  },
  {
   "cell_type": "code",
   "execution_count": 95,
   "metadata": {
    "collapsed": false
   },
   "outputs": [],
   "source": [
    "#SAVE TO CSV FILE\n",
    "\n",
    "#df_all.to_csv('analogues_19480101_20151225.json', float_format='%.2f', sep='\\t')\n",
    "#df_all.to_csv('test2.json', float_format='%.2f', sep='\\t')\n",
    "df_all.to_csv('test_gt1yr.json', float_format='%.2f', sep='\\t')\n",
    "\n",
    "#df_all.to_csv('analogues_19480101_20160520.json', float_format='%.2f', sep='\\t')\n",
    "\n",
    "#dfS_select.to_csv('analogues_select.json', float_format='%.2f', sep='\\t')"
   ]
  },
  {
   "cell_type": "code",
   "execution_count": 77,
   "metadata": {
    "collapsed": false
   },
   "outputs": [
    {
     "data": {
      "text/plain": [
       "u'/homel/cnangini/PROJECTS/analogues'"
      ]
     },
     "execution_count": 77,
     "metadata": {},
     "output_type": "execute_result"
    }
   ],
   "source": [
    "pwd"
   ]
  },
  {
   "cell_type": "code",
   "execution_count": 86,
   "metadata": {
    "collapsed": false
   },
   "outputs": [
    {
     "name": "stdout",
     "output_type": "stream",
     "text": [
      "-0.0773818303236 0.952985818969\n"
     ]
    }
   ],
   "source": [
    "print df_all['Corr'].min(), df_all['Corr'].max()"
   ]
  },
  {
   "cell_type": "code",
   "execution_count": 87,
   "metadata": {
    "collapsed": false
   },
   "outputs": [
    {
     "name": "stdout",
     "output_type": "stream",
     "text": [
      "284.431297359 1369.41118104\n"
     ]
    }
   ],
   "source": [
    "print df_all['Dis'].min(), df_all['Dis'].max()"
   ]
  },
  {
   "cell_type": "code",
   "execution_count": 31,
   "metadata": {
    "collapsed": false
   },
   "outputs": [],
   "source": [
    "#check 1970-1979\n",
    "df_check =  df_all[ (df_all['dateAnlg'] >= 19700101) & (df_all['dateAnlg'] <= 19791231) ]\n",
    "\n",
    "\n",
    "#((df['column1']=='banana') & (df['colour']=='green'))"
   ]
  },
  {
   "cell_type": "code",
   "execution_count": 32,
   "metadata": {
    "collapsed": false
   },
   "outputs": [
    {
     "data": {
      "text/plain": [
       "(75935, 3)"
      ]
     },
     "execution_count": 32,
     "metadata": {},
     "output_type": "execute_result"
    }
   ],
   "source": [
    "df_check.shape"
   ]
  },
  {
   "cell_type": "code",
   "execution_count": 33,
   "metadata": {
    "collapsed": true
   },
   "outputs": [],
   "source": [
    "df_check =  df_all[ (df_all['dateAnlg'] >= 20100101) & (df_all['dateAnlg'] <= 20191231) ]"
   ]
  },
  {
   "cell_type": "code",
   "execution_count": 34,
   "metadata": {
    "collapsed": false
   },
   "outputs": [
    {
     "data": {
      "text/plain": [
       "(44554, 3)"
      ]
     },
     "execution_count": 34,
     "metadata": {},
     "output_type": "execute_result"
    }
   ],
   "source": [
    "df_check.shape"
   ]
  },
  {
   "cell_type": "code",
   "execution_count": 35,
   "metadata": {
    "collapsed": false
   },
   "outputs": [],
   "source": [
    "#cut file for testing purposes\n",
    "df_select = df_all.iloc[19000:19100,:]"
   ]
  },
  {
   "cell_type": "code",
   "execution_count": 36,
   "metadata": {
    "collapsed": false
   },
   "outputs": [
    {
     "data": {
      "text/plain": [
       "(100, 3)"
      ]
     },
     "execution_count": 36,
     "metadata": {},
     "output_type": "execute_result"
    }
   ],
   "source": [
    "df_select.shape"
   ]
  },
  {
   "cell_type": "code",
   "execution_count": 37,
   "metadata": {
    "collapsed": false
   },
   "outputs": [
    {
     "data": {
      "text/html": [
       "<div>\n",
       "<table border=\"1\" class=\"dataframe\">\n",
       "  <thead>\n",
       "    <tr style=\"text-align: right;\">\n",
       "      <th></th>\n",
       "      <th>dateAnlg</th>\n",
       "      <th>Dis</th>\n",
       "      <th>Corr</th>\n",
       "    </tr>\n",
       "    <tr>\n",
       "      <th>dateRef</th>\n",
       "      <th></th>\n",
       "      <th></th>\n",
       "      <th></th>\n",
       "    </tr>\n",
       "  </thead>\n",
       "  <tbody>\n",
       "    <tr>\n",
       "      <th>19500812</th>\n",
       "      <td>19840828</td>\n",
       "      <td>449.988840</td>\n",
       "      <td>0.546204</td>\n",
       "    </tr>\n",
       "    <tr>\n",
       "      <th>19500812</th>\n",
       "      <td>19590909</td>\n",
       "      <td>453.044659</td>\n",
       "      <td>0.612506</td>\n",
       "    </tr>\n",
       "    <tr>\n",
       "      <th>19500812</th>\n",
       "      <td>20030819</td>\n",
       "      <td>453.638210</td>\n",
       "      <td>0.559760</td>\n",
       "    </tr>\n",
       "    <tr>\n",
       "      <th>19500812</th>\n",
       "      <td>19970801</td>\n",
       "      <td>457.039066</td>\n",
       "      <td>0.597291</td>\n",
       "    </tr>\n",
       "    <tr>\n",
       "      <th>19500812</th>\n",
       "      <td>19980815</td>\n",
       "      <td>459.252587</td>\n",
       "      <td>0.534387</td>\n",
       "    </tr>\n",
       "    <tr>\n",
       "      <th>19500812</th>\n",
       "      <td>19990829</td>\n",
       "      <td>466.308358</td>\n",
       "      <td>0.580896</td>\n",
       "    </tr>\n",
       "    <tr>\n",
       "      <th>19500812</th>\n",
       "      <td>19510820</td>\n",
       "      <td>466.860763</td>\n",
       "      <td>0.727749</td>\n",
       "    </tr>\n",
       "    <tr>\n",
       "      <th>19500812</th>\n",
       "      <td>20130816</td>\n",
       "      <td>467.150673</td>\n",
       "      <td>0.623782</td>\n",
       "    </tr>\n",
       "    <tr>\n",
       "      <th>19500812</th>\n",
       "      <td>19990717</td>\n",
       "      <td>471.338490</td>\n",
       "      <td>0.571134</td>\n",
       "    </tr>\n",
       "    <tr>\n",
       "      <th>19500812</th>\n",
       "      <td>19790816</td>\n",
       "      <td>471.416637</td>\n",
       "      <td>0.661347</td>\n",
       "    </tr>\n",
       "  </tbody>\n",
       "</table>\n",
       "</div>"
      ],
      "text/plain": [
       "          dateAnlg         Dis      Corr\n",
       "dateRef                                 \n",
       "19500812  19840828  449.988840  0.546204\n",
       "19500812  19590909  453.044659  0.612506\n",
       "19500812  20030819  453.638210  0.559760\n",
       "19500812  19970801  457.039066  0.597291\n",
       "19500812  19980815  459.252587  0.534387\n",
       "19500812  19990829  466.308358  0.580896\n",
       "19500812  19510820  466.860763  0.727749\n",
       "19500812  20130816  467.150673  0.623782\n",
       "19500812  19990717  471.338490  0.571134\n",
       "19500812  19790816  471.416637  0.661347"
      ]
     },
     "execution_count": 37,
     "metadata": {},
     "output_type": "execute_result"
    }
   ],
   "source": [
    "df_select.tail(10)"
   ]
  },
  {
   "cell_type": "code",
   "execution_count": 38,
   "metadata": {
    "collapsed": false
   },
   "outputs": [],
   "source": [
    "df_chunk = df_all.iloc[149000:149100,:]\n",
    "df_chunk2 = df_all.iloc[106000:106100,:]"
   ]
  },
  {
   "cell_type": "code",
   "execution_count": 39,
   "metadata": {
    "collapsed": false
   },
   "outputs": [],
   "source": [
    "df_select = df_select.append(df_chunk)\n",
    "df_select = df_select.append(df_chunk2)\n",
    "#df_select = pd.concat([df_select,df_chunk])"
   ]
  },
  {
   "cell_type": "code",
   "execution_count": 40,
   "metadata": {
    "collapsed": false
   },
   "outputs": [
    {
     "data": {
      "text/plain": [
       "(300, 3)"
      ]
     },
     "execution_count": 40,
     "metadata": {},
     "output_type": "execute_result"
    }
   ],
   "source": [
    "df_select.shape"
   ]
  },
  {
   "cell_type": "code",
   "execution_count": 41,
   "metadata": {
    "collapsed": true
   },
   "outputs": [],
   "source": [
    "#SAVE SELECTION TO TSV FILE\n",
    "\n",
    "#df_select.to_csv('analogues_reformat_all_select.tsv', float_format='%.2f', sep='\\t')"
   ]
  },
  {
   "cell_type": "code",
   "execution_count": 42,
   "metadata": {
    "collapsed": false
   },
   "outputs": [
    {
     "name": "stdout",
     "output_type": "stream",
     "text": [
      "-0.0773818303236 0.952985818969\n"
     ]
    }
   ],
   "source": [
    "print df_all['Corr'].min(), df_all['Corr'].max()"
   ]
  },
  {
   "cell_type": "code",
   "execution_count": 43,
   "metadata": {
    "collapsed": false,
    "scrolled": true
   },
   "outputs": [
    {
     "name": "stdout",
     "output_type": "stream",
     "text": [
      "284.431297359 1369.41118104\n"
     ]
    }
   ],
   "source": [
    "print df_all['Dis'].min(), df_all['Dis'].max()"
   ]
  },
  {
   "cell_type": "code",
   "execution_count": 44,
   "metadata": {
    "collapsed": false
   },
   "outputs": [
    {
     "name": "stdout",
     "output_type": "stream",
     "text": [
      "0.124791552993 0.821019151951\n"
     ]
    }
   ],
   "source": [
    "df_select['Corr'].max()\n",
    "df_select['Corr'].min()\n",
    "print df_select['Corr'].min(), df_select['Corr'].max()"
   ]
  },
  {
   "cell_type": "code",
   "execution_count": 45,
   "metadata": {
    "collapsed": false
   },
   "outputs": [
    {
     "name": "stdout",
     "output_type": "stream",
     "text": [
      "350.217929418 696.281040107\n"
     ]
    }
   ],
   "source": [
    "df_select['Dis'].max()\n",
    "df_select['Dis'].min()\n",
    "print df_select['Dis'].min(), df_select['Dis'].max()"
   ]
  },
  {
   "cell_type": "code",
   "execution_count": null,
   "metadata": {
    "collapsed": true
   },
   "outputs": [],
   "source": []
  }
 ],
 "metadata": {
  "kernelspec": {
   "display_name": "Python 2",
   "language": "python",
   "name": "python2"
  },
  "language_info": {
   "codemirror_mode": {
    "name": "ipython",
    "version": 2
   },
   "file_extension": ".py",
   "mimetype": "text/x-python",
   "name": "python",
   "nbconvert_exporter": "python",
   "pygments_lexer": "ipython2",
   "version": "2.7.11"
  }
 },
 "nbformat": 4,
 "nbformat_minor": 0
}
