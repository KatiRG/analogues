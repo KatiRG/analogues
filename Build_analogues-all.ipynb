{
 "cells": [
  {
   "cell_type": "code",
   "execution_count": 243,
   "metadata": {
    "collapsed": false
   },
   "outputs": [],
   "source": [
    "#Created: 15.02.2016\n",
    "#Last modified: 18.02.2016\n",
    "#               29.02.2016 add Corr and Dis cols\n",
    "#               25.05.2016 updated input file and created truncated file for testing\n",
    "#               24.05.2016 tested reading in file produced in birdhouse analogs process\n",
    "#               05.09.2016 format test file for dc chart brush problem\n",
    "#               09.09.2016 added test file that spans two months to test date handling"
   ]
  },
  {
   "cell_type": "code",
   "execution_count": 1,
   "metadata": {
    "collapsed": true
   },
   "outputs": [],
   "source": [
    "import numpy as np\n",
    "import pandas as pd\n",
    "import collections\n",
    "import os"
   ]
  },
  {
   "cell_type": "code",
   "execution_count": 2,
   "metadata": {
    "collapsed": true
   },
   "outputs": [],
   "source": [
    "num_analogues = 20 #number of analogues searched for\n",
    "num_cols = 3 #dateAnlg, Dis, Corr"
   ]
  },
  {
   "cell_type": "code",
   "execution_count": 3,
   "metadata": {
    "collapsed": false
   },
   "outputs": [
    {
     "data": {
      "text/html": [
       "<div style=\"max-height:1000px;max-width:1500px;overflow:auto;\">\n",
       "<table border=\"1\" class=\"dataframe\">\n",
       "  <thead>\n",
       "    <tr style=\"text-align: right;\">\n",
       "      <th></th>\n",
       "      <th>date.an1</th>\n",
       "      <th>date.an2</th>\n",
       "      <th>date.an3</th>\n",
       "      <th>date.an4</th>\n",
       "      <th>date.an5</th>\n",
       "      <th>date.an6</th>\n",
       "      <th>date.an7</th>\n",
       "      <th>date.an8</th>\n",
       "      <th>date.an9</th>\n",
       "      <th>date.an10</th>\n",
       "      <th>...</th>\n",
       "      <th>cor11</th>\n",
       "      <th>cor12</th>\n",
       "      <th>cor13</th>\n",
       "      <th>cor14</th>\n",
       "      <th>cor15</th>\n",
       "      <th>cor16</th>\n",
       "      <th>cor17</th>\n",
       "      <th>cor18</th>\n",
       "      <th>cor19</th>\n",
       "      <th>cor20</th>\n",
       "    </tr>\n",
       "    <tr>\n",
       "      <th>date</th>\n",
       "      <th></th>\n",
       "      <th></th>\n",
       "      <th></th>\n",
       "      <th></th>\n",
       "      <th></th>\n",
       "      <th></th>\n",
       "      <th></th>\n",
       "      <th></th>\n",
       "      <th></th>\n",
       "      <th></th>\n",
       "      <th></th>\n",
       "      <th></th>\n",
       "      <th></th>\n",
       "      <th></th>\n",
       "      <th></th>\n",
       "      <th></th>\n",
       "      <th></th>\n",
       "      <th></th>\n",
       "      <th></th>\n",
       "      <th></th>\n",
       "      <th></th>\n",
       "    </tr>\n",
       "  </thead>\n",
       "  <tbody>\n",
       "    <tr>\n",
       "      <th>20130630</th>\n",
       "      <td> 20140702</td>\n",
       "      <td> 20140715</td>\n",
       "      <td> 20140703</td>\n",
       "      <td> 20140714</td>\n",
       "      <td> 20140716</td>\n",
       "      <td> 20140701</td>\n",
       "      <td> 20140706</td>\n",
       "      <td> 20140713</td>\n",
       "      <td> 20140707</td>\n",
       "      <td> 20140712</td>\n",
       "      <td>...</td>\n",
       "      <td> 0.223570</td>\n",
       "      <td> 0.182799</td>\n",
       "      <td> 0.141815</td>\n",
       "      <td> 0.130414</td>\n",
       "      <td> 0.077028</td>\n",
       "      <td> 0.065845</td>\n",
       "      <td> 0.160975</td>\n",
       "      <td>-0.019723</td>\n",
       "      <td> 0.208325</td>\n",
       "      <td> 0.021579</td>\n",
       "    </tr>\n",
       "    <tr>\n",
       "      <th>20130701</th>\n",
       "      <td> 20140715</td>\n",
       "      <td> 20140703</td>\n",
       "      <td> 20140714</td>\n",
       "      <td> 20140704</td>\n",
       "      <td> 20140716</td>\n",
       "      <td> 20140713</td>\n",
       "      <td> 20140705</td>\n",
       "      <td> 20140706</td>\n",
       "      <td> 20140702</td>\n",
       "      <td> 20140712</td>\n",
       "      <td>...</td>\n",
       "      <td> 0.134382</td>\n",
       "      <td> 0.121359</td>\n",
       "      <td> 0.030124</td>\n",
       "      <td> 0.092983</td>\n",
       "      <td>-0.088887</td>\n",
       "      <td> 0.171633</td>\n",
       "      <td> 0.005472</td>\n",
       "      <td>-0.038349</td>\n",
       "      <td>-0.107749</td>\n",
       "      <td>-0.015245</td>\n",
       "    </tr>\n",
       "    <tr>\n",
       "      <th>20130702</th>\n",
       "      <td> 20140704</td>\n",
       "      <td> 20140705</td>\n",
       "      <td> 20140703</td>\n",
       "      <td> 20140715</td>\n",
       "      <td> 20140716</td>\n",
       "      <td> 20140714</td>\n",
       "      <td> 20140706</td>\n",
       "      <td> 20140720</td>\n",
       "      <td> 20140713</td>\n",
       "      <td> 20140719</td>\n",
       "      <td>...</td>\n",
       "      <td> 0.196338</td>\n",
       "      <td> 0.193200</td>\n",
       "      <td> 0.253927</td>\n",
       "      <td> 0.073404</td>\n",
       "      <td>-0.111477</td>\n",
       "      <td> 0.263816</td>\n",
       "      <td> 0.178898</td>\n",
       "      <td> 0.031024</td>\n",
       "      <td> 0.100445</td>\n",
       "      <td>-0.113233</td>\n",
       "    </tr>\n",
       "  </tbody>\n",
       "</table>\n",
       "<p>3 rows × 60 columns</p>\n",
       "</div>"
      ],
      "text/plain": [
       "          date.an1  date.an2  date.an3  date.an4  date.an5  date.an6  \\\n",
       "date                                                                   \n",
       "20130630  20140702  20140715  20140703  20140714  20140716  20140701   \n",
       "20130701  20140715  20140703  20140714  20140704  20140716  20140713   \n",
       "20130702  20140704  20140705  20140703  20140715  20140716  20140714   \n",
       "\n",
       "          date.an7  date.an8  date.an9  date.an10    ...        cor11  \\\n",
       "date                                                 ...                \n",
       "20130630  20140706  20140713  20140707   20140712    ...     0.223570   \n",
       "20130701  20140705  20140706  20140702   20140712    ...     0.134382   \n",
       "20130702  20140706  20140720  20140713   20140719    ...     0.196338   \n",
       "\n",
       "             cor12     cor13     cor14     cor15     cor16     cor17  \\\n",
       "date                                                                   \n",
       "20130630  0.182799  0.141815  0.130414  0.077028  0.065845  0.160975   \n",
       "20130701  0.121359  0.030124  0.092983 -0.088887  0.171633  0.005472   \n",
       "20130702  0.193200  0.253927  0.073404 -0.111477  0.263816  0.178898   \n",
       "\n",
       "             cor18     cor19     cor20  \n",
       "date                                    \n",
       "20130630 -0.019723  0.208325  0.021579  \n",
       "20130701 -0.038349 -0.107749 -0.015245  \n",
       "20130702  0.031024  0.100445 -0.113233  \n",
       "\n",
       "[3 rows x 60 columns]"
      ]
     },
     "execution_count": 3,
     "metadata": {},
     "output_type": "execute_result"
    }
   ],
   "source": [
    "#To read file produced in birdhouse\n",
    "dfS = pd.DataFrame()\n",
    "#analogs = 'http://birdhouse-lsce.extra.cea.fr:8090/wpsoutputs/flyingpigeon/output_txt-0797016c-378e-11e6-91dd-41d8cd554993.txt'\n",
    "#analogs = 'http://localhost:8090/wpsoutputs/flyingpigeon/analogs-c26ba398-711e-11e6-8d5a-fb3204a8dad1.txt'\n",
    "\n",
    "#Analysis period > 1 year\n",
    "#analogs = 'http://birdhouse-lsce.extra.cea.fr:8090/wpsoutputs/flyingpigeon/analogs-5ee81d98-6fc9-11e6-a296-4d3fe2c8a29e.txt'\n",
    "\n",
    "#Analysis period spans two months (30.06.2013 to 02.07.2013)\n",
    "analogs = 'http://localhost:8090/wpsoutputs/flyingpigeon/analogs-7aafc4ec-74ea-11e6-b77d-eb5606a7fe9f.txt'\n",
    "\n",
    "dfS = pd.read_csv(analogs, delimiter=r\"\\s+\", index_col=0)\n",
    "dfS.head()"
   ]
  },
  {
   "cell_type": "code",
   "execution_count": 4,
   "metadata": {
    "collapsed": false
   },
   "outputs": [],
   "source": [
    "# Create dataframe from analogues file\n",
    "# Latest file: /home/estimr1/yiou/estimr1/NCEP/slpano-NA.analog30rms.1d.all1948-2016.dat\n",
    "# 2015: /home/estimr1/yiou/estimr1/NCEP/slpano-NA.analog30rms.1d.all1948-2015.dat\n",
    "# Note that last day in 2015 file is 20151225 (and NOT 20151231) because that is the last sunday of Dec 2015.\n",
    "\n",
    "#dfS = pd.DataFrame()\n",
    "#dfS = pd.read_csv('/home/estimr1/yiou/estimr1/NCEP/slpano-NA.analog30rms.1d.all1948-2016.dat', delimiter=' ', index_col=0)\n",
    "#dfS.set_index('Date', inplace=True)\n",
    "\n",
    "#dfS.head(5)\n",
    "\n",
    "#dfS.index.name"
   ]
  },
  {
   "cell_type": "code",
   "execution_count": 5,
   "metadata": {
    "collapsed": false
   },
   "outputs": [
    {
     "data": {
      "text/html": [
       "<div style=\"max-height:1000px;max-width:1500px;overflow:auto;\">\n",
       "<table border=\"1\" class=\"dataframe\">\n",
       "  <thead>\n",
       "    <tr style=\"text-align: right;\">\n",
       "      <th></th>\n",
       "      <th>date.an1</th>\n",
       "      <th>date.an2</th>\n",
       "      <th>date.an3</th>\n",
       "      <th>date.an4</th>\n",
       "      <th>date.an5</th>\n",
       "      <th>date.an6</th>\n",
       "      <th>date.an7</th>\n",
       "      <th>date.an8</th>\n",
       "      <th>date.an9</th>\n",
       "      <th>date.an10</th>\n",
       "      <th>...</th>\n",
       "      <th>cor11</th>\n",
       "      <th>cor12</th>\n",
       "      <th>cor13</th>\n",
       "      <th>cor14</th>\n",
       "      <th>cor15</th>\n",
       "      <th>cor16</th>\n",
       "      <th>cor17</th>\n",
       "      <th>cor18</th>\n",
       "      <th>cor19</th>\n",
       "      <th>cor20</th>\n",
       "    </tr>\n",
       "    <tr>\n",
       "      <th>date</th>\n",
       "      <th></th>\n",
       "      <th></th>\n",
       "      <th></th>\n",
       "      <th></th>\n",
       "      <th></th>\n",
       "      <th></th>\n",
       "      <th></th>\n",
       "      <th></th>\n",
       "      <th></th>\n",
       "      <th></th>\n",
       "      <th></th>\n",
       "      <th></th>\n",
       "      <th></th>\n",
       "      <th></th>\n",
       "      <th></th>\n",
       "      <th></th>\n",
       "      <th></th>\n",
       "      <th></th>\n",
       "      <th></th>\n",
       "      <th></th>\n",
       "      <th></th>\n",
       "    </tr>\n",
       "  </thead>\n",
       "  <tbody>\n",
       "    <tr>\n",
       "      <th>20130630</th>\n",
       "      <td> 20140702</td>\n",
       "      <td> 20140715</td>\n",
       "      <td> 20140703</td>\n",
       "      <td> 20140714</td>\n",
       "      <td> 20140716</td>\n",
       "      <td> 20140701</td>\n",
       "      <td> 20140706</td>\n",
       "      <td> 20140713</td>\n",
       "      <td> 20140707</td>\n",
       "      <td> 20140712</td>\n",
       "      <td>...</td>\n",
       "      <td> 0.223570</td>\n",
       "      <td> 0.182799</td>\n",
       "      <td> 0.141815</td>\n",
       "      <td> 0.130414</td>\n",
       "      <td> 0.077028</td>\n",
       "      <td> 0.065845</td>\n",
       "      <td> 0.160975</td>\n",
       "      <td>-0.019723</td>\n",
       "      <td> 0.208325</td>\n",
       "      <td> 0.021579</td>\n",
       "    </tr>\n",
       "    <tr>\n",
       "      <th>20130701</th>\n",
       "      <td> 20140715</td>\n",
       "      <td> 20140703</td>\n",
       "      <td> 20140714</td>\n",
       "      <td> 20140704</td>\n",
       "      <td> 20140716</td>\n",
       "      <td> 20140713</td>\n",
       "      <td> 20140705</td>\n",
       "      <td> 20140706</td>\n",
       "      <td> 20140702</td>\n",
       "      <td> 20140712</td>\n",
       "      <td>...</td>\n",
       "      <td> 0.134382</td>\n",
       "      <td> 0.121359</td>\n",
       "      <td> 0.030124</td>\n",
       "      <td> 0.092983</td>\n",
       "      <td>-0.088887</td>\n",
       "      <td> 0.171633</td>\n",
       "      <td> 0.005472</td>\n",
       "      <td>-0.038349</td>\n",
       "      <td>-0.107749</td>\n",
       "      <td>-0.015245</td>\n",
       "    </tr>\n",
       "    <tr>\n",
       "      <th>20130702</th>\n",
       "      <td> 20140704</td>\n",
       "      <td> 20140705</td>\n",
       "      <td> 20140703</td>\n",
       "      <td> 20140715</td>\n",
       "      <td> 20140716</td>\n",
       "      <td> 20140714</td>\n",
       "      <td> 20140706</td>\n",
       "      <td> 20140720</td>\n",
       "      <td> 20140713</td>\n",
       "      <td> 20140719</td>\n",
       "      <td>...</td>\n",
       "      <td> 0.196338</td>\n",
       "      <td> 0.193200</td>\n",
       "      <td> 0.253927</td>\n",
       "      <td> 0.073404</td>\n",
       "      <td>-0.111477</td>\n",
       "      <td> 0.263816</td>\n",
       "      <td> 0.178898</td>\n",
       "      <td> 0.031024</td>\n",
       "      <td> 0.100445</td>\n",
       "      <td>-0.113233</td>\n",
       "    </tr>\n",
       "  </tbody>\n",
       "</table>\n",
       "<p>3 rows × 60 columns</p>\n",
       "</div>"
      ],
      "text/plain": [
       "          date.an1  date.an2  date.an3  date.an4  date.an5  date.an6  \\\n",
       "date                                                                   \n",
       "20130630  20140702  20140715  20140703  20140714  20140716  20140701   \n",
       "20130701  20140715  20140703  20140714  20140704  20140716  20140713   \n",
       "20130702  20140704  20140705  20140703  20140715  20140716  20140714   \n",
       "\n",
       "          date.an7  date.an8  date.an9  date.an10    ...        cor11  \\\n",
       "date                                                 ...                \n",
       "20130630  20140706  20140713  20140707   20140712    ...     0.223570   \n",
       "20130701  20140705  20140706  20140702   20140712    ...     0.134382   \n",
       "20130702  20140706  20140720  20140713   20140719    ...     0.196338   \n",
       "\n",
       "             cor12     cor13     cor14     cor15     cor16     cor17  \\\n",
       "date                                                                   \n",
       "20130630  0.182799  0.141815  0.130414  0.077028  0.065845  0.160975   \n",
       "20130701  0.121359  0.030124  0.092983 -0.088887  0.171633  0.005472   \n",
       "20130702  0.193200  0.253927  0.073404 -0.111477  0.263816  0.178898   \n",
       "\n",
       "             cor18     cor19     cor20  \n",
       "date                                    \n",
       "20130630 -0.019723  0.208325  0.021579  \n",
       "20130701 -0.038349 -0.107749 -0.015245  \n",
       "20130702  0.031024  0.100445 -0.113233  \n",
       "\n",
       "[3 rows x 60 columns]"
      ]
     },
     "execution_count": 5,
     "metadata": {},
     "output_type": "execute_result"
    }
   ],
   "source": [
    "dfS.tail(5)"
   ]
  },
  {
   "cell_type": "code",
   "execution_count": 6,
   "metadata": {
    "collapsed": false
   },
   "outputs": [
    {
     "data": {
      "text/plain": [
       "Int64Index([20130630, 20130701, 20130702], dtype='int64')"
      ]
     },
     "execution_count": 6,
     "metadata": {},
     "output_type": "execute_result"
    }
   ],
   "source": [
    "dfS.index"
   ]
  },
  {
   "cell_type": "code",
   "execution_count": 7,
   "metadata": {
    "collapsed": false
   },
   "outputs": [
    {
     "data": {
      "text/plain": [
       "3"
      ]
     },
     "execution_count": 7,
     "metadata": {},
     "output_type": "execute_result"
    }
   ],
   "source": [
    "len(dfS.index)"
   ]
  },
  {
   "cell_type": "code",
   "execution_count": 8,
   "metadata": {
    "collapsed": false
   },
   "outputs": [],
   "source": [
    "#Chop off 2016 rows NO!!! there will still be 2016 dates found as analogues, which messes up js script\n",
    "#dfS = dfS[dfS.index <= 20151231]"
   ]
  },
  {
   "cell_type": "code",
   "execution_count": 9,
   "metadata": {
    "collapsed": false
   },
   "outputs": [
    {
     "data": {
      "text/plain": [
       "date\n",
       "20130630    20130630\n",
       "20130701    20130701\n",
       "20130702    20130702\n",
       "Name: dateRef, dtype: int64"
      ]
     },
     "execution_count": 9,
     "metadata": {},
     "output_type": "execute_result"
    }
   ],
   "source": [
    "#SAVE DATE INDEX\n",
    "#DF['id2'] = DF.index\n",
    "dfS['dateRef'] = dfS.index\n",
    "dfS['dateRef'].head(10)"
   ]
  },
  {
   "cell_type": "code",
   "execution_count": 10,
   "metadata": {
    "collapsed": false
   },
   "outputs": [],
   "source": [
    "#TRANSPOSE ANLG DATE COLS INTO SINGLE COL\n",
    "\n",
    "#Define temporary df containing only anlg dates cols\n",
    "df_anlg = dfS.iloc[:, 0:20]\n",
    "\n",
    "#remove index name before transpose (stack)\n",
    "df_anlg.index.name = \"\"\n",
    "\n",
    "#transpose (stack)into single col\n",
    "dateStack = df_anlg.stack()\n",
    "#dateStack"
   ]
  },
  {
   "cell_type": "code",
   "execution_count": 11,
   "metadata": {
    "collapsed": false
   },
   "outputs": [
    {
     "data": {
      "text/plain": [
       "20130630  dis1    499.245\n",
       "          dis2    506.026\n",
       "          dis3    511.976\n",
       "          dis4    529.214\n",
       "          dis5    568.978\n",
       "dtype: float64"
      ]
     },
     "execution_count": 11,
     "metadata": {},
     "output_type": "execute_result"
    }
   ],
   "source": [
    "#TRANSPOSE DIS COLS INTO SINGLE COL\n",
    "\n",
    "#Define temporary df containing only dis cols\n",
    "df_dis = dfS.iloc[:, 20:40]\n",
    "\n",
    "#remove index name before transpose (stack)\n",
    "df_dis.index.name = \"\"\n",
    "\n",
    "#transpose (stack) into single col and take absolute value\n",
    "disStack = df_dis.stack().abs()\n",
    "disStack.head(5)"
   ]
  },
  {
   "cell_type": "code",
   "execution_count": 12,
   "metadata": {
    "collapsed": false
   },
   "outputs": [
    {
     "data": {
      "text/plain": [
       "20130630  cor1    0.540107\n",
       "          cor2    0.356273\n",
       "          cor3    0.519526\n",
       "          cor4    0.257051\n",
       "          cor5    0.189727\n",
       "dtype: float64"
      ]
     },
     "execution_count": 12,
     "metadata": {},
     "output_type": "execute_result"
    }
   ],
   "source": [
    "#TRANSPOSE CORR COLS INTO SINGLE COL\n",
    "\n",
    "#Define temporary df containing only corr cols\n",
    "df_corr = dfS.iloc[:, 40:60]\n",
    "\n",
    "#remove index name before transpose (stack)\n",
    "df_corr.index.name = \"\"\n",
    "\n",
    "#transpose (stack) into single col\n",
    "corrStack = df_corr.stack()\n",
    "corrStack.head(5)"
   ]
  },
  {
   "cell_type": "code",
   "execution_count": 13,
   "metadata": {
    "collapsed": true
   },
   "outputs": [],
   "source": [
    "#BUILD NEW DF IN CORRECT FORMAT\n",
    "\n",
    "#CREATE DF OF CORRECT DIMENSIONS (n x num_cols)\n",
    "df_all = dfS.iloc[:, 0:num_cols]\n",
    "#rename cols\n",
    "df_all.columns = ['dateAnlg', 'Dis', 'Corr']"
   ]
  },
  {
   "cell_type": "code",
   "execution_count": 14,
   "metadata": {
    "collapsed": false
   },
   "outputs": [
    {
     "data": {
      "text/html": [
       "<div style=\"max-height:1000px;max-width:1500px;overflow:auto;\">\n",
       "<table border=\"1\" class=\"dataframe\">\n",
       "  <thead>\n",
       "    <tr style=\"text-align: right;\">\n",
       "      <th></th>\n",
       "      <th>dateAnlg</th>\n",
       "      <th>Dis</th>\n",
       "      <th>Corr</th>\n",
       "    </tr>\n",
       "    <tr>\n",
       "      <th></th>\n",
       "      <th></th>\n",
       "      <th></th>\n",
       "      <th></th>\n",
       "    </tr>\n",
       "  </thead>\n",
       "  <tbody>\n",
       "    <tr>\n",
       "      <th>20130630</th>\n",
       "      <td> 20140702</td>\n",
       "      <td> 20140715</td>\n",
       "      <td> 20140703</td>\n",
       "    </tr>\n",
       "    <tr>\n",
       "      <th>20130701</th>\n",
       "      <td> 20140715</td>\n",
       "      <td> 20140703</td>\n",
       "      <td> 20140714</td>\n",
       "    </tr>\n",
       "    <tr>\n",
       "      <th>20130702</th>\n",
       "      <td> 20140704</td>\n",
       "      <td> 20140705</td>\n",
       "      <td> 20140703</td>\n",
       "    </tr>\n",
       "  </tbody>\n",
       "</table>\n",
       "</div>"
      ],
      "text/plain": [
       "          dateAnlg       Dis      Corr\n",
       "                                      \n",
       "20130630  20140702  20140715  20140703\n",
       "20130701  20140715  20140703  20140714\n",
       "20130702  20140704  20140705  20140703"
      ]
     },
     "execution_count": 14,
     "metadata": {},
     "output_type": "execute_result"
    }
   ],
   "source": [
    "#dfS.index.tolist()\n",
    "df_all.head(5)"
   ]
  },
  {
   "cell_type": "code",
   "execution_count": 15,
   "metadata": {
    "collapsed": false
   },
   "outputs": [
    {
     "data": {
      "text/html": [
       "<div style=\"max-height:1000px;max-width:1500px;overflow:auto;\">\n",
       "<table border=\"1\" class=\"dataframe\">\n",
       "  <thead>\n",
       "    <tr style=\"text-align: right;\">\n",
       "      <th></th>\n",
       "      <th>dateAnlg</th>\n",
       "      <th>Dis</th>\n",
       "      <th>Corr</th>\n",
       "    </tr>\n",
       "    <tr>\n",
       "      <th>dateRef</th>\n",
       "      <th></th>\n",
       "      <th></th>\n",
       "      <th></th>\n",
       "    </tr>\n",
       "  </thead>\n",
       "  <tbody>\n",
       "    <tr>\n",
       "      <th>20130630</th>\n",
       "      <td> 20140702</td>\n",
       "      <td> 20140715</td>\n",
       "      <td> 20140703</td>\n",
       "    </tr>\n",
       "    <tr>\n",
       "      <th>20130701</th>\n",
       "      <td> 20140715</td>\n",
       "      <td> 20140703</td>\n",
       "      <td> 20140714</td>\n",
       "    </tr>\n",
       "    <tr>\n",
       "      <th>20130702</th>\n",
       "      <td> 20140704</td>\n",
       "      <td> 20140705</td>\n",
       "      <td> 20140703</td>\n",
       "    </tr>\n",
       "  </tbody>\n",
       "</table>\n",
       "</div>"
      ],
      "text/plain": [
       "          dateAnlg       Dis      Corr\n",
       "dateRef                               \n",
       "20130630  20140702  20140715  20140703\n",
       "20130701  20140715  20140703  20140714\n",
       "20130702  20140704  20140705  20140703"
      ]
     },
     "execution_count": 15,
     "metadata": {},
     "output_type": "execute_result"
    }
   ],
   "source": [
    "df_all = df_all.set_index(dfS['dateRef'] )\n",
    "df_all.head(10)"
   ]
  },
  {
   "cell_type": "code",
   "execution_count": 16,
   "metadata": {
    "collapsed": false
   },
   "outputs": [],
   "source": [
    "#REPLICATE INDEX COL 20 TIMES PER ROW\n",
    "\n",
    "#http://stackoverflow.com/questions/26777832/replicating-rows-in-a-pandas-data-frame-by-a-column-value\n",
    "#df2 = df.loc[np.repeat(df.index.values,df.n)]\n",
    "df_all = df_all.loc[np.repeat(df_all.index.values,num_analogues)]"
   ]
  },
  {
   "cell_type": "code",
   "execution_count": 17,
   "metadata": {
    "collapsed": false
   },
   "outputs": [
    {
     "data": {
      "text/html": [
       "<div style=\"max-height:1000px;max-width:1500px;overflow:auto;\">\n",
       "<table border=\"1\" class=\"dataframe\">\n",
       "  <thead>\n",
       "    <tr style=\"text-align: right;\">\n",
       "      <th></th>\n",
       "      <th>dateAnlg</th>\n",
       "      <th>Dis</th>\n",
       "      <th>Corr</th>\n",
       "    </tr>\n",
       "    <tr>\n",
       "      <th>dateRef</th>\n",
       "      <th></th>\n",
       "      <th></th>\n",
       "      <th></th>\n",
       "    </tr>\n",
       "  </thead>\n",
       "  <tbody>\n",
       "    <tr>\n",
       "      <th>20130630</th>\n",
       "      <td> 20140702</td>\n",
       "      <td> 499.245</td>\n",
       "      <td> 0.540107</td>\n",
       "    </tr>\n",
       "    <tr>\n",
       "      <th>20130630</th>\n",
       "      <td> 20140715</td>\n",
       "      <td> 506.026</td>\n",
       "      <td> 0.356273</td>\n",
       "    </tr>\n",
       "    <tr>\n",
       "      <th>20130630</th>\n",
       "      <td> 20140703</td>\n",
       "      <td> 511.976</td>\n",
       "      <td> 0.519526</td>\n",
       "    </tr>\n",
       "    <tr>\n",
       "      <th>20130630</th>\n",
       "      <td> 20140714</td>\n",
       "      <td> 529.214</td>\n",
       "      <td> 0.257051</td>\n",
       "    </tr>\n",
       "    <tr>\n",
       "      <th>20130630</th>\n",
       "      <td> 20140716</td>\n",
       "      <td> 568.978</td>\n",
       "      <td> 0.189727</td>\n",
       "    </tr>\n",
       "  </tbody>\n",
       "</table>\n",
       "</div>"
      ],
      "text/plain": [
       "          dateAnlg      Dis      Corr\n",
       "dateRef                              \n",
       "20130630  20140702  499.245  0.540107\n",
       "20130630  20140715  506.026  0.356273\n",
       "20130630  20140703  511.976  0.519526\n",
       "20130630  20140714  529.214  0.257051\n",
       "20130630  20140716  568.978  0.189727"
      ]
     },
     "execution_count": 17,
     "metadata": {},
     "output_type": "execute_result"
    }
   ],
   "source": [
    "#REPLACE COLS WITH STACKED ANLG DATES, DIS AND CORR\n",
    "df_all.iloc[:,0] = list(dateStack)\n",
    "df_all.iloc[:,1] = list(disStack)\n",
    "df_all.iloc[:,2] = list(corrStack)\n",
    "df_all.head(5)"
   ]
  },
  {
   "cell_type": "code",
   "execution_count": 18,
   "metadata": {
    "collapsed": false
   },
   "outputs": [
    {
     "data": {
      "text/plain": [
       "(60, 3)"
      ]
     },
     "execution_count": 18,
     "metadata": {},
     "output_type": "execute_result"
    }
   ],
   "source": [
    "df_all.shape"
   ]
  },
  {
   "cell_type": "code",
   "execution_count": 19,
   "metadata": {
    "collapsed": false,
    "scrolled": true
   },
   "outputs": [
    {
     "data": {
      "text/html": [
       "<div style=\"max-height:1000px;max-width:1500px;overflow:auto;\">\n",
       "<table border=\"1\" class=\"dataframe\">\n",
       "  <thead>\n",
       "    <tr style=\"text-align: right;\">\n",
       "      <th></th>\n",
       "      <th>dateAnlg</th>\n",
       "      <th>Dis</th>\n",
       "      <th>Corr</th>\n",
       "    </tr>\n",
       "    <tr>\n",
       "      <th>dateRef</th>\n",
       "      <th></th>\n",
       "      <th></th>\n",
       "      <th></th>\n",
       "    </tr>\n",
       "  </thead>\n",
       "  <tbody>\n",
       "    <tr>\n",
       "      <th>20130702</th>\n",
       "      <td> 20140702</td>\n",
       "      <td> 772.687</td>\n",
       "      <td> 0.263816</td>\n",
       "    </tr>\n",
       "    <tr>\n",
       "      <th>20130702</th>\n",
       "      <td> 20140801</td>\n",
       "      <td> 773.664</td>\n",
       "      <td> 0.178898</td>\n",
       "    </tr>\n",
       "    <tr>\n",
       "      <th>20130702</th>\n",
       "      <td> 20140717</td>\n",
       "      <td> 774.640</td>\n",
       "      <td> 0.031024</td>\n",
       "    </tr>\n",
       "    <tr>\n",
       "      <th>20130702</th>\n",
       "      <td> 20140604</td>\n",
       "      <td> 775.751</td>\n",
       "      <td> 0.100445</td>\n",
       "    </tr>\n",
       "    <tr>\n",
       "      <th>20130702</th>\n",
       "      <td> 20140627</td>\n",
       "      <td> 784.458</td>\n",
       "      <td>-0.113233</td>\n",
       "    </tr>\n",
       "  </tbody>\n",
       "</table>\n",
       "</div>"
      ],
      "text/plain": [
       "          dateAnlg      Dis      Corr\n",
       "dateRef                              \n",
       "20130702  20140702  772.687  0.263816\n",
       "20130702  20140801  773.664  0.178898\n",
       "20130702  20140717  774.640  0.031024\n",
       "20130702  20140604  775.751  0.100445\n",
       "20130702  20140627  784.458 -0.113233"
      ]
     },
     "execution_count": 19,
     "metadata": {},
     "output_type": "execute_result"
    }
   ],
   "source": [
    "df_all.tail(5)"
   ]
  },
  {
   "cell_type": "code",
   "execution_count": 33,
   "metadata": {
    "collapsed": true
   },
   "outputs": [],
   "source": [
    "#dfS_select = df_all[df_all.index <= 19600101]"
   ]
  },
  {
   "cell_type": "code",
   "execution_count": 20,
   "metadata": {
    "collapsed": false
   },
   "outputs": [],
   "source": [
    "#SAVE TO CSV FILE\n",
    "\n",
    "#df_all.to_csv('analogues_19480101_20151225.json', float_format='%.2f', sep='\\t')\n",
    "#df_all.to_csv('test2.json', float_format='%.2f', sep='\\t')\n",
    "#df_all.to_csv('test_gt1yr.json', float_format='%.2f', sep='\\t')\n",
    "df_all.to_csv('test_span2months.json', float_format='%.2f', sep='\\t')\n",
    "\n",
    "#df_all.to_csv('analogues_19480101_20160520.json', float_format='%.2f', sep='\\t')\n",
    "\n",
    "#dfS_select.to_csv('analogues_select.json', float_format='%.2f', sep='\\t')"
   ]
  },
  {
   "cell_type": "code",
   "execution_count": 77,
   "metadata": {
    "collapsed": false
   },
   "outputs": [
    {
     "data": {
      "text/plain": [
       "u'/homel/cnangini/PROJECTS/analogues'"
      ]
     },
     "execution_count": 77,
     "metadata": {},
     "output_type": "execute_result"
    }
   ],
   "source": [
    "pwd"
   ]
  },
  {
   "cell_type": "code",
   "execution_count": 86,
   "metadata": {
    "collapsed": false
   },
   "outputs": [
    {
     "name": "stdout",
     "output_type": "stream",
     "text": [
      "-0.0773818303236 0.952985818969\n"
     ]
    }
   ],
   "source": [
    "print df_all['Corr'].min(), df_all['Corr'].max()"
   ]
  },
  {
   "cell_type": "code",
   "execution_count": 87,
   "metadata": {
    "collapsed": false
   },
   "outputs": [
    {
     "name": "stdout",
     "output_type": "stream",
     "text": [
      "284.431297359 1369.41118104\n"
     ]
    }
   ],
   "source": [
    "print df_all['Dis'].min(), df_all['Dis'].max()"
   ]
  },
  {
   "cell_type": "code",
   "execution_count": 31,
   "metadata": {
    "collapsed": false
   },
   "outputs": [],
   "source": [
    "#check 1970-1979\n",
    "df_check =  df_all[ (df_all['dateAnlg'] >= 19700101) & (df_all['dateAnlg'] <= 19791231) ]\n",
    "\n",
    "\n",
    "#((df['column1']=='banana') & (df['colour']=='green'))"
   ]
  },
  {
   "cell_type": "code",
   "execution_count": 32,
   "metadata": {
    "collapsed": false
   },
   "outputs": [
    {
     "data": {
      "text/plain": [
       "(75935, 3)"
      ]
     },
     "execution_count": 32,
     "metadata": {},
     "output_type": "execute_result"
    }
   ],
   "source": [
    "df_check.shape"
   ]
  },
  {
   "cell_type": "code",
   "execution_count": 33,
   "metadata": {
    "collapsed": true
   },
   "outputs": [],
   "source": [
    "df_check =  df_all[ (df_all['dateAnlg'] >= 20100101) & (df_all['dateAnlg'] <= 20191231) ]"
   ]
  },
  {
   "cell_type": "code",
   "execution_count": 34,
   "metadata": {
    "collapsed": false
   },
   "outputs": [
    {
     "data": {
      "text/plain": [
       "(44554, 3)"
      ]
     },
     "execution_count": 34,
     "metadata": {},
     "output_type": "execute_result"
    }
   ],
   "source": [
    "df_check.shape"
   ]
  },
  {
   "cell_type": "code",
   "execution_count": 35,
   "metadata": {
    "collapsed": false
   },
   "outputs": [],
   "source": [
    "#cut file for testing purposes\n",
    "df_select = df_all.iloc[19000:19100,:]"
   ]
  },
  {
   "cell_type": "code",
   "execution_count": 36,
   "metadata": {
    "collapsed": false
   },
   "outputs": [
    {
     "data": {
      "text/plain": [
       "(100, 3)"
      ]
     },
     "execution_count": 36,
     "metadata": {},
     "output_type": "execute_result"
    }
   ],
   "source": [
    "df_select.shape"
   ]
  },
  {
   "cell_type": "code",
   "execution_count": 37,
   "metadata": {
    "collapsed": false
   },
   "outputs": [
    {
     "data": {
      "text/html": [
       "<div>\n",
       "<table border=\"1\" class=\"dataframe\">\n",
       "  <thead>\n",
       "    <tr style=\"text-align: right;\">\n",
       "      <th></th>\n",
       "      <th>dateAnlg</th>\n",
       "      <th>Dis</th>\n",
       "      <th>Corr</th>\n",
       "    </tr>\n",
       "    <tr>\n",
       "      <th>dateRef</th>\n",
       "      <th></th>\n",
       "      <th></th>\n",
       "      <th></th>\n",
       "    </tr>\n",
       "  </thead>\n",
       "  <tbody>\n",
       "    <tr>\n",
       "      <th>19500812</th>\n",
       "      <td>19840828</td>\n",
       "      <td>449.988840</td>\n",
       "      <td>0.546204</td>\n",
       "    </tr>\n",
       "    <tr>\n",
       "      <th>19500812</th>\n",
       "      <td>19590909</td>\n",
       "      <td>453.044659</td>\n",
       "      <td>0.612506</td>\n",
       "    </tr>\n",
       "    <tr>\n",
       "      <th>19500812</th>\n",
       "      <td>20030819</td>\n",
       "      <td>453.638210</td>\n",
       "      <td>0.559760</td>\n",
       "    </tr>\n",
       "    <tr>\n",
       "      <th>19500812</th>\n",
       "      <td>19970801</td>\n",
       "      <td>457.039066</td>\n",
       "      <td>0.597291</td>\n",
       "    </tr>\n",
       "    <tr>\n",
       "      <th>19500812</th>\n",
       "      <td>19980815</td>\n",
       "      <td>459.252587</td>\n",
       "      <td>0.534387</td>\n",
       "    </tr>\n",
       "    <tr>\n",
       "      <th>19500812</th>\n",
       "      <td>19990829</td>\n",
       "      <td>466.308358</td>\n",
       "      <td>0.580896</td>\n",
       "    </tr>\n",
       "    <tr>\n",
       "      <th>19500812</th>\n",
       "      <td>19510820</td>\n",
       "      <td>466.860763</td>\n",
       "      <td>0.727749</td>\n",
       "    </tr>\n",
       "    <tr>\n",
       "      <th>19500812</th>\n",
       "      <td>20130816</td>\n",
       "      <td>467.150673</td>\n",
       "      <td>0.623782</td>\n",
       "    </tr>\n",
       "    <tr>\n",
       "      <th>19500812</th>\n",
       "      <td>19990717</td>\n",
       "      <td>471.338490</td>\n",
       "      <td>0.571134</td>\n",
       "    </tr>\n",
       "    <tr>\n",
       "      <th>19500812</th>\n",
       "      <td>19790816</td>\n",
       "      <td>471.416637</td>\n",
       "      <td>0.661347</td>\n",
       "    </tr>\n",
       "  </tbody>\n",
       "</table>\n",
       "</div>"
      ],
      "text/plain": [
       "          dateAnlg         Dis      Corr\n",
       "dateRef                                 \n",
       "19500812  19840828  449.988840  0.546204\n",
       "19500812  19590909  453.044659  0.612506\n",
       "19500812  20030819  453.638210  0.559760\n",
       "19500812  19970801  457.039066  0.597291\n",
       "19500812  19980815  459.252587  0.534387\n",
       "19500812  19990829  466.308358  0.580896\n",
       "19500812  19510820  466.860763  0.727749\n",
       "19500812  20130816  467.150673  0.623782\n",
       "19500812  19990717  471.338490  0.571134\n",
       "19500812  19790816  471.416637  0.661347"
      ]
     },
     "execution_count": 37,
     "metadata": {},
     "output_type": "execute_result"
    }
   ],
   "source": [
    "df_select.tail(10)"
   ]
  },
  {
   "cell_type": "code",
   "execution_count": 38,
   "metadata": {
    "collapsed": false
   },
   "outputs": [],
   "source": [
    "df_chunk = df_all.iloc[149000:149100,:]\n",
    "df_chunk2 = df_all.iloc[106000:106100,:]"
   ]
  },
  {
   "cell_type": "code",
   "execution_count": 39,
   "metadata": {
    "collapsed": false
   },
   "outputs": [],
   "source": [
    "df_select = df_select.append(df_chunk)\n",
    "df_select = df_select.append(df_chunk2)\n",
    "#df_select = pd.concat([df_select,df_chunk])"
   ]
  },
  {
   "cell_type": "code",
   "execution_count": 40,
   "metadata": {
    "collapsed": false
   },
   "outputs": [
    {
     "data": {
      "text/plain": [
       "(300, 3)"
      ]
     },
     "execution_count": 40,
     "metadata": {},
     "output_type": "execute_result"
    }
   ],
   "source": [
    "df_select.shape"
   ]
  },
  {
   "cell_type": "code",
   "execution_count": 41,
   "metadata": {
    "collapsed": true
   },
   "outputs": [],
   "source": [
    "#SAVE SELECTION TO TSV FILE\n",
    "\n",
    "#df_select.to_csv('analogues_reformat_all_select.tsv', float_format='%.2f', sep='\\t')"
   ]
  },
  {
   "cell_type": "code",
   "execution_count": 42,
   "metadata": {
    "collapsed": false
   },
   "outputs": [
    {
     "name": "stdout",
     "output_type": "stream",
     "text": [
      "-0.0773818303236 0.952985818969\n"
     ]
    }
   ],
   "source": [
    "print df_all['Corr'].min(), df_all['Corr'].max()"
   ]
  },
  {
   "cell_type": "code",
   "execution_count": 43,
   "metadata": {
    "collapsed": false,
    "scrolled": true
   },
   "outputs": [
    {
     "name": "stdout",
     "output_type": "stream",
     "text": [
      "284.431297359 1369.41118104\n"
     ]
    }
   ],
   "source": [
    "print df_all['Dis'].min(), df_all['Dis'].max()"
   ]
  },
  {
   "cell_type": "code",
   "execution_count": 44,
   "metadata": {
    "collapsed": false
   },
   "outputs": [
    {
     "name": "stdout",
     "output_type": "stream",
     "text": [
      "0.124791552993 0.821019151951\n"
     ]
    }
   ],
   "source": [
    "df_select['Corr'].max()\n",
    "df_select['Corr'].min()\n",
    "print df_select['Corr'].min(), df_select['Corr'].max()"
   ]
  },
  {
   "cell_type": "code",
   "execution_count": 45,
   "metadata": {
    "collapsed": false
   },
   "outputs": [
    {
     "name": "stdout",
     "output_type": "stream",
     "text": [
      "350.217929418 696.281040107\n"
     ]
    }
   ],
   "source": [
    "df_select['Dis'].max()\n",
    "df_select['Dis'].min()\n",
    "print df_select['Dis'].min(), df_select['Dis'].max()"
   ]
  },
  {
   "cell_type": "code",
   "execution_count": null,
   "metadata": {
    "collapsed": true
   },
   "outputs": [],
   "source": []
  }
 ],
 "metadata": {
  "kernelspec": {
   "display_name": "Python 2",
   "language": "python",
   "name": "python2"
  },
  "language_info": {
   "codemirror_mode": {
    "name": "ipython",
    "version": 2
   },
   "file_extension": ".py",
   "mimetype": "text/x-python",
   "name": "python",
   "nbconvert_exporter": "python",
   "pygments_lexer": "ipython2",
   "version": "2.7.11"
  }
 },
 "nbformat": 4,
 "nbformat_minor": 0
}
