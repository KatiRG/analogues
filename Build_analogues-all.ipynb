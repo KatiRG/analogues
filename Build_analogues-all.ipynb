{
 "cells": [
  {
   "cell_type": "code",
   "execution_count": 243,
   "metadata": {
    "collapsed": false
   },
   "outputs": [],
   "source": [
    "#Created: 15.02.2016\n",
    "#Last modified: 18.02.2016\n",
    "#               29.02.2016 add Corr and Dis cols\n",
    "#               25.05.2016 updated input file and created truncated file for testing\n",
    "#               24.05.2016 tested reading in file produced in birdhouse analogs process\n",
    "#               05.09.2016 format test file for dc chart brush problem\n",
    "#               09.09.2016 added test file that spans two months to test date handling\n",
    "#                          change float format to 7 places in file save (float_format='%.7f')\n",
    "#               13.09.2016 replace hard-coded num_analogues value with var name\n",
    "#                          new test file with 11 analogues"
   ]
  },
  {
   "cell_type": "code",
   "execution_count": 1,
   "metadata": {
    "collapsed": true
   },
   "outputs": [],
   "source": [
    "import numpy as np\n",
    "import pandas as pd\n",
    "import collections\n",
    "import os"
   ]
  },
  {
   "cell_type": "code",
   "execution_count": 43,
   "metadata": {
    "collapsed": true
   },
   "outputs": [],
   "source": [
    "num_analogues = 11 #20 #number of analogues searched for\n",
    "num_cols = 3 #dateAnlg, Dis, Corr"
   ]
  },
  {
   "cell_type": "code",
   "execution_count": 44,
   "metadata": {
    "collapsed": false
   },
   "outputs": [
    {
     "data": {
      "text/html": [
       "<div style=\"max-height:1000px;max-width:1500px;overflow:auto;\">\n",
       "<table border=\"1\" class=\"dataframe\">\n",
       "  <thead>\n",
       "    <tr style=\"text-align: right;\">\n",
       "      <th></th>\n",
       "      <th>date.an1</th>\n",
       "      <th>date.an2</th>\n",
       "      <th>date.an3</th>\n",
       "      <th>date.an4</th>\n",
       "      <th>date.an5</th>\n",
       "      <th>date.an6</th>\n",
       "      <th>date.an7</th>\n",
       "      <th>date.an8</th>\n",
       "      <th>date.an9</th>\n",
       "      <th>date.an10</th>\n",
       "      <th>...</th>\n",
       "      <th>cor2</th>\n",
       "      <th>cor3</th>\n",
       "      <th>cor4</th>\n",
       "      <th>cor5</th>\n",
       "      <th>cor6</th>\n",
       "      <th>cor7</th>\n",
       "      <th>cor8</th>\n",
       "      <th>cor9</th>\n",
       "      <th>cor10</th>\n",
       "      <th>cor11</th>\n",
       "    </tr>\n",
       "    <tr>\n",
       "      <th>date</th>\n",
       "      <th></th>\n",
       "      <th></th>\n",
       "      <th></th>\n",
       "      <th></th>\n",
       "      <th></th>\n",
       "      <th></th>\n",
       "      <th></th>\n",
       "      <th></th>\n",
       "      <th></th>\n",
       "      <th></th>\n",
       "      <th></th>\n",
       "      <th></th>\n",
       "      <th></th>\n",
       "      <th></th>\n",
       "      <th></th>\n",
       "      <th></th>\n",
       "      <th></th>\n",
       "      <th></th>\n",
       "      <th></th>\n",
       "      <th></th>\n",
       "      <th></th>\n",
       "    </tr>\n",
       "  </thead>\n",
       "  <tbody>\n",
       "    <tr>\n",
       "      <th>20130715</th>\n",
       "      <td> 20140715</td>\n",
       "      <td> 20140716</td>\n",
       "      <td> 20140731</td>\n",
       "      <td> 20140622</td>\n",
       "      <td> 20140805</td>\n",
       "      <td> 20140630</td>\n",
       "      <td> 20140804</td>\n",
       "      <td> 20140714</td>\n",
       "      <td> 20140807</td>\n",
       "      <td> 20140621</td>\n",
       "      <td>...</td>\n",
       "      <td> 0.040807</td>\n",
       "      <td> 0.040730</td>\n",
       "      <td> 0.159989</td>\n",
       "      <td>-0.037593</td>\n",
       "      <td>-0.007528</td>\n",
       "      <td>-0.060790</td>\n",
       "      <td>-0.068464</td>\n",
       "      <td>-0.199696</td>\n",
       "      <td> 0.202253</td>\n",
       "      <td> 0.090306</td>\n",
       "    </tr>\n",
       "    <tr>\n",
       "      <th>20130716</th>\n",
       "      <td> 20140622</td>\n",
       "      <td> 20140716</td>\n",
       "      <td> 20140621</td>\n",
       "      <td> 20140715</td>\n",
       "      <td> 20140805</td>\n",
       "      <td> 20140620</td>\n",
       "      <td> 20140623</td>\n",
       "      <td> 20140808</td>\n",
       "      <td> 20140804</td>\n",
       "      <td> 20140618</td>\n",
       "      <td>...</td>\n",
       "      <td> 0.135977</td>\n",
       "      <td> 0.282605</td>\n",
       "      <td> 0.151550</td>\n",
       "      <td> 0.007938</td>\n",
       "      <td> 0.341013</td>\n",
       "      <td> 0.118046</td>\n",
       "      <td> 0.010513</td>\n",
       "      <td>-0.011426</td>\n",
       "      <td> 0.180286</td>\n",
       "      <td> 0.150929</td>\n",
       "    </tr>\n",
       "    <tr>\n",
       "      <th>20130717</th>\n",
       "      <td> 20140623</td>\n",
       "      <td> 20140716</td>\n",
       "      <td> 20140622</td>\n",
       "      <td> 20140715</td>\n",
       "      <td> 20140624</td>\n",
       "      <td> 20140721</td>\n",
       "      <td> 20140805</td>\n",
       "      <td> 20140618</td>\n",
       "      <td> 20140626</td>\n",
       "      <td> 20140701</td>\n",
       "      <td>...</td>\n",
       "      <td> 0.165520</td>\n",
       "      <td> 0.255422</td>\n",
       "      <td> 0.066167</td>\n",
       "      <td> 0.108565</td>\n",
       "      <td>-0.005100</td>\n",
       "      <td>-0.105931</td>\n",
       "      <td> 0.195877</td>\n",
       "      <td>-0.249135</td>\n",
       "      <td> 0.090190</td>\n",
       "      <td> 0.014971</td>\n",
       "    </tr>\n",
       "    <tr>\n",
       "      <th>20130718</th>\n",
       "      <td> 20140623</td>\n",
       "      <td> 20140622</td>\n",
       "      <td> 20140624</td>\n",
       "      <td> 20140716</td>\n",
       "      <td> 20140626</td>\n",
       "      <td> 20140715</td>\n",
       "      <td> 20140717</td>\n",
       "      <td> 20140625</td>\n",
       "      <td> 20140618</td>\n",
       "      <td> 20140727</td>\n",
       "      <td>...</td>\n",
       "      <td> 0.424430</td>\n",
       "      <td> 0.275362</td>\n",
       "      <td> 0.157529</td>\n",
       "      <td>-0.088426</td>\n",
       "      <td> 0.090526</td>\n",
       "      <td> 0.107145</td>\n",
       "      <td> 0.028597</td>\n",
       "      <td> 0.293373</td>\n",
       "      <td>-0.023807</td>\n",
       "      <td> 0.109294</td>\n",
       "    </tr>\n",
       "    <tr>\n",
       "      <th>20130719</th>\n",
       "      <td> 20140622</td>\n",
       "      <td> 20140623</td>\n",
       "      <td> 20140725</td>\n",
       "      <td> 20140624</td>\n",
       "      <td> 20140726</td>\n",
       "      <td> 20140625</td>\n",
       "      <td> 20140724</td>\n",
       "      <td> 20140626</td>\n",
       "      <td> 20140630</td>\n",
       "      <td> 20140723</td>\n",
       "      <td>...</td>\n",
       "      <td> 0.574297</td>\n",
       "      <td> 0.329109</td>\n",
       "      <td> 0.361604</td>\n",
       "      <td> 0.310559</td>\n",
       "      <td> 0.171252</td>\n",
       "      <td> 0.294422</td>\n",
       "      <td> 0.009326</td>\n",
       "      <td> 0.101402</td>\n",
       "      <td> 0.315430</td>\n",
       "      <td> 0.168408</td>\n",
       "    </tr>\n",
       "  </tbody>\n",
       "</table>\n",
       "<p>5 rows × 33 columns</p>\n",
       "</div>"
      ],
      "text/plain": [
       "          date.an1  date.an2  date.an3  date.an4  date.an5  date.an6  \\\n",
       "date                                                                   \n",
       "20130715  20140715  20140716  20140731  20140622  20140805  20140630   \n",
       "20130716  20140622  20140716  20140621  20140715  20140805  20140620   \n",
       "20130717  20140623  20140716  20140622  20140715  20140624  20140721   \n",
       "20130718  20140623  20140622  20140624  20140716  20140626  20140715   \n",
       "20130719  20140622  20140623  20140725  20140624  20140726  20140625   \n",
       "\n",
       "          date.an7  date.an8  date.an9  date.an10    ...         cor2  \\\n",
       "date                                                 ...                \n",
       "20130715  20140804  20140714  20140807   20140621    ...     0.040807   \n",
       "20130716  20140623  20140808  20140804   20140618    ...     0.135977   \n",
       "20130717  20140805  20140618  20140626   20140701    ...     0.165520   \n",
       "20130718  20140717  20140625  20140618   20140727    ...     0.424430   \n",
       "20130719  20140724  20140626  20140630   20140723    ...     0.574297   \n",
       "\n",
       "              cor3      cor4      cor5      cor6      cor7      cor8  \\\n",
       "date                                                                   \n",
       "20130715  0.040730  0.159989 -0.037593 -0.007528 -0.060790 -0.068464   \n",
       "20130716  0.282605  0.151550  0.007938  0.341013  0.118046  0.010513   \n",
       "20130717  0.255422  0.066167  0.108565 -0.005100 -0.105931  0.195877   \n",
       "20130718  0.275362  0.157529 -0.088426  0.090526  0.107145  0.028597   \n",
       "20130719  0.329109  0.361604  0.310559  0.171252  0.294422  0.009326   \n",
       "\n",
       "              cor9     cor10     cor11  \n",
       "date                                    \n",
       "20130715 -0.199696  0.202253  0.090306  \n",
       "20130716 -0.011426  0.180286  0.150929  \n",
       "20130717 -0.249135  0.090190  0.014971  \n",
       "20130718  0.293373 -0.023807  0.109294  \n",
       "20130719  0.101402  0.315430  0.168408  \n",
       "\n",
       "[5 rows x 33 columns]"
      ]
     },
     "execution_count": 44,
     "metadata": {},
     "output_type": "execute_result"
    }
   ],
   "source": [
    "#To read file produced in birdhouse\n",
    "dfS = pd.DataFrame()\n",
    "#analogs = 'http://birdhouse-lsce.extra.cea.fr:8090/wpsoutputs/flyingpigeon/output_txt-0797016c-378e-11e6-91dd-41d8cd554993.txt'\n",
    "#analogs = 'http://localhost:8090/wpsoutputs/flyingpigeon/analogs-c26ba398-711e-11e6-8d5a-fb3204a8dad1.txt'\n",
    "\n",
    "#Analysis period > 1 year\n",
    "#analogs = 'http://birdhouse-lsce.extra.cea.fr:8090/wpsoutputs/flyingpigeon/analogs-5ee81d98-6fc9-11e6-a296-4d3fe2c8a29e.txt'\n",
    "#analogs = 'http://birdhouse-lsce.extra.cea.fr:8090/wpsoutputs/flyingpigeon/analogs-73cd782c-74f4-11e6-bf5f-f73f2a3d7e35.txt'\n",
    "\n",
    "#bbox x: [-80,50], y: [22.5,70], 11 analogues\n",
    "analogs = 'http://localhost:8090/wpsoutputs/flyingpigeon/analogs-12f189be-79a7-11e6-b7f7-e7ff4fd8b248.txt'\n",
    "\n",
    "#Analysis period spans two months (30.06.2013 to 02.07.2013)\n",
    "#analogs = 'http://localhost:8090/wpsoutputs/flyingpigeon/analogs-7aafc4ec-74ea-11e6-b77d-eb5606a7fe9f.txt'\n",
    "\n",
    "#one day only (03.01.2013)\n",
    "#analogs = 'http://localhost:8090/wpsoutputs/flyingpigeon/analogs-9841a808-7504-11e6-b77d-eb5606a7fe9f.txt'\n",
    "\n",
    "dfS = pd.read_csv(analogs, delimiter=r\"\\s+\", index_col=0)\n",
    "dfS.head()"
   ]
  },
  {
   "cell_type": "code",
   "execution_count": 4,
   "metadata": {
    "collapsed": false
   },
   "outputs": [],
   "source": [
    "# Create dataframe from analogues file\n",
    "# Latest file: /home/estimr1/yiou/estimr1/NCEP/slpano-NA.analog30rms.1d.all1948-2016.dat\n",
    "# 2015: /home/estimr1/yiou/estimr1/NCEP/slpano-NA.analog30rms.1d.all1948-2015.dat\n",
    "# Note that last day in 2015 file is 20151225 (and NOT 20151231) because that is the last sunday of Dec 2015.\n",
    "\n",
    "#dfS = pd.DataFrame()\n",
    "#dfS = pd.read_csv('/home/estimr1/yiou/estimr1/NCEP/slpano-NA.analog30rms.1d.all1948-2016.dat', delimiter=' ', index_col=0)\n",
    "#dfS.set_index('Date', inplace=True)\n",
    "\n",
    "#dfS.head(5)\n",
    "\n",
    "#dfS.index.name"
   ]
  },
  {
   "cell_type": "code",
   "execution_count": 45,
   "metadata": {
    "collapsed": false
   },
   "outputs": [
    {
     "data": {
      "text/html": [
       "<div style=\"max-height:1000px;max-width:1500px;overflow:auto;\">\n",
       "<table border=\"1\" class=\"dataframe\">\n",
       "  <thead>\n",
       "    <tr style=\"text-align: right;\">\n",
       "      <th></th>\n",
       "      <th>date.an1</th>\n",
       "      <th>date.an2</th>\n",
       "      <th>date.an3</th>\n",
       "      <th>date.an4</th>\n",
       "      <th>date.an5</th>\n",
       "      <th>date.an6</th>\n",
       "      <th>date.an7</th>\n",
       "      <th>date.an8</th>\n",
       "      <th>date.an9</th>\n",
       "      <th>date.an10</th>\n",
       "      <th>...</th>\n",
       "      <th>cor2</th>\n",
       "      <th>cor3</th>\n",
       "      <th>cor4</th>\n",
       "      <th>cor5</th>\n",
       "      <th>cor6</th>\n",
       "      <th>cor7</th>\n",
       "      <th>cor8</th>\n",
       "      <th>cor9</th>\n",
       "      <th>cor10</th>\n",
       "      <th>cor11</th>\n",
       "    </tr>\n",
       "    <tr>\n",
       "      <th>date</th>\n",
       "      <th></th>\n",
       "      <th></th>\n",
       "      <th></th>\n",
       "      <th></th>\n",
       "      <th></th>\n",
       "      <th></th>\n",
       "      <th></th>\n",
       "      <th></th>\n",
       "      <th></th>\n",
       "      <th></th>\n",
       "      <th></th>\n",
       "      <th></th>\n",
       "      <th></th>\n",
       "      <th></th>\n",
       "      <th></th>\n",
       "      <th></th>\n",
       "      <th></th>\n",
       "      <th></th>\n",
       "      <th></th>\n",
       "      <th></th>\n",
       "      <th></th>\n",
       "    </tr>\n",
       "  </thead>\n",
       "  <tbody>\n",
       "    <tr>\n",
       "      <th>20141227</th>\n",
       "      <td> 20130114</td>\n",
       "      <td> 20130123</td>\n",
       "      <td> 20130115</td>\n",
       "      <td> 20130113</td>\n",
       "      <td> 20130122</td>\n",
       "      <td> 20130110</td>\n",
       "      <td> 20130106</td>\n",
       "      <td> 20131207</td>\n",
       "      <td> 20130124</td>\n",
       "      <td> 20130108</td>\n",
       "      <td>...</td>\n",
       "      <td> 0.549200</td>\n",
       "      <td> 0.543416</td>\n",
       "      <td> 0.547768</td>\n",
       "      <td> 0.346278</td>\n",
       "      <td> 0.301867</td>\n",
       "      <td> 0.516077</td>\n",
       "      <td> 0.525985</td>\n",
       "      <td> 0.483659</td>\n",
       "      <td> 0.442039</td>\n",
       "      <td> 0.362514</td>\n",
       "    </tr>\n",
       "    <tr>\n",
       "      <th>20141228</th>\n",
       "      <td> 20130106</td>\n",
       "      <td> 20130105</td>\n",
       "      <td> 20130117</td>\n",
       "      <td> 20130116</td>\n",
       "      <td> 20130108</td>\n",
       "      <td> 20130110</td>\n",
       "      <td> 20130107</td>\n",
       "      <td> 20130114</td>\n",
       "      <td> 20130124</td>\n",
       "      <td> 20130115</td>\n",
       "      <td>...</td>\n",
       "      <td> 0.631067</td>\n",
       "      <td> 0.644656</td>\n",
       "      <td> 0.572964</td>\n",
       "      <td> 0.602345</td>\n",
       "      <td> 0.406935</td>\n",
       "      <td> 0.542263</td>\n",
       "      <td> 0.503951</td>\n",
       "      <td> 0.585071</td>\n",
       "      <td> 0.465256</td>\n",
       "      <td> 0.499869</td>\n",
       "    </tr>\n",
       "    <tr>\n",
       "      <th>20141229</th>\n",
       "      <td> 20130105</td>\n",
       "      <td> 20130106</td>\n",
       "      <td> 20130107</td>\n",
       "      <td> 20130108</td>\n",
       "      <td> 20130104</td>\n",
       "      <td> 20130117</td>\n",
       "      <td> 20140123</td>\n",
       "      <td> 20130124</td>\n",
       "      <td> 20130109</td>\n",
       "      <td> 20130116</td>\n",
       "      <td>...</td>\n",
       "      <td> 0.762899</td>\n",
       "      <td> 0.663771</td>\n",
       "      <td> 0.645353</td>\n",
       "      <td> 0.568103</td>\n",
       "      <td> 0.533461</td>\n",
       "      <td> 0.494981</td>\n",
       "      <td> 0.563119</td>\n",
       "      <td> 0.290318</td>\n",
       "      <td> 0.383496</td>\n",
       "      <td> 0.604046</td>\n",
       "    </tr>\n",
       "    <tr>\n",
       "      <th>20141230</th>\n",
       "      <td> 20130106</td>\n",
       "      <td> 20130108</td>\n",
       "      <td> 20130107</td>\n",
       "      <td> 20130105</td>\n",
       "      <td> 20130104</td>\n",
       "      <td> 20130109</td>\n",
       "      <td> 20130125</td>\n",
       "      <td> 20131211</td>\n",
       "      <td> 20131208</td>\n",
       "      <td> 20140123</td>\n",
       "      <td>...</td>\n",
       "      <td> 0.778094</td>\n",
       "      <td> 0.754221</td>\n",
       "      <td> 0.690132</td>\n",
       "      <td> 0.609253</td>\n",
       "      <td> 0.493589</td>\n",
       "      <td> 0.589253</td>\n",
       "      <td> 0.569573</td>\n",
       "      <td> 0.462088</td>\n",
       "      <td> 0.423612</td>\n",
       "      <td> 0.417316</td>\n",
       "    </tr>\n",
       "    <tr>\n",
       "      <th>20141231</th>\n",
       "      <td> 20131217</td>\n",
       "      <td> 20130104</td>\n",
       "      <td> 20130108</td>\n",
       "      <td> 20130125</td>\n",
       "      <td> 20140124</td>\n",
       "      <td> 20130109</td>\n",
       "      <td> 20130105</td>\n",
       "      <td> 20131213</td>\n",
       "      <td> 20131208</td>\n",
       "      <td> 20131212</td>\n",
       "      <td>...</td>\n",
       "      <td> 0.603565</td>\n",
       "      <td> 0.557383</td>\n",
       "      <td> 0.544596</td>\n",
       "      <td> 0.492555</td>\n",
       "      <td> 0.421007</td>\n",
       "      <td> 0.502075</td>\n",
       "      <td> 0.640764</td>\n",
       "      <td> 0.403180</td>\n",
       "      <td> 0.572354</td>\n",
       "      <td> 0.493749</td>\n",
       "    </tr>\n",
       "  </tbody>\n",
       "</table>\n",
       "<p>5 rows × 33 columns</p>\n",
       "</div>"
      ],
      "text/plain": [
       "          date.an1  date.an2  date.an3  date.an4  date.an5  date.an6  \\\n",
       "date                                                                   \n",
       "20141227  20130114  20130123  20130115  20130113  20130122  20130110   \n",
       "20141228  20130106  20130105  20130117  20130116  20130108  20130110   \n",
       "20141229  20130105  20130106  20130107  20130108  20130104  20130117   \n",
       "20141230  20130106  20130108  20130107  20130105  20130104  20130109   \n",
       "20141231  20131217  20130104  20130108  20130125  20140124  20130109   \n",
       "\n",
       "          date.an7  date.an8  date.an9  date.an10    ...         cor2  \\\n",
       "date                                                 ...                \n",
       "20141227  20130106  20131207  20130124   20130108    ...     0.549200   \n",
       "20141228  20130107  20130114  20130124   20130115    ...     0.631067   \n",
       "20141229  20140123  20130124  20130109   20130116    ...     0.762899   \n",
       "20141230  20130125  20131211  20131208   20140123    ...     0.778094   \n",
       "20141231  20130105  20131213  20131208   20131212    ...     0.603565   \n",
       "\n",
       "              cor3      cor4      cor5      cor6      cor7      cor8  \\\n",
       "date                                                                   \n",
       "20141227  0.543416  0.547768  0.346278  0.301867  0.516077  0.525985   \n",
       "20141228  0.644656  0.572964  0.602345  0.406935  0.542263  0.503951   \n",
       "20141229  0.663771  0.645353  0.568103  0.533461  0.494981  0.563119   \n",
       "20141230  0.754221  0.690132  0.609253  0.493589  0.589253  0.569573   \n",
       "20141231  0.557383  0.544596  0.492555  0.421007  0.502075  0.640764   \n",
       "\n",
       "              cor9     cor10     cor11  \n",
       "date                                    \n",
       "20141227  0.483659  0.442039  0.362514  \n",
       "20141228  0.585071  0.465256  0.499869  \n",
       "20141229  0.290318  0.383496  0.604046  \n",
       "20141230  0.462088  0.423612  0.417316  \n",
       "20141231  0.403180  0.572354  0.493749  \n",
       "\n",
       "[5 rows x 33 columns]"
      ]
     },
     "execution_count": 45,
     "metadata": {},
     "output_type": "execute_result"
    }
   ],
   "source": [
    "dfS.tail(5)"
   ]
  },
  {
   "cell_type": "code",
   "execution_count": 6,
   "metadata": {
    "collapsed": false
   },
   "outputs": [
    {
     "data": {
      "text/plain": [
       "Int64Index([20130101, 20130102, 20130103, 20130104, 20130105, 20130106, 20130107, 20130108, 20130109, 20130110, 20130111, 20130112, 20130113, 20130114, 20130115, 20130116, 20130117, 20130118, 20130119, 20130120, 20130121, 20130122, 20130123, 20130124, 20130125, 20130126, 20130127, 20130128, 20130129, 20130130, 20130131, 20130201, 20130202, 20130203, 20130204, 20130205, 20130206, 20130207, 20130208, 20130209, 20130210, 20130211, 20130212, 20130213, 20130214, 20130215, 20130216, 20130217, 20130218, 20130219, 20130220, 20130221, 20130222, 20130223, 20130224, 20130225, 20130226, 20130227, 20130228, 20130301, 20130302, 20130303, 20130304, 20130305, 20130306, 20130307, 20130308, 20130309, 20130310, 20130311, 20130312, 20130313, 20130314, 20130315, 20130316, 20130317, 20130318, 20130319, 20130320, 20130321, 20130322, 20130323, 20130324, 20130325, 20130326, 20130327, 20130328, 20130329, 20130330, 20130331, 20130401, 20130402, 20130403, 20130404, 20130405, 20130406, 20130407, 20130408, 20130409, 20130410, ...], dtype='int64')"
      ]
     },
     "execution_count": 6,
     "metadata": {},
     "output_type": "execute_result"
    }
   ],
   "source": [
    "dfS.index"
   ]
  },
  {
   "cell_type": "code",
   "execution_count": 4,
   "metadata": {
    "collapsed": false
   },
   "outputs": [
    {
     "data": {
      "text/plain": [
       "730"
      ]
     },
     "execution_count": 4,
     "metadata": {},
     "output_type": "execute_result"
    }
   ],
   "source": [
    "len(dfS.index)"
   ]
  },
  {
   "cell_type": "code",
   "execution_count": 5,
   "metadata": {
    "collapsed": false
   },
   "outputs": [],
   "source": [
    "#Chop off 2016 rows NO!!! there will still be 2016 dates found as analogues, which messes up js script\n",
    "#dfS = dfS[dfS.index <= 20151231]"
   ]
  },
  {
   "cell_type": "code",
   "execution_count": 46,
   "metadata": {
    "collapsed": false
   },
   "outputs": [
    {
     "data": {
      "text/plain": [
       "date\n",
       "20130715    20130715\n",
       "20130716    20130716\n",
       "20130717    20130717\n",
       "20130718    20130718\n",
       "20130719    20130719\n",
       "20130720    20130720\n",
       "20130721    20130721\n",
       "20130722    20130722\n",
       "20130723    20130723\n",
       "20130724    20130724\n",
       "Name: dateRef, dtype: int64"
      ]
     },
     "execution_count": 46,
     "metadata": {},
     "output_type": "execute_result"
    }
   ],
   "source": [
    "#SAVE DATE INDEX\n",
    "#DF['id2'] = DF.index\n",
    "dfS['dateRef'] = dfS.index\n",
    "dfS['dateRef'].head(10)"
   ]
  },
  {
   "cell_type": "code",
   "execution_count": 51,
   "metadata": {
    "collapsed": false
   },
   "outputs": [
    {
     "data": {
      "text/html": [
       "<div style=\"max-height:1000px;max-width:1500px;overflow:auto;\">\n",
       "<table border=\"1\" class=\"dataframe\">\n",
       "  <thead>\n",
       "    <tr style=\"text-align: right;\">\n",
       "      <th></th>\n",
       "      <th>date.an1</th>\n",
       "      <th>date.an2</th>\n",
       "      <th>date.an3</th>\n",
       "      <th>date.an4</th>\n",
       "      <th>date.an5</th>\n",
       "      <th>date.an6</th>\n",
       "      <th>date.an7</th>\n",
       "      <th>date.an8</th>\n",
       "      <th>date.an9</th>\n",
       "      <th>date.an10</th>\n",
       "      <th>date.an11</th>\n",
       "    </tr>\n",
       "    <tr>\n",
       "      <th>date</th>\n",
       "      <th></th>\n",
       "      <th></th>\n",
       "      <th></th>\n",
       "      <th></th>\n",
       "      <th></th>\n",
       "      <th></th>\n",
       "      <th></th>\n",
       "      <th></th>\n",
       "      <th></th>\n",
       "      <th></th>\n",
       "      <th></th>\n",
       "    </tr>\n",
       "  </thead>\n",
       "  <tbody>\n",
       "    <tr>\n",
       "      <th>20130715</th>\n",
       "      <td> 20140715</td>\n",
       "      <td> 20140716</td>\n",
       "      <td> 20140731</td>\n",
       "      <td> 20140622</td>\n",
       "      <td> 20140805</td>\n",
       "      <td> 20140630</td>\n",
       "      <td> 20140804</td>\n",
       "      <td> 20140714</td>\n",
       "      <td> 20140807</td>\n",
       "      <td> 20140621</td>\n",
       "      <td> 20140623</td>\n",
       "    </tr>\n",
       "    <tr>\n",
       "      <th>20130716</th>\n",
       "      <td> 20140622</td>\n",
       "      <td> 20140716</td>\n",
       "      <td> 20140621</td>\n",
       "      <td> 20140715</td>\n",
       "      <td> 20140805</td>\n",
       "      <td> 20140620</td>\n",
       "      <td> 20140623</td>\n",
       "      <td> 20140808</td>\n",
       "      <td> 20140804</td>\n",
       "      <td> 20140618</td>\n",
       "      <td> 20140815</td>\n",
       "    </tr>\n",
       "    <tr>\n",
       "      <th>20130717</th>\n",
       "      <td> 20140623</td>\n",
       "      <td> 20140716</td>\n",
       "      <td> 20140622</td>\n",
       "      <td> 20140715</td>\n",
       "      <td> 20140624</td>\n",
       "      <td> 20140721</td>\n",
       "      <td> 20140805</td>\n",
       "      <td> 20140618</td>\n",
       "      <td> 20140626</td>\n",
       "      <td> 20140701</td>\n",
       "      <td> 20140722</td>\n",
       "    </tr>\n",
       "    <tr>\n",
       "      <th>20130718</th>\n",
       "      <td> 20140623</td>\n",
       "      <td> 20140622</td>\n",
       "      <td> 20140624</td>\n",
       "      <td> 20140716</td>\n",
       "      <td> 20140626</td>\n",
       "      <td> 20140715</td>\n",
       "      <td> 20140717</td>\n",
       "      <td> 20140625</td>\n",
       "      <td> 20140618</td>\n",
       "      <td> 20140727</td>\n",
       "      <td> 20140722</td>\n",
       "    </tr>\n",
       "    <tr>\n",
       "      <th>20130719</th>\n",
       "      <td> 20140622</td>\n",
       "      <td> 20140623</td>\n",
       "      <td> 20140725</td>\n",
       "      <td> 20140624</td>\n",
       "      <td> 20140726</td>\n",
       "      <td> 20140625</td>\n",
       "      <td> 20140724</td>\n",
       "      <td> 20140626</td>\n",
       "      <td> 20140630</td>\n",
       "      <td> 20140723</td>\n",
       "      <td> 20140722</td>\n",
       "    </tr>\n",
       "  </tbody>\n",
       "</table>\n",
       "</div>"
      ],
      "text/plain": [
       "          date.an1  date.an2  date.an3  date.an4  date.an5  date.an6  \\\n",
       "date                                                                   \n",
       "20130715  20140715  20140716  20140731  20140622  20140805  20140630   \n",
       "20130716  20140622  20140716  20140621  20140715  20140805  20140620   \n",
       "20130717  20140623  20140716  20140622  20140715  20140624  20140721   \n",
       "20130718  20140623  20140622  20140624  20140716  20140626  20140715   \n",
       "20130719  20140622  20140623  20140725  20140624  20140726  20140625   \n",
       "\n",
       "          date.an7  date.an8  date.an9  date.an10  date.an11  \n",
       "date                                                          \n",
       "20130715  20140804  20140714  20140807   20140621   20140623  \n",
       "20130716  20140623  20140808  20140804   20140618   20140815  \n",
       "20130717  20140805  20140618  20140626   20140701   20140722  \n",
       "20130718  20140717  20140625  20140618   20140727   20140722  \n",
       "20130719  20140724  20140626  20140630   20140723   20140722  "
      ]
     },
     "execution_count": 51,
     "metadata": {},
     "output_type": "execute_result"
    }
   ],
   "source": [
    "dfS.iloc[0:5, 0:num_analogues]"
   ]
  },
  {
   "cell_type": "code",
   "execution_count": 53,
   "metadata": {
    "collapsed": false
   },
   "outputs": [
    {
     "data": {
      "text/html": [
       "<div style=\"max-height:1000px;max-width:1500px;overflow:auto;\">\n",
       "<table border=\"1\" class=\"dataframe\">\n",
       "  <thead>\n",
       "    <tr style=\"text-align: right;\">\n",
       "      <th></th>\n",
       "      <th>date.an1</th>\n",
       "      <th>date.an2</th>\n",
       "      <th>date.an3</th>\n",
       "      <th>date.an4</th>\n",
       "      <th>date.an5</th>\n",
       "      <th>date.an6</th>\n",
       "      <th>date.an7</th>\n",
       "      <th>date.an8</th>\n",
       "      <th>date.an9</th>\n",
       "      <th>date.an10</th>\n",
       "      <th>date.an11</th>\n",
       "      <th>dis1</th>\n",
       "      <th>dis2</th>\n",
       "    </tr>\n",
       "    <tr>\n",
       "      <th>date</th>\n",
       "      <th></th>\n",
       "      <th></th>\n",
       "      <th></th>\n",
       "      <th></th>\n",
       "      <th></th>\n",
       "      <th></th>\n",
       "      <th></th>\n",
       "      <th></th>\n",
       "      <th></th>\n",
       "      <th></th>\n",
       "      <th></th>\n",
       "      <th></th>\n",
       "      <th></th>\n",
       "    </tr>\n",
       "  </thead>\n",
       "  <tbody>\n",
       "    <tr>\n",
       "      <th>20130715</th>\n",
       "      <td> 20140715</td>\n",
       "      <td> 20140716</td>\n",
       "      <td> 20140731</td>\n",
       "      <td> 20140622</td>\n",
       "      <td> 20140805</td>\n",
       "      <td> 20140630</td>\n",
       "      <td> 20140804</td>\n",
       "      <td> 20140714</td>\n",
       "      <td> 20140807</td>\n",
       "      <td> 20140621</td>\n",
       "      <td> 20140623</td>\n",
       "      <td> 528.217</td>\n",
       "      <td> 560.199</td>\n",
       "    </tr>\n",
       "    <tr>\n",
       "      <th>20130716</th>\n",
       "      <td> 20140622</td>\n",
       "      <td> 20140716</td>\n",
       "      <td> 20140621</td>\n",
       "      <td> 20140715</td>\n",
       "      <td> 20140805</td>\n",
       "      <td> 20140620</td>\n",
       "      <td> 20140623</td>\n",
       "      <td> 20140808</td>\n",
       "      <td> 20140804</td>\n",
       "      <td> 20140618</td>\n",
       "      <td> 20140815</td>\n",
       "      <td> 553.170</td>\n",
       "      <td> 589.101</td>\n",
       "    </tr>\n",
       "    <tr>\n",
       "      <th>20130717</th>\n",
       "      <td> 20140623</td>\n",
       "      <td> 20140716</td>\n",
       "      <td> 20140622</td>\n",
       "      <td> 20140715</td>\n",
       "      <td> 20140624</td>\n",
       "      <td> 20140721</td>\n",
       "      <td> 20140805</td>\n",
       "      <td> 20140618</td>\n",
       "      <td> 20140626</td>\n",
       "      <td> 20140701</td>\n",
       "      <td> 20140722</td>\n",
       "      <td> 538.366</td>\n",
       "      <td> 539.719</td>\n",
       "    </tr>\n",
       "    <tr>\n",
       "      <th>20130718</th>\n",
       "      <td> 20140623</td>\n",
       "      <td> 20140622</td>\n",
       "      <td> 20140624</td>\n",
       "      <td> 20140716</td>\n",
       "      <td> 20140626</td>\n",
       "      <td> 20140715</td>\n",
       "      <td> 20140717</td>\n",
       "      <td> 20140625</td>\n",
       "      <td> 20140618</td>\n",
       "      <td> 20140727</td>\n",
       "      <td> 20140722</td>\n",
       "      <td> 465.379</td>\n",
       "      <td> 487.878</td>\n",
       "    </tr>\n",
       "    <tr>\n",
       "      <th>20130719</th>\n",
       "      <td> 20140622</td>\n",
       "      <td> 20140623</td>\n",
       "      <td> 20140725</td>\n",
       "      <td> 20140624</td>\n",
       "      <td> 20140726</td>\n",
       "      <td> 20140625</td>\n",
       "      <td> 20140724</td>\n",
       "      <td> 20140626</td>\n",
       "      <td> 20140630</td>\n",
       "      <td> 20140723</td>\n",
       "      <td> 20140722</td>\n",
       "      <td> 445.587</td>\n",
       "      <td> 460.296</td>\n",
       "    </tr>\n",
       "  </tbody>\n",
       "</table>\n",
       "</div>"
      ],
      "text/plain": [
       "          date.an1  date.an2  date.an3  date.an4  date.an5  date.an6  \\\n",
       "date                                                                   \n",
       "20130715  20140715  20140716  20140731  20140622  20140805  20140630   \n",
       "20130716  20140622  20140716  20140621  20140715  20140805  20140620   \n",
       "20130717  20140623  20140716  20140622  20140715  20140624  20140721   \n",
       "20130718  20140623  20140622  20140624  20140716  20140626  20140715   \n",
       "20130719  20140622  20140623  20140725  20140624  20140726  20140625   \n",
       "\n",
       "          date.an7  date.an8  date.an9  date.an10  date.an11     dis1     dis2  \n",
       "date                                                                            \n",
       "20130715  20140804  20140714  20140807   20140621   20140623  528.217  560.199  \n",
       "20130716  20140623  20140808  20140804   20140618   20140815  553.170  589.101  \n",
       "20130717  20140805  20140618  20140626   20140701   20140722  538.366  539.719  \n",
       "20130718  20140717  20140625  20140618   20140727   20140722  465.379  487.878  \n",
       "20130719  20140724  20140626  20140630   20140723   20140722  445.587  460.296  "
      ]
     },
     "execution_count": 53,
     "metadata": {},
     "output_type": "execute_result"
    }
   ],
   "source": [
    "tmp = num_analogues + 2\n",
    "dfS.iloc[0:5, 0:tmp]"
   ]
  },
  {
   "cell_type": "code",
   "execution_count": 54,
   "metadata": {
    "collapsed": false
   },
   "outputs": [
    {
     "data": {
      "text/html": [
       "<div style=\"max-height:1000px;max-width:1500px;overflow:auto;\">\n",
       "<table border=\"1\" class=\"dataframe\">\n",
       "  <thead>\n",
       "    <tr style=\"text-align: right;\">\n",
       "      <th></th>\n",
       "      <th>dis1</th>\n",
       "      <th>dis2</th>\n",
       "      <th>dis3</th>\n",
       "      <th>dis4</th>\n",
       "      <th>dis5</th>\n",
       "      <th>dis6</th>\n",
       "      <th>dis7</th>\n",
       "      <th>dis8</th>\n",
       "      <th>dis9</th>\n",
       "      <th>dis10</th>\n",
       "      <th>dis11</th>\n",
       "    </tr>\n",
       "    <tr>\n",
       "      <th>date</th>\n",
       "      <th></th>\n",
       "      <th></th>\n",
       "      <th></th>\n",
       "      <th></th>\n",
       "      <th></th>\n",
       "      <th></th>\n",
       "      <th></th>\n",
       "      <th></th>\n",
       "      <th></th>\n",
       "      <th></th>\n",
       "      <th></th>\n",
       "    </tr>\n",
       "  </thead>\n",
       "  <tbody>\n",
       "    <tr>\n",
       "      <th>20130715</th>\n",
       "      <td> 528.217</td>\n",
       "      <td> 560.199</td>\n",
       "      <td> 561.790</td>\n",
       "      <td> 562.651</td>\n",
       "      <td> 581.428</td>\n",
       "      <td> 596.056</td>\n",
       "      <td> 611.714</td>\n",
       "      <td> 612.736</td>\n",
       "      <td> 616.273</td>\n",
       "      <td> 617.265</td>\n",
       "      <td> 617.849</td>\n",
       "    </tr>\n",
       "    <tr>\n",
       "      <th>20130716</th>\n",
       "      <td> 553.170</td>\n",
       "      <td> 589.101</td>\n",
       "      <td> 614.791</td>\n",
       "      <td> 621.192</td>\n",
       "      <td> 638.320</td>\n",
       "      <td> 639.902</td>\n",
       "      <td> 650.524</td>\n",
       "      <td> 652.808</td>\n",
       "      <td> 655.144</td>\n",
       "      <td> 665.755</td>\n",
       "      <td> 667.242</td>\n",
       "    </tr>\n",
       "    <tr>\n",
       "      <th>20130717</th>\n",
       "      <td> 538.366</td>\n",
       "      <td> 539.719</td>\n",
       "      <td> 542.755</td>\n",
       "      <td> 596.082</td>\n",
       "      <td> 611.484</td>\n",
       "      <td> 619.836</td>\n",
       "      <td> 631.386</td>\n",
       "      <td> 631.402</td>\n",
       "      <td> 640.034</td>\n",
       "      <td> 648.576</td>\n",
       "      <td> 651.132</td>\n",
       "    </tr>\n",
       "    <tr>\n",
       "      <th>20130718</th>\n",
       "      <td> 465.379</td>\n",
       "      <td> 487.878</td>\n",
       "      <td> 511.392</td>\n",
       "      <td> 521.341</td>\n",
       "      <td> 555.264</td>\n",
       "      <td> 556.591</td>\n",
       "      <td> 563.674</td>\n",
       "      <td> 564.890</td>\n",
       "      <td> 571.153</td>\n",
       "      <td> 574.745</td>\n",
       "      <td> 578.558</td>\n",
       "    </tr>\n",
       "    <tr>\n",
       "      <th>20130719</th>\n",
       "      <td> 445.587</td>\n",
       "      <td> 460.296</td>\n",
       "      <td> 507.203</td>\n",
       "      <td> 515.246</td>\n",
       "      <td> 523.311</td>\n",
       "      <td> 551.821</td>\n",
       "      <td> 554.138</td>\n",
       "      <td> 554.828</td>\n",
       "      <td> 557.850</td>\n",
       "      <td> 567.952</td>\n",
       "      <td> 572.929</td>\n",
       "    </tr>\n",
       "  </tbody>\n",
       "</table>\n",
       "</div>"
      ],
      "text/plain": [
       "             dis1     dis2     dis3     dis4     dis5     dis6     dis7  \\\n",
       "date                                                                      \n",
       "20130715  528.217  560.199  561.790  562.651  581.428  596.056  611.714   \n",
       "20130716  553.170  589.101  614.791  621.192  638.320  639.902  650.524   \n",
       "20130717  538.366  539.719  542.755  596.082  611.484  619.836  631.386   \n",
       "20130718  465.379  487.878  511.392  521.341  555.264  556.591  563.674   \n",
       "20130719  445.587  460.296  507.203  515.246  523.311  551.821  554.138   \n",
       "\n",
       "             dis8     dis9    dis10    dis11  \n",
       "date                                          \n",
       "20130715  612.736  616.273  617.265  617.849  \n",
       "20130716  652.808  655.144  665.755  667.242  \n",
       "20130717  631.402  640.034  648.576  651.132  \n",
       "20130718  564.890  571.153  574.745  578.558  \n",
       "20130719  554.828  557.850  567.952  572.929  "
      ]
     },
     "execution_count": 54,
     "metadata": {},
     "output_type": "execute_result"
    }
   ],
   "source": [
    "dfS.iloc[0:5, num_analogues:2*num_analogues]"
   ]
  },
  {
   "cell_type": "code",
   "execution_count": 55,
   "metadata": {
    "collapsed": false
   },
   "outputs": [
    {
     "data": {
      "text/html": [
       "<div style=\"max-height:1000px;max-width:1500px;overflow:auto;\">\n",
       "<table border=\"1\" class=\"dataframe\">\n",
       "  <thead>\n",
       "    <tr style=\"text-align: right;\">\n",
       "      <th></th>\n",
       "      <th>cor1</th>\n",
       "      <th>cor2</th>\n",
       "      <th>cor3</th>\n",
       "      <th>cor4</th>\n",
       "      <th>cor5</th>\n",
       "      <th>cor6</th>\n",
       "      <th>cor7</th>\n",
       "      <th>cor8</th>\n",
       "      <th>cor9</th>\n",
       "      <th>cor10</th>\n",
       "      <th>cor11</th>\n",
       "    </tr>\n",
       "    <tr>\n",
       "      <th>date</th>\n",
       "      <th></th>\n",
       "      <th></th>\n",
       "      <th></th>\n",
       "      <th></th>\n",
       "      <th></th>\n",
       "      <th></th>\n",
       "      <th></th>\n",
       "      <th></th>\n",
       "      <th></th>\n",
       "      <th></th>\n",
       "      <th></th>\n",
       "    </tr>\n",
       "  </thead>\n",
       "  <tbody>\n",
       "    <tr>\n",
       "      <th>20130715</th>\n",
       "      <td> 0.158543</td>\n",
       "      <td> 0.040807</td>\n",
       "      <td> 0.040730</td>\n",
       "      <td> 0.159989</td>\n",
       "      <td>-0.037593</td>\n",
       "      <td>-0.007528</td>\n",
       "      <td>-0.060790</td>\n",
       "      <td>-0.068464</td>\n",
       "      <td>-0.199696</td>\n",
       "      <td> 0.202253</td>\n",
       "      <td> 0.090306</td>\n",
       "    </tr>\n",
       "    <tr>\n",
       "      <th>20130716</th>\n",
       "      <td> 0.248536</td>\n",
       "      <td> 0.135977</td>\n",
       "      <td> 0.282605</td>\n",
       "      <td> 0.151550</td>\n",
       "      <td> 0.007938</td>\n",
       "      <td> 0.341013</td>\n",
       "      <td> 0.118046</td>\n",
       "      <td> 0.010513</td>\n",
       "      <td>-0.011426</td>\n",
       "      <td> 0.180286</td>\n",
       "      <td> 0.150929</td>\n",
       "    </tr>\n",
       "    <tr>\n",
       "      <th>20130717</th>\n",
       "      <td> 0.323493</td>\n",
       "      <td> 0.165520</td>\n",
       "      <td> 0.255422</td>\n",
       "      <td> 0.066167</td>\n",
       "      <td> 0.108565</td>\n",
       "      <td>-0.005100</td>\n",
       "      <td>-0.105931</td>\n",
       "      <td> 0.195877</td>\n",
       "      <td>-0.249135</td>\n",
       "      <td> 0.090190</td>\n",
       "      <td> 0.014971</td>\n",
       "    </tr>\n",
       "    <tr>\n",
       "      <th>20130718</th>\n",
       "      <td> 0.482811</td>\n",
       "      <td> 0.424430</td>\n",
       "      <td> 0.275362</td>\n",
       "      <td> 0.157529</td>\n",
       "      <td>-0.088426</td>\n",
       "      <td> 0.090526</td>\n",
       "      <td> 0.107145</td>\n",
       "      <td> 0.028597</td>\n",
       "      <td> 0.293373</td>\n",
       "      <td>-0.023807</td>\n",
       "      <td> 0.109294</td>\n",
       "    </tr>\n",
       "    <tr>\n",
       "      <th>20130719</th>\n",
       "      <td> 0.567457</td>\n",
       "      <td> 0.574297</td>\n",
       "      <td> 0.329109</td>\n",
       "      <td> 0.361604</td>\n",
       "      <td> 0.310559</td>\n",
       "      <td> 0.171252</td>\n",
       "      <td> 0.294422</td>\n",
       "      <td> 0.009326</td>\n",
       "      <td> 0.101402</td>\n",
       "      <td> 0.315430</td>\n",
       "      <td> 0.168408</td>\n",
       "    </tr>\n",
       "  </tbody>\n",
       "</table>\n",
       "</div>"
      ],
      "text/plain": [
       "              cor1      cor2      cor3      cor4      cor5      cor6  \\\n",
       "date                                                                   \n",
       "20130715  0.158543  0.040807  0.040730  0.159989 -0.037593 -0.007528   \n",
       "20130716  0.248536  0.135977  0.282605  0.151550  0.007938  0.341013   \n",
       "20130717  0.323493  0.165520  0.255422  0.066167  0.108565 -0.005100   \n",
       "20130718  0.482811  0.424430  0.275362  0.157529 -0.088426  0.090526   \n",
       "20130719  0.567457  0.574297  0.329109  0.361604  0.310559  0.171252   \n",
       "\n",
       "              cor7      cor8      cor9     cor10     cor11  \n",
       "date                                                        \n",
       "20130715 -0.060790 -0.068464 -0.199696  0.202253  0.090306  \n",
       "20130716  0.118046  0.010513 -0.011426  0.180286  0.150929  \n",
       "20130717 -0.105931  0.195877 -0.249135  0.090190  0.014971  \n",
       "20130718  0.107145  0.028597  0.293373 -0.023807  0.109294  \n",
       "20130719  0.294422  0.009326  0.101402  0.315430  0.168408  "
      ]
     },
     "execution_count": 55,
     "metadata": {},
     "output_type": "execute_result"
    }
   ],
   "source": [
    "dfS.iloc[0:5, 2*num_analogues:3*num_analogues]"
   ]
  },
  {
   "cell_type": "code",
   "execution_count": 56,
   "metadata": {
    "collapsed": false
   },
   "outputs": [
    {
     "data": {
      "text/plain": [
       "20130715  date.an1     20140715\n",
       "          date.an2     20140716\n",
       "          date.an3     20140731\n",
       "          date.an4     20140622\n",
       "          date.an5     20140805\n",
       "          date.an6     20140630\n",
       "          date.an7     20140804\n",
       "          date.an8     20140714\n",
       "          date.an9     20140807\n",
       "          date.an10    20140621\n",
       "          date.an11    20140623\n",
       "20130716  date.an1     20140622\n",
       "          date.an2     20140716\n",
       "          date.an3     20140621\n",
       "          date.an4     20140715\n",
       "          date.an5     20140805\n",
       "          date.an6     20140620\n",
       "          date.an7     20140623\n",
       "          date.an8     20140808\n",
       "          date.an9     20140804\n",
       "          date.an10    20140618\n",
       "          date.an11    20140815\n",
       "20130717  date.an1     20140623\n",
       "          date.an2     20140716\n",
       "          date.an3     20140622\n",
       "dtype: int64"
      ]
     },
     "execution_count": 56,
     "metadata": {},
     "output_type": "execute_result"
    }
   ],
   "source": [
    "#TRANSPOSE ANLG DATE COLS INTO SINGLE COL\n",
    "\n",
    "#Define temporary df containing only anlg dates cols\n",
    "df_anlg = dfS.iloc[:, 0:num_analogues]\n",
    "\n",
    "#remove index name before transpose (stack)\n",
    "df_anlg.index.name = \"\"\n",
    "\n",
    "#transpose (stack)into single col\n",
    "dateStack = df_anlg.stack()\n",
    "dateStack.head(25)"
   ]
  },
  {
   "cell_type": "code",
   "execution_count": 57,
   "metadata": {
    "collapsed": false
   },
   "outputs": [
    {
     "data": {
      "text/plain": [
       "20130715  dis1     528.217\n",
       "          dis2     560.199\n",
       "          dis3     561.790\n",
       "          dis4     562.651\n",
       "          dis5     581.428\n",
       "          dis6     596.056\n",
       "          dis7     611.714\n",
       "          dis8     612.736\n",
       "          dis9     616.273\n",
       "          dis10    617.265\n",
       "          dis11    617.849\n",
       "20130716  dis1     553.170\n",
       "          dis2     589.101\n",
       "          dis3     614.791\n",
       "          dis4     621.192\n",
       "          dis5     638.320\n",
       "          dis6     639.902\n",
       "          dis7     650.524\n",
       "          dis8     652.808\n",
       "          dis9     655.144\n",
       "          dis10    665.755\n",
       "          dis11    667.242\n",
       "20130717  dis1     538.366\n",
       "          dis2     539.719\n",
       "          dis3     542.755\n",
       "dtype: float64"
      ]
     },
     "execution_count": 57,
     "metadata": {},
     "output_type": "execute_result"
    }
   ],
   "source": [
    "#TRANSPOSE DIS COLS INTO SINGLE COL\n",
    "\n",
    "#Define temporary df containing only dis cols\n",
    "df_dis = dfS.iloc[:, num_analogues:2*num_analogues]\n",
    "\n",
    "#remove index name before transpose (stack)\n",
    "df_dis.index.name = \"\"\n",
    "\n",
    "#transpose (stack) into single col and take absolute value\n",
    "disStack = df_dis.stack().abs()\n",
    "disStack.head(25)"
   ]
  },
  {
   "cell_type": "code",
   "execution_count": 58,
   "metadata": {
    "collapsed": false
   },
   "outputs": [
    {
     "data": {
      "text/plain": [
       "20130715  cor1     0.158543\n",
       "          cor2     0.040807\n",
       "          cor3     0.040730\n",
       "          cor4     0.159989\n",
       "          cor5    -0.037593\n",
       "          cor6    -0.007528\n",
       "          cor7    -0.060790\n",
       "          cor8    -0.068464\n",
       "          cor9    -0.199696\n",
       "          cor10    0.202253\n",
       "          cor11    0.090306\n",
       "20130716  cor1     0.248536\n",
       "          cor2     0.135977\n",
       "          cor3     0.282605\n",
       "          cor4     0.151550\n",
       "          cor5     0.007938\n",
       "          cor6     0.341013\n",
       "          cor7     0.118046\n",
       "          cor8     0.010513\n",
       "          cor9    -0.011426\n",
       "          cor10    0.180286\n",
       "          cor11    0.150929\n",
       "20130717  cor1     0.323493\n",
       "          cor2     0.165520\n",
       "          cor3     0.255422\n",
       "dtype: float64"
      ]
     },
     "execution_count": 58,
     "metadata": {},
     "output_type": "execute_result"
    }
   ],
   "source": [
    "#TRANSPOSE CORR COLS INTO SINGLE COL\n",
    "\n",
    "#Define temporary df containing only corr cols\n",
    "df_corr = dfS.iloc[:, 2*num_analogues:3*num_analogues]\n",
    "\n",
    "#remove index name before transpose (stack)\n",
    "df_corr.index.name = \"\"\n",
    "\n",
    "#transpose (stack) into single col\n",
    "corrStack = df_corr.stack()\n",
    "corrStack.head(25)"
   ]
  },
  {
   "cell_type": "code",
   "execution_count": 59,
   "metadata": {
    "collapsed": true
   },
   "outputs": [],
   "source": [
    "#BUILD NEW DF IN CORRECT FORMAT\n",
    "\n",
    "#CREATE DF OF CORRECT DIMENSIONS (n x num_cols)\n",
    "df_all = dfS.iloc[:, 0:num_cols]\n",
    "#rename cols\n",
    "df_all.columns = ['dateAnlg', 'Dis', 'Corr']"
   ]
  },
  {
   "cell_type": "code",
   "execution_count": 60,
   "metadata": {
    "collapsed": false
   },
   "outputs": [
    {
     "data": {
      "text/html": [
       "<div style=\"max-height:1000px;max-width:1500px;overflow:auto;\">\n",
       "<table border=\"1\" class=\"dataframe\">\n",
       "  <thead>\n",
       "    <tr style=\"text-align: right;\">\n",
       "      <th></th>\n",
       "      <th>dateAnlg</th>\n",
       "      <th>Dis</th>\n",
       "      <th>Corr</th>\n",
       "    </tr>\n",
       "    <tr>\n",
       "      <th></th>\n",
       "      <th></th>\n",
       "      <th></th>\n",
       "      <th></th>\n",
       "    </tr>\n",
       "  </thead>\n",
       "  <tbody>\n",
       "    <tr>\n",
       "      <th>20130715</th>\n",
       "      <td> 20140715</td>\n",
       "      <td> 20140716</td>\n",
       "      <td> 20140731</td>\n",
       "    </tr>\n",
       "    <tr>\n",
       "      <th>20130716</th>\n",
       "      <td> 20140622</td>\n",
       "      <td> 20140716</td>\n",
       "      <td> 20140621</td>\n",
       "    </tr>\n",
       "    <tr>\n",
       "      <th>20130717</th>\n",
       "      <td> 20140623</td>\n",
       "      <td> 20140716</td>\n",
       "      <td> 20140622</td>\n",
       "    </tr>\n",
       "    <tr>\n",
       "      <th>20130718</th>\n",
       "      <td> 20140623</td>\n",
       "      <td> 20140622</td>\n",
       "      <td> 20140624</td>\n",
       "    </tr>\n",
       "    <tr>\n",
       "      <th>20130719</th>\n",
       "      <td> 20140622</td>\n",
       "      <td> 20140623</td>\n",
       "      <td> 20140725</td>\n",
       "    </tr>\n",
       "    <tr>\n",
       "      <th>20130720</th>\n",
       "      <td> 20140725</td>\n",
       "      <td> 20140724</td>\n",
       "      <td> 20140723</td>\n",
       "    </tr>\n",
       "    <tr>\n",
       "      <th>20130721</th>\n",
       "      <td> 20140725</td>\n",
       "      <td> 20140724</td>\n",
       "      <td> 20140723</td>\n",
       "    </tr>\n",
       "    <tr>\n",
       "      <th>20130722</th>\n",
       "      <td> 20140626</td>\n",
       "      <td> 20140725</td>\n",
       "      <td> 20140625</td>\n",
       "    </tr>\n",
       "    <tr>\n",
       "      <th>20130723</th>\n",
       "      <td> 20140626</td>\n",
       "      <td> 20140806</td>\n",
       "      <td> 20140725</td>\n",
       "    </tr>\n",
       "    <tr>\n",
       "      <th>20130724</th>\n",
       "      <td> 20140806</td>\n",
       "      <td> 20140807</td>\n",
       "      <td> 20140626</td>\n",
       "    </tr>\n",
       "  </tbody>\n",
       "</table>\n",
       "</div>"
      ],
      "text/plain": [
       "          dateAnlg       Dis      Corr\n",
       "                                      \n",
       "20130715  20140715  20140716  20140731\n",
       "20130716  20140622  20140716  20140621\n",
       "20130717  20140623  20140716  20140622\n",
       "20130718  20140623  20140622  20140624\n",
       "20130719  20140622  20140623  20140725\n",
       "20130720  20140725  20140724  20140723\n",
       "20130721  20140725  20140724  20140723\n",
       "20130722  20140626  20140725  20140625\n",
       "20130723  20140626  20140806  20140725\n",
       "20130724  20140806  20140807  20140626"
      ]
     },
     "execution_count": 60,
     "metadata": {},
     "output_type": "execute_result"
    }
   ],
   "source": [
    "#dfS.index.tolist()\n",
    "df_all.head(10)"
   ]
  },
  {
   "cell_type": "code",
   "execution_count": 61,
   "metadata": {
    "collapsed": false
   },
   "outputs": [
    {
     "data": {
      "text/html": [
       "<div style=\"max-height:1000px;max-width:1500px;overflow:auto;\">\n",
       "<table border=\"1\" class=\"dataframe\">\n",
       "  <thead>\n",
       "    <tr style=\"text-align: right;\">\n",
       "      <th></th>\n",
       "      <th>dateAnlg</th>\n",
       "      <th>Dis</th>\n",
       "      <th>Corr</th>\n",
       "    </tr>\n",
       "    <tr>\n",
       "      <th>dateRef</th>\n",
       "      <th></th>\n",
       "      <th></th>\n",
       "      <th></th>\n",
       "    </tr>\n",
       "  </thead>\n",
       "  <tbody>\n",
       "    <tr>\n",
       "      <th>20130715</th>\n",
       "      <td> 20140715</td>\n",
       "      <td> 20140716</td>\n",
       "      <td> 20140731</td>\n",
       "    </tr>\n",
       "    <tr>\n",
       "      <th>20130716</th>\n",
       "      <td> 20140622</td>\n",
       "      <td> 20140716</td>\n",
       "      <td> 20140621</td>\n",
       "    </tr>\n",
       "    <tr>\n",
       "      <th>20130717</th>\n",
       "      <td> 20140623</td>\n",
       "      <td> 20140716</td>\n",
       "      <td> 20140622</td>\n",
       "    </tr>\n",
       "    <tr>\n",
       "      <th>20130718</th>\n",
       "      <td> 20140623</td>\n",
       "      <td> 20140622</td>\n",
       "      <td> 20140624</td>\n",
       "    </tr>\n",
       "    <tr>\n",
       "      <th>20130719</th>\n",
       "      <td> 20140622</td>\n",
       "      <td> 20140623</td>\n",
       "      <td> 20140725</td>\n",
       "    </tr>\n",
       "    <tr>\n",
       "      <th>20130720</th>\n",
       "      <td> 20140725</td>\n",
       "      <td> 20140724</td>\n",
       "      <td> 20140723</td>\n",
       "    </tr>\n",
       "    <tr>\n",
       "      <th>20130721</th>\n",
       "      <td> 20140725</td>\n",
       "      <td> 20140724</td>\n",
       "      <td> 20140723</td>\n",
       "    </tr>\n",
       "    <tr>\n",
       "      <th>20130722</th>\n",
       "      <td> 20140626</td>\n",
       "      <td> 20140725</td>\n",
       "      <td> 20140625</td>\n",
       "    </tr>\n",
       "    <tr>\n",
       "      <th>20130723</th>\n",
       "      <td> 20140626</td>\n",
       "      <td> 20140806</td>\n",
       "      <td> 20140725</td>\n",
       "    </tr>\n",
       "    <tr>\n",
       "      <th>20130724</th>\n",
       "      <td> 20140806</td>\n",
       "      <td> 20140807</td>\n",
       "      <td> 20140626</td>\n",
       "    </tr>\n",
       "  </tbody>\n",
       "</table>\n",
       "</div>"
      ],
      "text/plain": [
       "          dateAnlg       Dis      Corr\n",
       "dateRef                               \n",
       "20130715  20140715  20140716  20140731\n",
       "20130716  20140622  20140716  20140621\n",
       "20130717  20140623  20140716  20140622\n",
       "20130718  20140623  20140622  20140624\n",
       "20130719  20140622  20140623  20140725\n",
       "20130720  20140725  20140724  20140723\n",
       "20130721  20140725  20140724  20140723\n",
       "20130722  20140626  20140725  20140625\n",
       "20130723  20140626  20140806  20140725\n",
       "20130724  20140806  20140807  20140626"
      ]
     },
     "execution_count": 61,
     "metadata": {},
     "output_type": "execute_result"
    }
   ],
   "source": [
    "df_all = df_all.set_index(dfS['dateRef'] )\n",
    "df_all.head(10)"
   ]
  },
  {
   "cell_type": "code",
   "execution_count": 62,
   "metadata": {
    "collapsed": false
   },
   "outputs": [],
   "source": [
    "#REPLICATE INDEX COL 20 TIMES PER ROW\n",
    "\n",
    "#http://stackoverflow.com/questions/26777832/replicating-rows-in-a-pandas-data-frame-by-a-column-value\n",
    "#df2 = df.loc[np.repeat(df.index.values,df.n)]\n",
    "df_all = df_all.loc[np.repeat(df_all.index.values,num_analogues)]"
   ]
  },
  {
   "cell_type": "code",
   "execution_count": 63,
   "metadata": {
    "collapsed": false
   },
   "outputs": [
    {
     "data": {
      "text/html": [
       "<div style=\"max-height:1000px;max-width:1500px;overflow:auto;\">\n",
       "<table border=\"1\" class=\"dataframe\">\n",
       "  <thead>\n",
       "    <tr style=\"text-align: right;\">\n",
       "      <th></th>\n",
       "      <th>dateAnlg</th>\n",
       "      <th>Dis</th>\n",
       "      <th>Corr</th>\n",
       "    </tr>\n",
       "    <tr>\n",
       "      <th>dateRef</th>\n",
       "      <th></th>\n",
       "      <th></th>\n",
       "      <th></th>\n",
       "    </tr>\n",
       "  </thead>\n",
       "  <tbody>\n",
       "    <tr>\n",
       "      <th>20130715</th>\n",
       "      <td> 20140715</td>\n",
       "      <td> 528.217</td>\n",
       "      <td> 0.158543</td>\n",
       "    </tr>\n",
       "    <tr>\n",
       "      <th>20130715</th>\n",
       "      <td> 20140716</td>\n",
       "      <td> 560.199</td>\n",
       "      <td> 0.040807</td>\n",
       "    </tr>\n",
       "    <tr>\n",
       "      <th>20130715</th>\n",
       "      <td> 20140731</td>\n",
       "      <td> 561.790</td>\n",
       "      <td> 0.040730</td>\n",
       "    </tr>\n",
       "    <tr>\n",
       "      <th>20130715</th>\n",
       "      <td> 20140622</td>\n",
       "      <td> 562.651</td>\n",
       "      <td> 0.159989</td>\n",
       "    </tr>\n",
       "    <tr>\n",
       "      <th>20130715</th>\n",
       "      <td> 20140805</td>\n",
       "      <td> 581.428</td>\n",
       "      <td>-0.037593</td>\n",
       "    </tr>\n",
       "    <tr>\n",
       "      <th>20130715</th>\n",
       "      <td> 20140630</td>\n",
       "      <td> 596.056</td>\n",
       "      <td>-0.007528</td>\n",
       "    </tr>\n",
       "    <tr>\n",
       "      <th>20130715</th>\n",
       "      <td> 20140804</td>\n",
       "      <td> 611.714</td>\n",
       "      <td>-0.060790</td>\n",
       "    </tr>\n",
       "    <tr>\n",
       "      <th>20130715</th>\n",
       "      <td> 20140714</td>\n",
       "      <td> 612.736</td>\n",
       "      <td>-0.068464</td>\n",
       "    </tr>\n",
       "    <tr>\n",
       "      <th>20130715</th>\n",
       "      <td> 20140807</td>\n",
       "      <td> 616.273</td>\n",
       "      <td>-0.199696</td>\n",
       "    </tr>\n",
       "    <tr>\n",
       "      <th>20130715</th>\n",
       "      <td> 20140621</td>\n",
       "      <td> 617.265</td>\n",
       "      <td> 0.202253</td>\n",
       "    </tr>\n",
       "    <tr>\n",
       "      <th>20130715</th>\n",
       "      <td> 20140623</td>\n",
       "      <td> 617.849</td>\n",
       "      <td> 0.090306</td>\n",
       "    </tr>\n",
       "    <tr>\n",
       "      <th>20130716</th>\n",
       "      <td> 20140622</td>\n",
       "      <td> 553.170</td>\n",
       "      <td> 0.248536</td>\n",
       "    </tr>\n",
       "    <tr>\n",
       "      <th>20130716</th>\n",
       "      <td> 20140716</td>\n",
       "      <td> 589.101</td>\n",
       "      <td> 0.135977</td>\n",
       "    </tr>\n",
       "    <tr>\n",
       "      <th>20130716</th>\n",
       "      <td> 20140621</td>\n",
       "      <td> 614.791</td>\n",
       "      <td> 0.282605</td>\n",
       "    </tr>\n",
       "    <tr>\n",
       "      <th>20130716</th>\n",
       "      <td> 20140715</td>\n",
       "      <td> 621.192</td>\n",
       "      <td> 0.151550</td>\n",
       "    </tr>\n",
       "    <tr>\n",
       "      <th>20130716</th>\n",
       "      <td> 20140805</td>\n",
       "      <td> 638.320</td>\n",
       "      <td> 0.007938</td>\n",
       "    </tr>\n",
       "    <tr>\n",
       "      <th>20130716</th>\n",
       "      <td> 20140620</td>\n",
       "      <td> 639.902</td>\n",
       "      <td> 0.341013</td>\n",
       "    </tr>\n",
       "    <tr>\n",
       "      <th>20130716</th>\n",
       "      <td> 20140623</td>\n",
       "      <td> 650.524</td>\n",
       "      <td> 0.118046</td>\n",
       "    </tr>\n",
       "    <tr>\n",
       "      <th>20130716</th>\n",
       "      <td> 20140808</td>\n",
       "      <td> 652.808</td>\n",
       "      <td> 0.010513</td>\n",
       "    </tr>\n",
       "    <tr>\n",
       "      <th>20130716</th>\n",
       "      <td> 20140804</td>\n",
       "      <td> 655.144</td>\n",
       "      <td>-0.011426</td>\n",
       "    </tr>\n",
       "    <tr>\n",
       "      <th>20130716</th>\n",
       "      <td> 20140618</td>\n",
       "      <td> 665.755</td>\n",
       "      <td> 0.180286</td>\n",
       "    </tr>\n",
       "    <tr>\n",
       "      <th>20130716</th>\n",
       "      <td> 20140815</td>\n",
       "      <td> 667.242</td>\n",
       "      <td> 0.150929</td>\n",
       "    </tr>\n",
       "    <tr>\n",
       "      <th>20130717</th>\n",
       "      <td> 20140623</td>\n",
       "      <td> 538.366</td>\n",
       "      <td> 0.323493</td>\n",
       "    </tr>\n",
       "    <tr>\n",
       "      <th>20130717</th>\n",
       "      <td> 20140716</td>\n",
       "      <td> 539.719</td>\n",
       "      <td> 0.165520</td>\n",
       "    </tr>\n",
       "    <tr>\n",
       "      <th>20130717</th>\n",
       "      <td> 20140622</td>\n",
       "      <td> 542.755</td>\n",
       "      <td> 0.255422</td>\n",
       "    </tr>\n",
       "  </tbody>\n",
       "</table>\n",
       "</div>"
      ],
      "text/plain": [
       "          dateAnlg      Dis      Corr\n",
       "dateRef                              \n",
       "20130715  20140715  528.217  0.158543\n",
       "20130715  20140716  560.199  0.040807\n",
       "20130715  20140731  561.790  0.040730\n",
       "20130715  20140622  562.651  0.159989\n",
       "20130715  20140805  581.428 -0.037593\n",
       "20130715  20140630  596.056 -0.007528\n",
       "20130715  20140804  611.714 -0.060790\n",
       "20130715  20140714  612.736 -0.068464\n",
       "20130715  20140807  616.273 -0.199696\n",
       "20130715  20140621  617.265  0.202253\n",
       "20130715  20140623  617.849  0.090306\n",
       "20130716  20140622  553.170  0.248536\n",
       "20130716  20140716  589.101  0.135977\n",
       "20130716  20140621  614.791  0.282605\n",
       "20130716  20140715  621.192  0.151550\n",
       "20130716  20140805  638.320  0.007938\n",
       "20130716  20140620  639.902  0.341013\n",
       "20130716  20140623  650.524  0.118046\n",
       "20130716  20140808  652.808  0.010513\n",
       "20130716  20140804  655.144 -0.011426\n",
       "20130716  20140618  665.755  0.180286\n",
       "20130716  20140815  667.242  0.150929\n",
       "20130717  20140623  538.366  0.323493\n",
       "20130717  20140716  539.719  0.165520\n",
       "20130717  20140622  542.755  0.255422"
      ]
     },
     "execution_count": 63,
     "metadata": {},
     "output_type": "execute_result"
    }
   ],
   "source": [
    "#REPLACE COLS WITH STACKED ANLG DATES, DIS AND CORR\n",
    "df_all.iloc[:,0] = list(dateStack)\n",
    "df_all.iloc[:,1] = list(disStack)\n",
    "df_all.iloc[:,2] = list(corrStack)\n",
    "df_all.head(25)"
   ]
  },
  {
   "cell_type": "code",
   "execution_count": 64,
   "metadata": {
    "collapsed": false
   },
   "outputs": [
    {
     "data": {
      "text/plain": [
       "(5885, 3)"
      ]
     },
     "execution_count": 64,
     "metadata": {},
     "output_type": "execute_result"
    }
   ],
   "source": [
    "df_all.shape"
   ]
  },
  {
   "cell_type": "code",
   "execution_count": 66,
   "metadata": {
    "collapsed": false,
    "scrolled": true
   },
   "outputs": [
    {
     "data": {
      "text/html": [
       "<div style=\"max-height:1000px;max-width:1500px;overflow:auto;\">\n",
       "<table border=\"1\" class=\"dataframe\">\n",
       "  <thead>\n",
       "    <tr style=\"text-align: right;\">\n",
       "      <th></th>\n",
       "      <th>dateAnlg</th>\n",
       "      <th>Dis</th>\n",
       "      <th>Corr</th>\n",
       "    </tr>\n",
       "    <tr>\n",
       "      <th>dateRef</th>\n",
       "      <th></th>\n",
       "      <th></th>\n",
       "      <th></th>\n",
       "    </tr>\n",
       "  </thead>\n",
       "  <tbody>\n",
       "    <tr>\n",
       "      <th>20141230</th>\n",
       "      <td> 20131211</td>\n",
       "      <td> 917.602</td>\n",
       "      <td> 0.569573</td>\n",
       "    </tr>\n",
       "    <tr>\n",
       "      <th>20141230</th>\n",
       "      <td> 20131208</td>\n",
       "      <td> 948.798</td>\n",
       "      <td> 0.462088</td>\n",
       "    </tr>\n",
       "    <tr>\n",
       "      <th>20141230</th>\n",
       "      <td> 20140123</td>\n",
       "      <td> 954.568</td>\n",
       "      <td> 0.423612</td>\n",
       "    </tr>\n",
       "    <tr>\n",
       "      <th>20141230</th>\n",
       "      <td> 20131210</td>\n",
       "      <td> 964.000</td>\n",
       "      <td> 0.417316</td>\n",
       "    </tr>\n",
       "    <tr>\n",
       "      <th>20141231</th>\n",
       "      <td> 20131217</td>\n",
       "      <td> 794.941</td>\n",
       "      <td> 0.613228</td>\n",
       "    </tr>\n",
       "    <tr>\n",
       "      <th>20141231</th>\n",
       "      <td> 20130104</td>\n",
       "      <td> 795.038</td>\n",
       "      <td> 0.603565</td>\n",
       "    </tr>\n",
       "    <tr>\n",
       "      <th>20141231</th>\n",
       "      <td> 20130108</td>\n",
       "      <td> 844.628</td>\n",
       "      <td> 0.557383</td>\n",
       "    </tr>\n",
       "    <tr>\n",
       "      <th>20141231</th>\n",
       "      <td> 20130125</td>\n",
       "      <td> 873.354</td>\n",
       "      <td> 0.544596</td>\n",
       "    </tr>\n",
       "    <tr>\n",
       "      <th>20141231</th>\n",
       "      <td> 20140124</td>\n",
       "      <td> 876.450</td>\n",
       "      <td> 0.492555</td>\n",
       "    </tr>\n",
       "    <tr>\n",
       "      <th>20141231</th>\n",
       "      <td> 20130109</td>\n",
       "      <td> 891.232</td>\n",
       "      <td> 0.421007</td>\n",
       "    </tr>\n",
       "    <tr>\n",
       "      <th>20141231</th>\n",
       "      <td> 20130105</td>\n",
       "      <td> 903.548</td>\n",
       "      <td> 0.502075</td>\n",
       "    </tr>\n",
       "    <tr>\n",
       "      <th>20141231</th>\n",
       "      <td> 20131213</td>\n",
       "      <td> 916.632</td>\n",
       "      <td> 0.640764</td>\n",
       "    </tr>\n",
       "    <tr>\n",
       "      <th>20141231</th>\n",
       "      <td> 20131208</td>\n",
       "      <td> 917.048</td>\n",
       "      <td> 0.403180</td>\n",
       "    </tr>\n",
       "    <tr>\n",
       "      <th>20141231</th>\n",
       "      <td> 20131212</td>\n",
       "      <td> 932.007</td>\n",
       "      <td> 0.572354</td>\n",
       "    </tr>\n",
       "    <tr>\n",
       "      <th>20141231</th>\n",
       "      <td> 20131214</td>\n",
       "      <td> 940.649</td>\n",
       "      <td> 0.493749</td>\n",
       "    </tr>\n",
       "  </tbody>\n",
       "</table>\n",
       "</div>"
      ],
      "text/plain": [
       "          dateAnlg      Dis      Corr\n",
       "dateRef                              \n",
       "20141230  20131211  917.602  0.569573\n",
       "20141230  20131208  948.798  0.462088\n",
       "20141230  20140123  954.568  0.423612\n",
       "20141230  20131210  964.000  0.417316\n",
       "20141231  20131217  794.941  0.613228\n",
       "20141231  20130104  795.038  0.603565\n",
       "20141231  20130108  844.628  0.557383\n",
       "20141231  20130125  873.354  0.544596\n",
       "20141231  20140124  876.450  0.492555\n",
       "20141231  20130109  891.232  0.421007\n",
       "20141231  20130105  903.548  0.502075\n",
       "20141231  20131213  916.632  0.640764\n",
       "20141231  20131208  917.048  0.403180\n",
       "20141231  20131212  932.007  0.572354\n",
       "20141231  20131214  940.649  0.493749"
      ]
     },
     "execution_count": 66,
     "metadata": {},
     "output_type": "execute_result"
    }
   ],
   "source": [
    "df_all.tail(15)"
   ]
  },
  {
   "cell_type": "code",
   "execution_count": 33,
   "metadata": {
    "collapsed": true
   },
   "outputs": [],
   "source": [
    "#dfS_select = df_all[df_all.index <= 19600101]"
   ]
  },
  {
   "cell_type": "code",
   "execution_count": 67,
   "metadata": {
    "collapsed": false
   },
   "outputs": [],
   "source": [
    "#SAVE TO CSV FILE\n",
    "\n",
    "#df_all.to_csv('analogues_19480101_20151225.json', float_format='%.7f', sep='\\t')\n",
    "#df_all.to_csv('test2.json', float_format='%.7f', sep='\\t')\n",
    "#df_all.to_csv('test_gt1yr.json', float_format='%.7f', sep='\\t')\n",
    "#df_all.to_csv('test_gt1yr_birdhouse.json', float_format='%.7f', sep='\\t')\n",
    "df_all.to_csv('test_11anlgs.json', float_format='%.7f', sep='\\t')\n",
    "#df_all.to_csv('test_span2months.json', float_format='%.7f', sep='\\t')\n",
    "#df_all.to_csv('test_gt1yr_birdhouse_03Jan2013.json', float_format='%.7f', sep='\\t')\n",
    "\n",
    "#df_all.to_csv('analogues_19480101_20160520.json', float_format='%.7f', sep='\\t')\n",
    "\n",
    "#dfS_select.to_csv('analogues_select.json', float_format='%.7f', sep='\\t')"
   ]
  },
  {
   "cell_type": "code",
   "execution_count": 77,
   "metadata": {
    "collapsed": false
   },
   "outputs": [
    {
     "data": {
      "text/plain": [
       "u'/homel/cnangini/PROJECTS/analogues'"
      ]
     },
     "execution_count": 77,
     "metadata": {},
     "output_type": "execute_result"
    }
   ],
   "source": [
    "pwd"
   ]
  },
  {
   "cell_type": "code",
   "execution_count": 86,
   "metadata": {
    "collapsed": false
   },
   "outputs": [
    {
     "name": "stdout",
     "output_type": "stream",
     "text": [
      "-0.0773818303236 0.952985818969\n"
     ]
    }
   ],
   "source": [
    "print df_all['Corr'].min(), df_all['Corr'].max()"
   ]
  },
  {
   "cell_type": "code",
   "execution_count": 87,
   "metadata": {
    "collapsed": false
   },
   "outputs": [
    {
     "name": "stdout",
     "output_type": "stream",
     "text": [
      "284.431297359 1369.41118104\n"
     ]
    }
   ],
   "source": [
    "print df_all['Dis'].min(), df_all['Dis'].max()"
   ]
  },
  {
   "cell_type": "code",
   "execution_count": 31,
   "metadata": {
    "collapsed": false
   },
   "outputs": [],
   "source": [
    "#check 1970-1979\n",
    "df_check =  df_all[ (df_all['dateAnlg'] >= 19700101) & (df_all['dateAnlg'] <= 19791231) ]\n",
    "\n",
    "\n",
    "#((df['column1']=='banana') & (df['colour']=='green'))"
   ]
  },
  {
   "cell_type": "code",
   "execution_count": 32,
   "metadata": {
    "collapsed": false
   },
   "outputs": [
    {
     "data": {
      "text/plain": [
       "(75935, 3)"
      ]
     },
     "execution_count": 32,
     "metadata": {},
     "output_type": "execute_result"
    }
   ],
   "source": [
    "df_check.shape"
   ]
  },
  {
   "cell_type": "code",
   "execution_count": 33,
   "metadata": {
    "collapsed": true
   },
   "outputs": [],
   "source": [
    "df_check =  df_all[ (df_all['dateAnlg'] >= 20100101) & (df_all['dateAnlg'] <= 20191231) ]"
   ]
  },
  {
   "cell_type": "code",
   "execution_count": 34,
   "metadata": {
    "collapsed": false
   },
   "outputs": [
    {
     "data": {
      "text/plain": [
       "(44554, 3)"
      ]
     },
     "execution_count": 34,
     "metadata": {},
     "output_type": "execute_result"
    }
   ],
   "source": [
    "df_check.shape"
   ]
  },
  {
   "cell_type": "code",
   "execution_count": 35,
   "metadata": {
    "collapsed": false
   },
   "outputs": [],
   "source": [
    "#cut file for testing purposes\n",
    "df_select = df_all.iloc[19000:19100,:]"
   ]
  },
  {
   "cell_type": "code",
   "execution_count": 36,
   "metadata": {
    "collapsed": false
   },
   "outputs": [
    {
     "data": {
      "text/plain": [
       "(100, 3)"
      ]
     },
     "execution_count": 36,
     "metadata": {},
     "output_type": "execute_result"
    }
   ],
   "source": [
    "df_select.shape"
   ]
  },
  {
   "cell_type": "code",
   "execution_count": 37,
   "metadata": {
    "collapsed": false
   },
   "outputs": [
    {
     "data": {
      "text/html": [
       "<div>\n",
       "<table border=\"1\" class=\"dataframe\">\n",
       "  <thead>\n",
       "    <tr style=\"text-align: right;\">\n",
       "      <th></th>\n",
       "      <th>dateAnlg</th>\n",
       "      <th>Dis</th>\n",
       "      <th>Corr</th>\n",
       "    </tr>\n",
       "    <tr>\n",
       "      <th>dateRef</th>\n",
       "      <th></th>\n",
       "      <th></th>\n",
       "      <th></th>\n",
       "    </tr>\n",
       "  </thead>\n",
       "  <tbody>\n",
       "    <tr>\n",
       "      <th>19500812</th>\n",
       "      <td>19840828</td>\n",
       "      <td>449.988840</td>\n",
       "      <td>0.546204</td>\n",
       "    </tr>\n",
       "    <tr>\n",
       "      <th>19500812</th>\n",
       "      <td>19590909</td>\n",
       "      <td>453.044659</td>\n",
       "      <td>0.612506</td>\n",
       "    </tr>\n",
       "    <tr>\n",
       "      <th>19500812</th>\n",
       "      <td>20030819</td>\n",
       "      <td>453.638210</td>\n",
       "      <td>0.559760</td>\n",
       "    </tr>\n",
       "    <tr>\n",
       "      <th>19500812</th>\n",
       "      <td>19970801</td>\n",
       "      <td>457.039066</td>\n",
       "      <td>0.597291</td>\n",
       "    </tr>\n",
       "    <tr>\n",
       "      <th>19500812</th>\n",
       "      <td>19980815</td>\n",
       "      <td>459.252587</td>\n",
       "      <td>0.534387</td>\n",
       "    </tr>\n",
       "    <tr>\n",
       "      <th>19500812</th>\n",
       "      <td>19990829</td>\n",
       "      <td>466.308358</td>\n",
       "      <td>0.580896</td>\n",
       "    </tr>\n",
       "    <tr>\n",
       "      <th>19500812</th>\n",
       "      <td>19510820</td>\n",
       "      <td>466.860763</td>\n",
       "      <td>0.727749</td>\n",
       "    </tr>\n",
       "    <tr>\n",
       "      <th>19500812</th>\n",
       "      <td>20130816</td>\n",
       "      <td>467.150673</td>\n",
       "      <td>0.623782</td>\n",
       "    </tr>\n",
       "    <tr>\n",
       "      <th>19500812</th>\n",
       "      <td>19990717</td>\n",
       "      <td>471.338490</td>\n",
       "      <td>0.571134</td>\n",
       "    </tr>\n",
       "    <tr>\n",
       "      <th>19500812</th>\n",
       "      <td>19790816</td>\n",
       "      <td>471.416637</td>\n",
       "      <td>0.661347</td>\n",
       "    </tr>\n",
       "  </tbody>\n",
       "</table>\n",
       "</div>"
      ],
      "text/plain": [
       "          dateAnlg         Dis      Corr\n",
       "dateRef                                 \n",
       "19500812  19840828  449.988840  0.546204\n",
       "19500812  19590909  453.044659  0.612506\n",
       "19500812  20030819  453.638210  0.559760\n",
       "19500812  19970801  457.039066  0.597291\n",
       "19500812  19980815  459.252587  0.534387\n",
       "19500812  19990829  466.308358  0.580896\n",
       "19500812  19510820  466.860763  0.727749\n",
       "19500812  20130816  467.150673  0.623782\n",
       "19500812  19990717  471.338490  0.571134\n",
       "19500812  19790816  471.416637  0.661347"
      ]
     },
     "execution_count": 37,
     "metadata": {},
     "output_type": "execute_result"
    }
   ],
   "source": [
    "df_select.tail(10)"
   ]
  },
  {
   "cell_type": "code",
   "execution_count": 38,
   "metadata": {
    "collapsed": false
   },
   "outputs": [],
   "source": [
    "df_chunk = df_all.iloc[149000:149100,:]\n",
    "df_chunk2 = df_all.iloc[106000:106100,:]"
   ]
  },
  {
   "cell_type": "code",
   "execution_count": 39,
   "metadata": {
    "collapsed": false
   },
   "outputs": [],
   "source": [
    "df_select = df_select.append(df_chunk)\n",
    "df_select = df_select.append(df_chunk2)\n",
    "#df_select = pd.concat([df_select,df_chunk])"
   ]
  },
  {
   "cell_type": "code",
   "execution_count": 40,
   "metadata": {
    "collapsed": false
   },
   "outputs": [
    {
     "data": {
      "text/plain": [
       "(300, 3)"
      ]
     },
     "execution_count": 40,
     "metadata": {},
     "output_type": "execute_result"
    }
   ],
   "source": [
    "df_select.shape"
   ]
  },
  {
   "cell_type": "code",
   "execution_count": 41,
   "metadata": {
    "collapsed": true
   },
   "outputs": [],
   "source": [
    "#SAVE SELECTION TO TSV FILE\n",
    "\n",
    "#df_select.to_csv('analogues_reformat_all_select.tsv', float_format='%.2f', sep='\\t')"
   ]
  },
  {
   "cell_type": "code",
   "execution_count": 42,
   "metadata": {
    "collapsed": false
   },
   "outputs": [
    {
     "name": "stdout",
     "output_type": "stream",
     "text": [
      "-0.0773818303236 0.952985818969\n"
     ]
    }
   ],
   "source": [
    "print df_all['Corr'].min(), df_all['Corr'].max()"
   ]
  },
  {
   "cell_type": "code",
   "execution_count": 43,
   "metadata": {
    "collapsed": false,
    "scrolled": true
   },
   "outputs": [
    {
     "name": "stdout",
     "output_type": "stream",
     "text": [
      "284.431297359 1369.41118104\n"
     ]
    }
   ],
   "source": [
    "print df_all['Dis'].min(), df_all['Dis'].max()"
   ]
  },
  {
   "cell_type": "code",
   "execution_count": 44,
   "metadata": {
    "collapsed": false
   },
   "outputs": [
    {
     "name": "stdout",
     "output_type": "stream",
     "text": [
      "0.124791552993 0.821019151951\n"
     ]
    }
   ],
   "source": [
    "df_select['Corr'].max()\n",
    "df_select['Corr'].min()\n",
    "print df_select['Corr'].min(), df_select['Corr'].max()"
   ]
  },
  {
   "cell_type": "code",
   "execution_count": 45,
   "metadata": {
    "collapsed": false
   },
   "outputs": [
    {
     "name": "stdout",
     "output_type": "stream",
     "text": [
      "350.217929418 696.281040107\n"
     ]
    }
   ],
   "source": [
    "df_select['Dis'].max()\n",
    "df_select['Dis'].min()\n",
    "print df_select['Dis'].min(), df_select['Dis'].max()"
   ]
  },
  {
   "cell_type": "code",
   "execution_count": null,
   "metadata": {
    "collapsed": true
   },
   "outputs": [],
   "source": []
  }
 ],
 "metadata": {
  "kernelspec": {
   "display_name": "Python 2",
   "language": "python",
   "name": "python2"
  },
  "language_info": {
   "codemirror_mode": {
    "name": "ipython",
    "version": 2
   },
   "file_extension": ".py",
   "mimetype": "text/x-python",
   "name": "python",
   "nbconvert_exporter": "python",
   "pygments_lexer": "ipython2",
   "version": "2.7.11"
  }
 },
 "nbformat": 4,
 "nbformat_minor": 0
}
