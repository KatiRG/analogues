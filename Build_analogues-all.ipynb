{
 "cells": [
  {
   "cell_type": "code",
   "execution_count": 243,
   "metadata": {
    "collapsed": false
   },
   "outputs": [],
   "source": [
    "#Created: 15.02.2016\n",
    "#Last modified: 18.02.2016\n",
    "#               29.02.2016 add Corr and Dis cols\n",
    "#               25.05.2016 updated input file and created truncated file for testing\n",
    "#               24.05.2016 tested reading in file produced in birdhouse analogs process\n",
    "#               05.09.2016 format test file for dc chart brush problem\n",
    "#               09.09.2016 added test file that spans two months to test date handling"
   ]
  },
  {
   "cell_type": "code",
   "execution_count": 1,
   "metadata": {
    "collapsed": true
   },
   "outputs": [],
   "source": [
    "import numpy as np\n",
    "import pandas as pd\n",
    "import collections\n",
    "import os"
   ]
  },
  {
   "cell_type": "code",
   "execution_count": 2,
   "metadata": {
    "collapsed": true
   },
   "outputs": [],
   "source": [
    "num_analogues = 20 #number of analogues searched for\n",
    "num_cols = 3 #dateAnlg, Dis, Corr"
   ]
  },
  {
   "cell_type": "code",
   "execution_count": 3,
   "metadata": {
    "collapsed": false
   },
   "outputs": [
    {
     "data": {
      "text/html": [
       "<div style=\"max-height:1000px;max-width:1500px;overflow:auto;\">\n",
       "<table border=\"1\" class=\"dataframe\">\n",
       "  <thead>\n",
       "    <tr style=\"text-align: right;\">\n",
       "      <th></th>\n",
       "      <th>date.an1</th>\n",
       "      <th>date.an2</th>\n",
       "      <th>date.an3</th>\n",
       "      <th>date.an4</th>\n",
       "      <th>date.an5</th>\n",
       "      <th>date.an6</th>\n",
       "      <th>date.an7</th>\n",
       "      <th>date.an8</th>\n",
       "      <th>date.an9</th>\n",
       "      <th>date.an10</th>\n",
       "      <th>...</th>\n",
       "      <th>cor11</th>\n",
       "      <th>cor12</th>\n",
       "      <th>cor13</th>\n",
       "      <th>cor14</th>\n",
       "      <th>cor15</th>\n",
       "      <th>cor16</th>\n",
       "      <th>cor17</th>\n",
       "      <th>cor18</th>\n",
       "      <th>cor19</th>\n",
       "      <th>cor20</th>\n",
       "    </tr>\n",
       "    <tr>\n",
       "      <th>date</th>\n",
       "      <th></th>\n",
       "      <th></th>\n",
       "      <th></th>\n",
       "      <th></th>\n",
       "      <th></th>\n",
       "      <th></th>\n",
       "      <th></th>\n",
       "      <th></th>\n",
       "      <th></th>\n",
       "      <th></th>\n",
       "      <th></th>\n",
       "      <th></th>\n",
       "      <th></th>\n",
       "      <th></th>\n",
       "      <th></th>\n",
       "      <th></th>\n",
       "      <th></th>\n",
       "      <th></th>\n",
       "      <th></th>\n",
       "      <th></th>\n",
       "      <th></th>\n",
       "    </tr>\n",
       "  </thead>\n",
       "  <tbody>\n",
       "    <tr>\n",
       "      <th>20130101</th>\n",
       "      <td> 20131228</td>\n",
       "      <td> 20141215</td>\n",
       "      <td> 20131229</td>\n",
       "      <td> 20140104</td>\n",
       "      <td> 20141219</td>\n",
       "      <td> 20141216</td>\n",
       "      <td> 20141214</td>\n",
       "      <td> 20140113</td>\n",
       "      <td> 20131207</td>\n",
       "      <td> 20131231</td>\n",
       "      <td>...</td>\n",
       "      <td> 0.086539</td>\n",
       "      <td> 0.186083</td>\n",
       "      <td> 0.198691</td>\n",
       "      <td> 0.232033</td>\n",
       "      <td>-0.036342</td>\n",
       "      <td> 0.228655</td>\n",
       "      <td> 0.105518</td>\n",
       "      <td> 0.066888</td>\n",
       "      <td> 0.142485</td>\n",
       "      <td> 0.157468</td>\n",
       "    </tr>\n",
       "    <tr>\n",
       "      <th>20130102</th>\n",
       "      <td> 20131208</td>\n",
       "      <td> 20131211</td>\n",
       "      <td> 20141231</td>\n",
       "      <td> 20131229</td>\n",
       "      <td> 20131217</td>\n",
       "      <td> 20141215</td>\n",
       "      <td> 20131207</td>\n",
       "      <td> 20141230</td>\n",
       "      <td> 20140123</td>\n",
       "      <td> 20131216</td>\n",
       "      <td>...</td>\n",
       "      <td> 0.231459</td>\n",
       "      <td> 0.004410</td>\n",
       "      <td> 0.375896</td>\n",
       "      <td> 0.411108</td>\n",
       "      <td>-0.078786</td>\n",
       "      <td> 0.100821</td>\n",
       "      <td> 0.259724</td>\n",
       "      <td>-0.016893</td>\n",
       "      <td> 0.287747</td>\n",
       "      <td> 0.048639</td>\n",
       "    </tr>\n",
       "    <tr>\n",
       "      <th>20130103</th>\n",
       "      <td> 20141230</td>\n",
       "      <td> 20141231</td>\n",
       "      <td> 20131208</td>\n",
       "      <td> 20131211</td>\n",
       "      <td> 20131217</td>\n",
       "      <td> 20131212</td>\n",
       "      <td> 20131229</td>\n",
       "      <td> 20131207</td>\n",
       "      <td> 20141220</td>\n",
       "      <td> 20131209</td>\n",
       "      <td>...</td>\n",
       "      <td> 0.293782</td>\n",
       "      <td> 0.349906</td>\n",
       "      <td> 0.217645</td>\n",
       "      <td> 0.440678</td>\n",
       "      <td> 0.151341</td>\n",
       "      <td> 0.113716</td>\n",
       "      <td> 0.283423</td>\n",
       "      <td>-0.003058</td>\n",
       "      <td> 0.270340</td>\n",
       "      <td> 0.065022</td>\n",
       "    </tr>\n",
       "    <tr>\n",
       "      <th>20130104</th>\n",
       "      <td> 20141230</td>\n",
       "      <td> 20141231</td>\n",
       "      <td> 20141229</td>\n",
       "      <td> 20131208</td>\n",
       "      <td> 20131207</td>\n",
       "      <td> 20131211</td>\n",
       "      <td> 20131212</td>\n",
       "      <td> 20131213</td>\n",
       "      <td> 20131209</td>\n",
       "      <td> 20131217</td>\n",
       "      <td>...</td>\n",
       "      <td> 0.340047</td>\n",
       "      <td> 0.393674</td>\n",
       "      <td> 0.252089</td>\n",
       "      <td> 0.178680</td>\n",
       "      <td> 0.103945</td>\n",
       "      <td> 0.189505</td>\n",
       "      <td> 0.214643</td>\n",
       "      <td> 0.419906</td>\n",
       "      <td> 0.291117</td>\n",
       "      <td> 0.135634</td>\n",
       "    </tr>\n",
       "    <tr>\n",
       "      <th>20130105</th>\n",
       "      <td> 20141229</td>\n",
       "      <td> 20141230</td>\n",
       "      <td> 20141228</td>\n",
       "      <td> 20141231</td>\n",
       "      <td> 20131208</td>\n",
       "      <td> 20131207</td>\n",
       "      <td> 20140123</td>\n",
       "      <td> 20131211</td>\n",
       "      <td> 20131210</td>\n",
       "      <td> 20131209</td>\n",
       "      <td>...</td>\n",
       "      <td> 0.217104</td>\n",
       "      <td> 0.320012</td>\n",
       "      <td> 0.177326</td>\n",
       "      <td> 0.590540</td>\n",
       "      <td> 0.043217</td>\n",
       "      <td> 0.106392</td>\n",
       "      <td> 0.059386</td>\n",
       "      <td> 0.492298</td>\n",
       "      <td> 0.497847</td>\n",
       "      <td> 0.108963</td>\n",
       "    </tr>\n",
       "  </tbody>\n",
       "</table>\n",
       "<p>5 rows × 60 columns</p>\n",
       "</div>"
      ],
      "text/plain": [
       "          date.an1  date.an2  date.an3  date.an4  date.an5  date.an6  \\\n",
       "date                                                                   \n",
       "20130101  20131228  20141215  20131229  20140104  20141219  20141216   \n",
       "20130102  20131208  20131211  20141231  20131229  20131217  20141215   \n",
       "20130103  20141230  20141231  20131208  20131211  20131217  20131212   \n",
       "20130104  20141230  20141231  20141229  20131208  20131207  20131211   \n",
       "20130105  20141229  20141230  20141228  20141231  20131208  20131207   \n",
       "\n",
       "          date.an7  date.an8  date.an9  date.an10    ...        cor11  \\\n",
       "date                                                 ...                \n",
       "20130101  20141214  20140113  20131207   20131231    ...     0.086539   \n",
       "20130102  20131207  20141230  20140123   20131216    ...     0.231459   \n",
       "20130103  20131229  20131207  20141220   20131209    ...     0.293782   \n",
       "20130104  20131212  20131213  20131209   20131217    ...     0.340047   \n",
       "20130105  20140123  20131211  20131210   20131209    ...     0.217104   \n",
       "\n",
       "             cor12     cor13     cor14     cor15     cor16     cor17  \\\n",
       "date                                                                   \n",
       "20130101  0.186083  0.198691  0.232033 -0.036342  0.228655  0.105518   \n",
       "20130102  0.004410  0.375896  0.411108 -0.078786  0.100821  0.259724   \n",
       "20130103  0.349906  0.217645  0.440678  0.151341  0.113716  0.283423   \n",
       "20130104  0.393674  0.252089  0.178680  0.103945  0.189505  0.214643   \n",
       "20130105  0.320012  0.177326  0.590540  0.043217  0.106392  0.059386   \n",
       "\n",
       "             cor18     cor19     cor20  \n",
       "date                                    \n",
       "20130101  0.066888  0.142485  0.157468  \n",
       "20130102 -0.016893  0.287747  0.048639  \n",
       "20130103 -0.003058  0.270340  0.065022  \n",
       "20130104  0.419906  0.291117  0.135634  \n",
       "20130105  0.492298  0.497847  0.108963  \n",
       "\n",
       "[5 rows x 60 columns]"
      ]
     },
     "execution_count": 3,
     "metadata": {},
     "output_type": "execute_result"
    }
   ],
   "source": [
    "#To read file produced in birdhouse\n",
    "dfS = pd.DataFrame()\n",
    "#analogs = 'http://birdhouse-lsce.extra.cea.fr:8090/wpsoutputs/flyingpigeon/output_txt-0797016c-378e-11e6-91dd-41d8cd554993.txt'\n",
    "#analogs = 'http://localhost:8090/wpsoutputs/flyingpigeon/analogs-c26ba398-711e-11e6-8d5a-fb3204a8dad1.txt'\n",
    "\n",
    "#Analysis period > 1 year\n",
    "#analogs = 'http://birdhouse-lsce.extra.cea.fr:8090/wpsoutputs/flyingpigeon/analogs-5ee81d98-6fc9-11e6-a296-4d3fe2c8a29e.txt'\n",
    "analogs = 'http://birdhouse-lsce.extra.cea.fr:8090/wpsoutputs/flyingpigeon/analogs-73cd782c-74f4-11e6-bf5f-f73f2a3d7e35.txt'\n",
    "\n",
    "#Analysis period spans two months (30.06.2013 to 02.07.2013)\n",
    "#analogs = 'http://localhost:8090/wpsoutputs/flyingpigeon/analogs-7aafc4ec-74ea-11e6-b77d-eb5606a7fe9f.txt'\n",
    "\n",
    "dfS = pd.read_csv(analogs, delimiter=r\"\\s+\", index_col=0)\n",
    "dfS.head()"
   ]
  },
  {
   "cell_type": "code",
   "execution_count": 4,
   "metadata": {
    "collapsed": false
   },
   "outputs": [],
   "source": [
    "# Create dataframe from analogues file\n",
    "# Latest file: /home/estimr1/yiou/estimr1/NCEP/slpano-NA.analog30rms.1d.all1948-2016.dat\n",
    "# 2015: /home/estimr1/yiou/estimr1/NCEP/slpano-NA.analog30rms.1d.all1948-2015.dat\n",
    "# Note that last day in 2015 file is 20151225 (and NOT 20151231) because that is the last sunday of Dec 2015.\n",
    "\n",
    "#dfS = pd.DataFrame()\n",
    "#dfS = pd.read_csv('/home/estimr1/yiou/estimr1/NCEP/slpano-NA.analog30rms.1d.all1948-2016.dat', delimiter=' ', index_col=0)\n",
    "#dfS.set_index('Date', inplace=True)\n",
    "\n",
    "#dfS.head(5)\n",
    "\n",
    "#dfS.index.name"
   ]
  },
  {
   "cell_type": "code",
   "execution_count": 5,
   "metadata": {
    "collapsed": false
   },
   "outputs": [
    {
     "data": {
      "text/html": [
       "<div style=\"max-height:1000px;max-width:1500px;overflow:auto;\">\n",
       "<table border=\"1\" class=\"dataframe\">\n",
       "  <thead>\n",
       "    <tr style=\"text-align: right;\">\n",
       "      <th></th>\n",
       "      <th>date.an1</th>\n",
       "      <th>date.an2</th>\n",
       "      <th>date.an3</th>\n",
       "      <th>date.an4</th>\n",
       "      <th>date.an5</th>\n",
       "      <th>date.an6</th>\n",
       "      <th>date.an7</th>\n",
       "      <th>date.an8</th>\n",
       "      <th>date.an9</th>\n",
       "      <th>date.an10</th>\n",
       "      <th>...</th>\n",
       "      <th>cor11</th>\n",
       "      <th>cor12</th>\n",
       "      <th>cor13</th>\n",
       "      <th>cor14</th>\n",
       "      <th>cor15</th>\n",
       "      <th>cor16</th>\n",
       "      <th>cor17</th>\n",
       "      <th>cor18</th>\n",
       "      <th>cor19</th>\n",
       "      <th>cor20</th>\n",
       "    </tr>\n",
       "    <tr>\n",
       "      <th>date</th>\n",
       "      <th></th>\n",
       "      <th></th>\n",
       "      <th></th>\n",
       "      <th></th>\n",
       "      <th></th>\n",
       "      <th></th>\n",
       "      <th></th>\n",
       "      <th></th>\n",
       "      <th></th>\n",
       "      <th></th>\n",
       "      <th></th>\n",
       "      <th></th>\n",
       "      <th></th>\n",
       "      <th></th>\n",
       "      <th></th>\n",
       "      <th></th>\n",
       "      <th></th>\n",
       "      <th></th>\n",
       "      <th></th>\n",
       "      <th></th>\n",
       "      <th></th>\n",
       "    </tr>\n",
       "  </thead>\n",
       "  <tbody>\n",
       "    <tr>\n",
       "      <th>20141227</th>\n",
       "      <td> 20130114</td>\n",
       "      <td> 20130123</td>\n",
       "      <td> 20130115</td>\n",
       "      <td> 20130113</td>\n",
       "      <td> 20130122</td>\n",
       "      <td> 20130110</td>\n",
       "      <td> 20130106</td>\n",
       "      <td> 20131207</td>\n",
       "      <td> 20130124</td>\n",
       "      <td> 20130108</td>\n",
       "      <td>...</td>\n",
       "      <td> 0.362514</td>\n",
       "      <td> 0.429099</td>\n",
       "      <td> 0.340225</td>\n",
       "      <td> 0.398280</td>\n",
       "      <td> 0.302674</td>\n",
       "      <td> 0.492298</td>\n",
       "      <td> 0.114743</td>\n",
       "      <td> 0.437922</td>\n",
       "      <td> 0.357190</td>\n",
       "      <td> 0.173998</td>\n",
       "    </tr>\n",
       "    <tr>\n",
       "      <th>20141228</th>\n",
       "      <td> 20130106</td>\n",
       "      <td> 20130105</td>\n",
       "      <td> 20130117</td>\n",
       "      <td> 20130116</td>\n",
       "      <td> 20130108</td>\n",
       "      <td> 20130110</td>\n",
       "      <td> 20130107</td>\n",
       "      <td> 20130114</td>\n",
       "      <td> 20130124</td>\n",
       "      <td> 20130115</td>\n",
       "      <td>...</td>\n",
       "      <td> 0.499869</td>\n",
       "      <td> 0.337189</td>\n",
       "      <td> 0.221587</td>\n",
       "      <td> 0.482423</td>\n",
       "      <td> 0.485476</td>\n",
       "      <td> 0.393674</td>\n",
       "      <td> 0.325742</td>\n",
       "      <td> 0.322192</td>\n",
       "      <td> 0.164484</td>\n",
       "      <td> 0.407533</td>\n",
       "    </tr>\n",
       "    <tr>\n",
       "      <th>20141229</th>\n",
       "      <td> 20130105</td>\n",
       "      <td> 20130106</td>\n",
       "      <td> 20130107</td>\n",
       "      <td> 20130108</td>\n",
       "      <td> 20130104</td>\n",
       "      <td> 20130117</td>\n",
       "      <td> 20140123</td>\n",
       "      <td> 20130124</td>\n",
       "      <td> 20130109</td>\n",
       "      <td> 20130116</td>\n",
       "      <td>...</td>\n",
       "      <td> 0.604046</td>\n",
       "      <td> 0.288543</td>\n",
       "      <td> 0.331964</td>\n",
       "      <td> 0.324073</td>\n",
       "      <td> 0.370352</td>\n",
       "      <td> 0.366022</td>\n",
       "      <td> 0.430320</td>\n",
       "      <td> 0.214364</td>\n",
       "      <td> 0.331960</td>\n",
       "      <td> 0.261593</td>\n",
       "    </tr>\n",
       "    <tr>\n",
       "      <th>20141230</th>\n",
       "      <td> 20130106</td>\n",
       "      <td> 20130108</td>\n",
       "      <td> 20130107</td>\n",
       "      <td> 20130105</td>\n",
       "      <td> 20130104</td>\n",
       "      <td> 20130109</td>\n",
       "      <td> 20130125</td>\n",
       "      <td> 20131211</td>\n",
       "      <td> 20131208</td>\n",
       "      <td> 20140123</td>\n",
       "      <td>...</td>\n",
       "      <td> 0.417316</td>\n",
       "      <td> 0.507642</td>\n",
       "      <td> 0.444588</td>\n",
       "      <td> 0.471250</td>\n",
       "      <td> 0.345777</td>\n",
       "      <td> 0.241390</td>\n",
       "      <td> 0.163596</td>\n",
       "      <td> 0.319384</td>\n",
       "      <td> 0.194016</td>\n",
       "      <td> 0.058472</td>\n",
       "    </tr>\n",
       "    <tr>\n",
       "      <th>20141231</th>\n",
       "      <td> 20131217</td>\n",
       "      <td> 20130104</td>\n",
       "      <td> 20130108</td>\n",
       "      <td> 20130125</td>\n",
       "      <td> 20140124</td>\n",
       "      <td> 20130109</td>\n",
       "      <td> 20130105</td>\n",
       "      <td> 20131213</td>\n",
       "      <td> 20131208</td>\n",
       "      <td> 20131212</td>\n",
       "      <td>...</td>\n",
       "      <td> 0.493749</td>\n",
       "      <td> 0.499308</td>\n",
       "      <td> 0.430335</td>\n",
       "      <td> 0.507305</td>\n",
       "      <td> 0.384801</td>\n",
       "      <td> 0.500900</td>\n",
       "      <td> 0.430752</td>\n",
       "      <td> 0.418686</td>\n",
       "      <td> 0.300504</td>\n",
       "      <td> 0.307457</td>\n",
       "    </tr>\n",
       "  </tbody>\n",
       "</table>\n",
       "<p>5 rows × 60 columns</p>\n",
       "</div>"
      ],
      "text/plain": [
       "          date.an1  date.an2  date.an3  date.an4  date.an5  date.an6  \\\n",
       "date                                                                   \n",
       "20141227  20130114  20130123  20130115  20130113  20130122  20130110   \n",
       "20141228  20130106  20130105  20130117  20130116  20130108  20130110   \n",
       "20141229  20130105  20130106  20130107  20130108  20130104  20130117   \n",
       "20141230  20130106  20130108  20130107  20130105  20130104  20130109   \n",
       "20141231  20131217  20130104  20130108  20130125  20140124  20130109   \n",
       "\n",
       "          date.an7  date.an8  date.an9  date.an10    ...        cor11  \\\n",
       "date                                                 ...                \n",
       "20141227  20130106  20131207  20130124   20130108    ...     0.362514   \n",
       "20141228  20130107  20130114  20130124   20130115    ...     0.499869   \n",
       "20141229  20140123  20130124  20130109   20130116    ...     0.604046   \n",
       "20141230  20130125  20131211  20131208   20140123    ...     0.417316   \n",
       "20141231  20130105  20131213  20131208   20131212    ...     0.493749   \n",
       "\n",
       "             cor12     cor13     cor14     cor15     cor16     cor17  \\\n",
       "date                                                                   \n",
       "20141227  0.429099  0.340225  0.398280  0.302674  0.492298  0.114743   \n",
       "20141228  0.337189  0.221587  0.482423  0.485476  0.393674  0.325742   \n",
       "20141229  0.288543  0.331964  0.324073  0.370352  0.366022  0.430320   \n",
       "20141230  0.507642  0.444588  0.471250  0.345777  0.241390  0.163596   \n",
       "20141231  0.499308  0.430335  0.507305  0.384801  0.500900  0.430752   \n",
       "\n",
       "             cor18     cor19     cor20  \n",
       "date                                    \n",
       "20141227  0.437922  0.357190  0.173998  \n",
       "20141228  0.322192  0.164484  0.407533  \n",
       "20141229  0.214364  0.331960  0.261593  \n",
       "20141230  0.319384  0.194016  0.058472  \n",
       "20141231  0.418686  0.300504  0.307457  \n",
       "\n",
       "[5 rows x 60 columns]"
      ]
     },
     "execution_count": 5,
     "metadata": {},
     "output_type": "execute_result"
    }
   ],
   "source": [
    "dfS.tail(5)"
   ]
  },
  {
   "cell_type": "code",
   "execution_count": 6,
   "metadata": {
    "collapsed": false
   },
   "outputs": [
    {
     "data": {
      "text/plain": [
       "Int64Index([20130101, 20130102, 20130103, 20130104, 20130105, 20130106, 20130107, 20130108, 20130109, 20130110, 20130111, 20130112, 20130113, 20130114, 20130115, 20130116, 20130117, 20130118, 20130119, 20130120, 20130121, 20130122, 20130123, 20130124, 20130125, 20130126, 20130127, 20130128, 20130129, 20130130, 20130131, 20130201, 20130202, 20130203, 20130204, 20130205, 20130206, 20130207, 20130208, 20130209, 20130210, 20130211, 20130212, 20130213, 20130214, 20130215, 20130216, 20130217, 20130218, 20130219, 20130220, 20130221, 20130222, 20130223, 20130224, 20130225, 20130226, 20130227, 20130228, 20130301, 20130302, 20130303, 20130304, 20130305, 20130306, 20130307, 20130308, 20130309, 20130310, 20130311, 20130312, 20130313, 20130314, 20130315, 20130316, 20130317, 20130318, 20130319, 20130320, 20130321, 20130322, 20130323, 20130324, 20130325, 20130326, 20130327, 20130328, 20130329, 20130330, 20130331, 20130401, 20130402, 20130403, 20130404, 20130405, 20130406, 20130407, 20130408, 20130409, 20130410, ...], dtype='int64')"
      ]
     },
     "execution_count": 6,
     "metadata": {},
     "output_type": "execute_result"
    }
   ],
   "source": [
    "dfS.index"
   ]
  },
  {
   "cell_type": "code",
   "execution_count": 7,
   "metadata": {
    "collapsed": false
   },
   "outputs": [
    {
     "data": {
      "text/plain": [
       "730"
      ]
     },
     "execution_count": 7,
     "metadata": {},
     "output_type": "execute_result"
    }
   ],
   "source": [
    "len(dfS.index)"
   ]
  },
  {
   "cell_type": "code",
   "execution_count": 8,
   "metadata": {
    "collapsed": false
   },
   "outputs": [],
   "source": [
    "#Chop off 2016 rows NO!!! there will still be 2016 dates found as analogues, which messes up js script\n",
    "#dfS = dfS[dfS.index <= 20151231]"
   ]
  },
  {
   "cell_type": "code",
   "execution_count": 9,
   "metadata": {
    "collapsed": false
   },
   "outputs": [
    {
     "data": {
      "text/plain": [
       "date\n",
       "20130101    20130101\n",
       "20130102    20130102\n",
       "20130103    20130103\n",
       "20130104    20130104\n",
       "20130105    20130105\n",
       "20130106    20130106\n",
       "20130107    20130107\n",
       "20130108    20130108\n",
       "20130109    20130109\n",
       "20130110    20130110\n",
       "Name: dateRef, dtype: int64"
      ]
     },
     "execution_count": 9,
     "metadata": {},
     "output_type": "execute_result"
    }
   ],
   "source": [
    "#SAVE DATE INDEX\n",
    "#DF['id2'] = DF.index\n",
    "dfS['dateRef'] = dfS.index\n",
    "dfS['dateRef'].head(10)"
   ]
  },
  {
   "cell_type": "code",
   "execution_count": 10,
   "metadata": {
    "collapsed": false
   },
   "outputs": [],
   "source": [
    "#TRANSPOSE ANLG DATE COLS INTO SINGLE COL\n",
    "\n",
    "#Define temporary df containing only anlg dates cols\n",
    "df_anlg = dfS.iloc[:, 0:20]\n",
    "\n",
    "#remove index name before transpose (stack)\n",
    "df_anlg.index.name = \"\"\n",
    "\n",
    "#transpose (stack)into single col\n",
    "dateStack = df_anlg.stack()\n",
    "#dateStack"
   ]
  },
  {
   "cell_type": "code",
   "execution_count": 11,
   "metadata": {
    "collapsed": false
   },
   "outputs": [
    {
     "data": {
      "text/plain": [
       "20130101  dis1     913.126\n",
       "          dis2     927.622\n",
       "          dis3     935.474\n",
       "          dis4    1050.258\n",
       "          dis5    1053.329\n",
       "dtype: float64"
      ]
     },
     "execution_count": 11,
     "metadata": {},
     "output_type": "execute_result"
    }
   ],
   "source": [
    "#TRANSPOSE DIS COLS INTO SINGLE COL\n",
    "\n",
    "#Define temporary df containing only dis cols\n",
    "df_dis = dfS.iloc[:, 20:40]\n",
    "\n",
    "#remove index name before transpose (stack)\n",
    "df_dis.index.name = \"\"\n",
    "\n",
    "#transpose (stack) into single col and take absolute value\n",
    "disStack = df_dis.stack().abs()\n",
    "disStack.head(5)"
   ]
  },
  {
   "cell_type": "code",
   "execution_count": 12,
   "metadata": {
    "collapsed": false
   },
   "outputs": [
    {
     "data": {
      "text/plain": [
       "20130101  cor1    0.378995\n",
       "          cor2    0.520871\n",
       "          cor3    0.300302\n",
       "          cor4    0.319006\n",
       "          cor5    0.357050\n",
       "dtype: float64"
      ]
     },
     "execution_count": 12,
     "metadata": {},
     "output_type": "execute_result"
    }
   ],
   "source": [
    "#TRANSPOSE CORR COLS INTO SINGLE COL\n",
    "\n",
    "#Define temporary df containing only corr cols\n",
    "df_corr = dfS.iloc[:, 40:60]\n",
    "\n",
    "#remove index name before transpose (stack)\n",
    "df_corr.index.name = \"\"\n",
    "\n",
    "#transpose (stack) into single col\n",
    "corrStack = df_corr.stack()\n",
    "corrStack.head(5)"
   ]
  },
  {
   "cell_type": "code",
   "execution_count": 13,
   "metadata": {
    "collapsed": true
   },
   "outputs": [],
   "source": [
    "#BUILD NEW DF IN CORRECT FORMAT\n",
    "\n",
    "#CREATE DF OF CORRECT DIMENSIONS (n x num_cols)\n",
    "df_all = dfS.iloc[:, 0:num_cols]\n",
    "#rename cols\n",
    "df_all.columns = ['dateAnlg', 'Dis', 'Corr']"
   ]
  },
  {
   "cell_type": "code",
   "execution_count": 14,
   "metadata": {
    "collapsed": false
   },
   "outputs": [
    {
     "data": {
      "text/html": [
       "<div style=\"max-height:1000px;max-width:1500px;overflow:auto;\">\n",
       "<table border=\"1\" class=\"dataframe\">\n",
       "  <thead>\n",
       "    <tr style=\"text-align: right;\">\n",
       "      <th></th>\n",
       "      <th>dateAnlg</th>\n",
       "      <th>Dis</th>\n",
       "      <th>Corr</th>\n",
       "    </tr>\n",
       "    <tr>\n",
       "      <th></th>\n",
       "      <th></th>\n",
       "      <th></th>\n",
       "      <th></th>\n",
       "    </tr>\n",
       "  </thead>\n",
       "  <tbody>\n",
       "    <tr>\n",
       "      <th>20130101</th>\n",
       "      <td> 20131228</td>\n",
       "      <td> 20141215</td>\n",
       "      <td> 20131229</td>\n",
       "    </tr>\n",
       "    <tr>\n",
       "      <th>20130102</th>\n",
       "      <td> 20131208</td>\n",
       "      <td> 20131211</td>\n",
       "      <td> 20141231</td>\n",
       "    </tr>\n",
       "    <tr>\n",
       "      <th>20130103</th>\n",
       "      <td> 20141230</td>\n",
       "      <td> 20141231</td>\n",
       "      <td> 20131208</td>\n",
       "    </tr>\n",
       "    <tr>\n",
       "      <th>20130104</th>\n",
       "      <td> 20141230</td>\n",
       "      <td> 20141231</td>\n",
       "      <td> 20141229</td>\n",
       "    </tr>\n",
       "    <tr>\n",
       "      <th>20130105</th>\n",
       "      <td> 20141229</td>\n",
       "      <td> 20141230</td>\n",
       "      <td> 20141228</td>\n",
       "    </tr>\n",
       "  </tbody>\n",
       "</table>\n",
       "</div>"
      ],
      "text/plain": [
       "          dateAnlg       Dis      Corr\n",
       "                                      \n",
       "20130101  20131228  20141215  20131229\n",
       "20130102  20131208  20131211  20141231\n",
       "20130103  20141230  20141231  20131208\n",
       "20130104  20141230  20141231  20141229\n",
       "20130105  20141229  20141230  20141228"
      ]
     },
     "execution_count": 14,
     "metadata": {},
     "output_type": "execute_result"
    }
   ],
   "source": [
    "#dfS.index.tolist()\n",
    "df_all.head(5)"
   ]
  },
  {
   "cell_type": "code",
   "execution_count": 15,
   "metadata": {
    "collapsed": false
   },
   "outputs": [
    {
     "data": {
      "text/html": [
       "<div style=\"max-height:1000px;max-width:1500px;overflow:auto;\">\n",
       "<table border=\"1\" class=\"dataframe\">\n",
       "  <thead>\n",
       "    <tr style=\"text-align: right;\">\n",
       "      <th></th>\n",
       "      <th>dateAnlg</th>\n",
       "      <th>Dis</th>\n",
       "      <th>Corr</th>\n",
       "    </tr>\n",
       "    <tr>\n",
       "      <th>dateRef</th>\n",
       "      <th></th>\n",
       "      <th></th>\n",
       "      <th></th>\n",
       "    </tr>\n",
       "  </thead>\n",
       "  <tbody>\n",
       "    <tr>\n",
       "      <th>20130101</th>\n",
       "      <td> 20131228</td>\n",
       "      <td> 20141215</td>\n",
       "      <td> 20131229</td>\n",
       "    </tr>\n",
       "    <tr>\n",
       "      <th>20130102</th>\n",
       "      <td> 20131208</td>\n",
       "      <td> 20131211</td>\n",
       "      <td> 20141231</td>\n",
       "    </tr>\n",
       "    <tr>\n",
       "      <th>20130103</th>\n",
       "      <td> 20141230</td>\n",
       "      <td> 20141231</td>\n",
       "      <td> 20131208</td>\n",
       "    </tr>\n",
       "    <tr>\n",
       "      <th>20130104</th>\n",
       "      <td> 20141230</td>\n",
       "      <td> 20141231</td>\n",
       "      <td> 20141229</td>\n",
       "    </tr>\n",
       "    <tr>\n",
       "      <th>20130105</th>\n",
       "      <td> 20141229</td>\n",
       "      <td> 20141230</td>\n",
       "      <td> 20141228</td>\n",
       "    </tr>\n",
       "    <tr>\n",
       "      <th>20130106</th>\n",
       "      <td> 20141230</td>\n",
       "      <td> 20141229</td>\n",
       "      <td> 20141228</td>\n",
       "    </tr>\n",
       "    <tr>\n",
       "      <th>20130107</th>\n",
       "      <td> 20141230</td>\n",
       "      <td> 20141229</td>\n",
       "      <td> 20140123</td>\n",
       "    </tr>\n",
       "    <tr>\n",
       "      <th>20130108</th>\n",
       "      <td> 20141230</td>\n",
       "      <td> 20141231</td>\n",
       "      <td> 20141229</td>\n",
       "    </tr>\n",
       "    <tr>\n",
       "      <th>20130109</th>\n",
       "      <td> 20141230</td>\n",
       "      <td> 20141231</td>\n",
       "      <td> 20140111</td>\n",
       "    </tr>\n",
       "    <tr>\n",
       "      <th>20130110</th>\n",
       "      <td> 20140111</td>\n",
       "      <td> 20141228</td>\n",
       "      <td> 20140114</td>\n",
       "    </tr>\n",
       "  </tbody>\n",
       "</table>\n",
       "</div>"
      ],
      "text/plain": [
       "          dateAnlg       Dis      Corr\n",
       "dateRef                               \n",
       "20130101  20131228  20141215  20131229\n",
       "20130102  20131208  20131211  20141231\n",
       "20130103  20141230  20141231  20131208\n",
       "20130104  20141230  20141231  20141229\n",
       "20130105  20141229  20141230  20141228\n",
       "20130106  20141230  20141229  20141228\n",
       "20130107  20141230  20141229  20140123\n",
       "20130108  20141230  20141231  20141229\n",
       "20130109  20141230  20141231  20140111\n",
       "20130110  20140111  20141228  20140114"
      ]
     },
     "execution_count": 15,
     "metadata": {},
     "output_type": "execute_result"
    }
   ],
   "source": [
    "df_all = df_all.set_index(dfS['dateRef'] )\n",
    "df_all.head(10)"
   ]
  },
  {
   "cell_type": "code",
   "execution_count": 16,
   "metadata": {
    "collapsed": false
   },
   "outputs": [],
   "source": [
    "#REPLICATE INDEX COL 20 TIMES PER ROW\n",
    "\n",
    "#http://stackoverflow.com/questions/26777832/replicating-rows-in-a-pandas-data-frame-by-a-column-value\n",
    "#df2 = df.loc[np.repeat(df.index.values,df.n)]\n",
    "df_all = df_all.loc[np.repeat(df_all.index.values,num_analogues)]"
   ]
  },
  {
   "cell_type": "code",
   "execution_count": 17,
   "metadata": {
    "collapsed": false
   },
   "outputs": [
    {
     "data": {
      "text/html": [
       "<div style=\"max-height:1000px;max-width:1500px;overflow:auto;\">\n",
       "<table border=\"1\" class=\"dataframe\">\n",
       "  <thead>\n",
       "    <tr style=\"text-align: right;\">\n",
       "      <th></th>\n",
       "      <th>dateAnlg</th>\n",
       "      <th>Dis</th>\n",
       "      <th>Corr</th>\n",
       "    </tr>\n",
       "    <tr>\n",
       "      <th>dateRef</th>\n",
       "      <th></th>\n",
       "      <th></th>\n",
       "      <th></th>\n",
       "    </tr>\n",
       "  </thead>\n",
       "  <tbody>\n",
       "    <tr>\n",
       "      <th>20130101</th>\n",
       "      <td> 20131228</td>\n",
       "      <td>  913.126</td>\n",
       "      <td> 0.378995</td>\n",
       "    </tr>\n",
       "    <tr>\n",
       "      <th>20130101</th>\n",
       "      <td> 20141215</td>\n",
       "      <td>  927.622</td>\n",
       "      <td> 0.520871</td>\n",
       "    </tr>\n",
       "    <tr>\n",
       "      <th>20130101</th>\n",
       "      <td> 20131229</td>\n",
       "      <td>  935.474</td>\n",
       "      <td> 0.300302</td>\n",
       "    </tr>\n",
       "    <tr>\n",
       "      <th>20130101</th>\n",
       "      <td> 20140104</td>\n",
       "      <td> 1050.258</td>\n",
       "      <td> 0.319006</td>\n",
       "    </tr>\n",
       "    <tr>\n",
       "      <th>20130101</th>\n",
       "      <td> 20141219</td>\n",
       "      <td> 1053.329</td>\n",
       "      <td> 0.357050</td>\n",
       "    </tr>\n",
       "  </tbody>\n",
       "</table>\n",
       "</div>"
      ],
      "text/plain": [
       "          dateAnlg       Dis      Corr\n",
       "dateRef                               \n",
       "20130101  20131228   913.126  0.378995\n",
       "20130101  20141215   927.622  0.520871\n",
       "20130101  20131229   935.474  0.300302\n",
       "20130101  20140104  1050.258  0.319006\n",
       "20130101  20141219  1053.329  0.357050"
      ]
     },
     "execution_count": 17,
     "metadata": {},
     "output_type": "execute_result"
    }
   ],
   "source": [
    "#REPLACE COLS WITH STACKED ANLG DATES, DIS AND CORR\n",
    "df_all.iloc[:,0] = list(dateStack)\n",
    "df_all.iloc[:,1] = list(disStack)\n",
    "df_all.iloc[:,2] = list(corrStack)\n",
    "df_all.head(5)"
   ]
  },
  {
   "cell_type": "code",
   "execution_count": 18,
   "metadata": {
    "collapsed": false
   },
   "outputs": [
    {
     "data": {
      "text/plain": [
       "(14600, 3)"
      ]
     },
     "execution_count": 18,
     "metadata": {},
     "output_type": "execute_result"
    }
   ],
   "source": [
    "df_all.shape"
   ]
  },
  {
   "cell_type": "code",
   "execution_count": 19,
   "metadata": {
    "collapsed": false,
    "scrolled": true
   },
   "outputs": [
    {
     "data": {
      "text/html": [
       "<div style=\"max-height:1000px;max-width:1500px;overflow:auto;\">\n",
       "<table border=\"1\" class=\"dataframe\">\n",
       "  <thead>\n",
       "    <tr style=\"text-align: right;\">\n",
       "      <th></th>\n",
       "      <th>dateAnlg</th>\n",
       "      <th>Dis</th>\n",
       "      <th>Corr</th>\n",
       "    </tr>\n",
       "    <tr>\n",
       "      <th>dateRef</th>\n",
       "      <th></th>\n",
       "      <th></th>\n",
       "      <th></th>\n",
       "    </tr>\n",
       "  </thead>\n",
       "  <tbody>\n",
       "    <tr>\n",
       "      <th>20141231</th>\n",
       "      <td> 20130103</td>\n",
       "      <td>  989.458</td>\n",
       "      <td> 0.500900</td>\n",
       "    </tr>\n",
       "    <tr>\n",
       "      <th>20141231</th>\n",
       "      <td> 20130102</td>\n",
       "      <td> 1004.926</td>\n",
       "      <td> 0.430752</td>\n",
       "    </tr>\n",
       "    <tr>\n",
       "      <th>20141231</th>\n",
       "      <td> 20130106</td>\n",
       "      <td> 1007.554</td>\n",
       "      <td> 0.418686</td>\n",
       "    </tr>\n",
       "    <tr>\n",
       "      <th>20141231</th>\n",
       "      <td> 20131220</td>\n",
       "      <td> 1037.976</td>\n",
       "      <td> 0.300504</td>\n",
       "    </tr>\n",
       "    <tr>\n",
       "      <th>20141231</th>\n",
       "      <td> 20131216</td>\n",
       "      <td> 1068.155</td>\n",
       "      <td> 0.307457</td>\n",
       "    </tr>\n",
       "  </tbody>\n",
       "</table>\n",
       "</div>"
      ],
      "text/plain": [
       "          dateAnlg       Dis      Corr\n",
       "dateRef                               \n",
       "20141231  20130103   989.458  0.500900\n",
       "20141231  20130102  1004.926  0.430752\n",
       "20141231  20130106  1007.554  0.418686\n",
       "20141231  20131220  1037.976  0.300504\n",
       "20141231  20131216  1068.155  0.307457"
      ]
     },
     "execution_count": 19,
     "metadata": {},
     "output_type": "execute_result"
    }
   ],
   "source": [
    "df_all.tail(5)"
   ]
  },
  {
   "cell_type": "code",
   "execution_count": 33,
   "metadata": {
    "collapsed": true
   },
   "outputs": [],
   "source": [
    "#dfS_select = df_all[df_all.index <= 19600101]"
   ]
  },
  {
   "cell_type": "code",
   "execution_count": 20,
   "metadata": {
    "collapsed": false
   },
   "outputs": [],
   "source": [
    "#SAVE TO CSV FILE\n",
    "\n",
    "#df_all.to_csv('analogues_19480101_20151225.json', float_format='%.2f', sep='\\t')\n",
    "#df_all.to_csv('test2.json', float_format='%.2f', sep='\\t')\n",
    "#df_all.to_csv('test_gt1yr.json', float_format='%.2f', sep='\\t')\n",
    "df_all.to_csv('test_gt1yr_birdhouse.json', float_format='%.2f', sep='\\t')\n",
    "#df_all.to_csv('test_span2months.json', float_format='%.2f', sep='\\t')\n",
    "\n",
    "#df_all.to_csv('analogues_19480101_20160520.json', float_format='%.2f', sep='\\t')\n",
    "\n",
    "#dfS_select.to_csv('analogues_select.json', float_format='%.2f', sep='\\t')"
   ]
  },
  {
   "cell_type": "code",
   "execution_count": 77,
   "metadata": {
    "collapsed": false
   },
   "outputs": [
    {
     "data": {
      "text/plain": [
       "u'/homel/cnangini/PROJECTS/analogues'"
      ]
     },
     "execution_count": 77,
     "metadata": {},
     "output_type": "execute_result"
    }
   ],
   "source": [
    "pwd"
   ]
  },
  {
   "cell_type": "code",
   "execution_count": 86,
   "metadata": {
    "collapsed": false
   },
   "outputs": [
    {
     "name": "stdout",
     "output_type": "stream",
     "text": [
      "-0.0773818303236 0.952985818969\n"
     ]
    }
   ],
   "source": [
    "print df_all['Corr'].min(), df_all['Corr'].max()"
   ]
  },
  {
   "cell_type": "code",
   "execution_count": 87,
   "metadata": {
    "collapsed": false
   },
   "outputs": [
    {
     "name": "stdout",
     "output_type": "stream",
     "text": [
      "284.431297359 1369.41118104\n"
     ]
    }
   ],
   "source": [
    "print df_all['Dis'].min(), df_all['Dis'].max()"
   ]
  },
  {
   "cell_type": "code",
   "execution_count": 31,
   "metadata": {
    "collapsed": false
   },
   "outputs": [],
   "source": [
    "#check 1970-1979\n",
    "df_check =  df_all[ (df_all['dateAnlg'] >= 19700101) & (df_all['dateAnlg'] <= 19791231) ]\n",
    "\n",
    "\n",
    "#((df['column1']=='banana') & (df['colour']=='green'))"
   ]
  },
  {
   "cell_type": "code",
   "execution_count": 32,
   "metadata": {
    "collapsed": false
   },
   "outputs": [
    {
     "data": {
      "text/plain": [
       "(75935, 3)"
      ]
     },
     "execution_count": 32,
     "metadata": {},
     "output_type": "execute_result"
    }
   ],
   "source": [
    "df_check.shape"
   ]
  },
  {
   "cell_type": "code",
   "execution_count": 33,
   "metadata": {
    "collapsed": true
   },
   "outputs": [],
   "source": [
    "df_check =  df_all[ (df_all['dateAnlg'] >= 20100101) & (df_all['dateAnlg'] <= 20191231) ]"
   ]
  },
  {
   "cell_type": "code",
   "execution_count": 34,
   "metadata": {
    "collapsed": false
   },
   "outputs": [
    {
     "data": {
      "text/plain": [
       "(44554, 3)"
      ]
     },
     "execution_count": 34,
     "metadata": {},
     "output_type": "execute_result"
    }
   ],
   "source": [
    "df_check.shape"
   ]
  },
  {
   "cell_type": "code",
   "execution_count": 35,
   "metadata": {
    "collapsed": false
   },
   "outputs": [],
   "source": [
    "#cut file for testing purposes\n",
    "df_select = df_all.iloc[19000:19100,:]"
   ]
  },
  {
   "cell_type": "code",
   "execution_count": 36,
   "metadata": {
    "collapsed": false
   },
   "outputs": [
    {
     "data": {
      "text/plain": [
       "(100, 3)"
      ]
     },
     "execution_count": 36,
     "metadata": {},
     "output_type": "execute_result"
    }
   ],
   "source": [
    "df_select.shape"
   ]
  },
  {
   "cell_type": "code",
   "execution_count": 37,
   "metadata": {
    "collapsed": false
   },
   "outputs": [
    {
     "data": {
      "text/html": [
       "<div>\n",
       "<table border=\"1\" class=\"dataframe\">\n",
       "  <thead>\n",
       "    <tr style=\"text-align: right;\">\n",
       "      <th></th>\n",
       "      <th>dateAnlg</th>\n",
       "      <th>Dis</th>\n",
       "      <th>Corr</th>\n",
       "    </tr>\n",
       "    <tr>\n",
       "      <th>dateRef</th>\n",
       "      <th></th>\n",
       "      <th></th>\n",
       "      <th></th>\n",
       "    </tr>\n",
       "  </thead>\n",
       "  <tbody>\n",
       "    <tr>\n",
       "      <th>19500812</th>\n",
       "      <td>19840828</td>\n",
       "      <td>449.988840</td>\n",
       "      <td>0.546204</td>\n",
       "    </tr>\n",
       "    <tr>\n",
       "      <th>19500812</th>\n",
       "      <td>19590909</td>\n",
       "      <td>453.044659</td>\n",
       "      <td>0.612506</td>\n",
       "    </tr>\n",
       "    <tr>\n",
       "      <th>19500812</th>\n",
       "      <td>20030819</td>\n",
       "      <td>453.638210</td>\n",
       "      <td>0.559760</td>\n",
       "    </tr>\n",
       "    <tr>\n",
       "      <th>19500812</th>\n",
       "      <td>19970801</td>\n",
       "      <td>457.039066</td>\n",
       "      <td>0.597291</td>\n",
       "    </tr>\n",
       "    <tr>\n",
       "      <th>19500812</th>\n",
       "      <td>19980815</td>\n",
       "      <td>459.252587</td>\n",
       "      <td>0.534387</td>\n",
       "    </tr>\n",
       "    <tr>\n",
       "      <th>19500812</th>\n",
       "      <td>19990829</td>\n",
       "      <td>466.308358</td>\n",
       "      <td>0.580896</td>\n",
       "    </tr>\n",
       "    <tr>\n",
       "      <th>19500812</th>\n",
       "      <td>19510820</td>\n",
       "      <td>466.860763</td>\n",
       "      <td>0.727749</td>\n",
       "    </tr>\n",
       "    <tr>\n",
       "      <th>19500812</th>\n",
       "      <td>20130816</td>\n",
       "      <td>467.150673</td>\n",
       "      <td>0.623782</td>\n",
       "    </tr>\n",
       "    <tr>\n",
       "      <th>19500812</th>\n",
       "      <td>19990717</td>\n",
       "      <td>471.338490</td>\n",
       "      <td>0.571134</td>\n",
       "    </tr>\n",
       "    <tr>\n",
       "      <th>19500812</th>\n",
       "      <td>19790816</td>\n",
       "      <td>471.416637</td>\n",
       "      <td>0.661347</td>\n",
       "    </tr>\n",
       "  </tbody>\n",
       "</table>\n",
       "</div>"
      ],
      "text/plain": [
       "          dateAnlg         Dis      Corr\n",
       "dateRef                                 \n",
       "19500812  19840828  449.988840  0.546204\n",
       "19500812  19590909  453.044659  0.612506\n",
       "19500812  20030819  453.638210  0.559760\n",
       "19500812  19970801  457.039066  0.597291\n",
       "19500812  19980815  459.252587  0.534387\n",
       "19500812  19990829  466.308358  0.580896\n",
       "19500812  19510820  466.860763  0.727749\n",
       "19500812  20130816  467.150673  0.623782\n",
       "19500812  19990717  471.338490  0.571134\n",
       "19500812  19790816  471.416637  0.661347"
      ]
     },
     "execution_count": 37,
     "metadata": {},
     "output_type": "execute_result"
    }
   ],
   "source": [
    "df_select.tail(10)"
   ]
  },
  {
   "cell_type": "code",
   "execution_count": 38,
   "metadata": {
    "collapsed": false
   },
   "outputs": [],
   "source": [
    "df_chunk = df_all.iloc[149000:149100,:]\n",
    "df_chunk2 = df_all.iloc[106000:106100,:]"
   ]
  },
  {
   "cell_type": "code",
   "execution_count": 39,
   "metadata": {
    "collapsed": false
   },
   "outputs": [],
   "source": [
    "df_select = df_select.append(df_chunk)\n",
    "df_select = df_select.append(df_chunk2)\n",
    "#df_select = pd.concat([df_select,df_chunk])"
   ]
  },
  {
   "cell_type": "code",
   "execution_count": 40,
   "metadata": {
    "collapsed": false
   },
   "outputs": [
    {
     "data": {
      "text/plain": [
       "(300, 3)"
      ]
     },
     "execution_count": 40,
     "metadata": {},
     "output_type": "execute_result"
    }
   ],
   "source": [
    "df_select.shape"
   ]
  },
  {
   "cell_type": "code",
   "execution_count": 41,
   "metadata": {
    "collapsed": true
   },
   "outputs": [],
   "source": [
    "#SAVE SELECTION TO TSV FILE\n",
    "\n",
    "#df_select.to_csv('analogues_reformat_all_select.tsv', float_format='%.2f', sep='\\t')"
   ]
  },
  {
   "cell_type": "code",
   "execution_count": 42,
   "metadata": {
    "collapsed": false
   },
   "outputs": [
    {
     "name": "stdout",
     "output_type": "stream",
     "text": [
      "-0.0773818303236 0.952985818969\n"
     ]
    }
   ],
   "source": [
    "print df_all['Corr'].min(), df_all['Corr'].max()"
   ]
  },
  {
   "cell_type": "code",
   "execution_count": 43,
   "metadata": {
    "collapsed": false,
    "scrolled": true
   },
   "outputs": [
    {
     "name": "stdout",
     "output_type": "stream",
     "text": [
      "284.431297359 1369.41118104\n"
     ]
    }
   ],
   "source": [
    "print df_all['Dis'].min(), df_all['Dis'].max()"
   ]
  },
  {
   "cell_type": "code",
   "execution_count": 44,
   "metadata": {
    "collapsed": false
   },
   "outputs": [
    {
     "name": "stdout",
     "output_type": "stream",
     "text": [
      "0.124791552993 0.821019151951\n"
     ]
    }
   ],
   "source": [
    "df_select['Corr'].max()\n",
    "df_select['Corr'].min()\n",
    "print df_select['Corr'].min(), df_select['Corr'].max()"
   ]
  },
  {
   "cell_type": "code",
   "execution_count": 45,
   "metadata": {
    "collapsed": false
   },
   "outputs": [
    {
     "name": "stdout",
     "output_type": "stream",
     "text": [
      "350.217929418 696.281040107\n"
     ]
    }
   ],
   "source": [
    "df_select['Dis'].max()\n",
    "df_select['Dis'].min()\n",
    "print df_select['Dis'].min(), df_select['Dis'].max()"
   ]
  },
  {
   "cell_type": "code",
   "execution_count": null,
   "metadata": {
    "collapsed": true
   },
   "outputs": [],
   "source": []
  }
 ],
 "metadata": {
  "kernelspec": {
   "display_name": "Python 2",
   "language": "python",
   "name": "python2"
  },
  "language_info": {
   "codemirror_mode": {
    "name": "ipython",
    "version": 2
   },
   "file_extension": ".py",
   "mimetype": "text/x-python",
   "name": "python",
   "nbconvert_exporter": "python",
   "pygments_lexer": "ipython2",
   "version": "2.7.11"
  }
 },
 "nbformat": 4,
 "nbformat_minor": 0
}
