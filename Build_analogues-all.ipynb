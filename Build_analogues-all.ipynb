{
 "cells": [
  {
   "cell_type": "code",
   "execution_count": 243,
   "metadata": {
    "collapsed": false
   },
   "outputs": [],
   "source": [
    "#Created: 15.02.2016\n",
    "#Last modified: 18.02.2016\n",
    "#               29.02.2016 add Corr and Dis cols\n",
    "#               25.05.2016 updated input file and created truncated file for testing\n",
    "#               24.05.2016 tested reading in file produced in birdhouse analogs process"
   ]
  },
  {
   "cell_type": "code",
   "execution_count": 240,
   "metadata": {
    "collapsed": true
   },
   "outputs": [],
   "source": [
    "import numpy as np\n",
    "import pandas as pd\n",
    "import collections\n",
    "import os"
   ]
  },
  {
   "cell_type": "code",
   "execution_count": 241,
   "metadata": {
    "collapsed": true
   },
   "outputs": [],
   "source": [
    "num_analogues = 20 #number of analogues searched for\n",
    "num_cols = 3 #dateAnlg, Dis, Corr"
   ]
  },
  {
   "cell_type": "code",
   "execution_count": 242,
   "metadata": {
    "collapsed": false
   },
   "outputs": [
    {
     "data": {
      "text/html": [
       "<div>\n",
       "<table border=\"1\" class=\"dataframe\">\n",
       "  <thead>\n",
       "    <tr style=\"text-align: right;\">\n",
       "      <th></th>\n",
       "      <th>date.an1</th>\n",
       "      <th>date.an2</th>\n",
       "      <th>date.an3</th>\n",
       "      <th>date.an4</th>\n",
       "      <th>date.an5</th>\n",
       "      <th>date.an6</th>\n",
       "      <th>date.an7</th>\n",
       "      <th>date.an8</th>\n",
       "      <th>date.an9</th>\n",
       "      <th>date.an10</th>\n",
       "      <th>...</th>\n",
       "      <th>cor11</th>\n",
       "      <th>cor12</th>\n",
       "      <th>cor13</th>\n",
       "      <th>cor14</th>\n",
       "      <th>cor15</th>\n",
       "      <th>cor16</th>\n",
       "      <th>cor17</th>\n",
       "      <th>cor18</th>\n",
       "      <th>cor19</th>\n",
       "      <th>cor20</th>\n",
       "    </tr>\n",
       "    <tr>\n",
       "      <th>date</th>\n",
       "      <th></th>\n",
       "      <th></th>\n",
       "      <th></th>\n",
       "      <th></th>\n",
       "      <th></th>\n",
       "      <th></th>\n",
       "      <th></th>\n",
       "      <th></th>\n",
       "      <th></th>\n",
       "      <th></th>\n",
       "      <th></th>\n",
       "      <th></th>\n",
       "      <th></th>\n",
       "      <th></th>\n",
       "      <th></th>\n",
       "      <th></th>\n",
       "      <th></th>\n",
       "      <th></th>\n",
       "      <th></th>\n",
       "      <th></th>\n",
       "      <th></th>\n",
       "    </tr>\n",
       "  </thead>\n",
       "  <tbody>\n",
       "    <tr>\n",
       "      <th>20130715</th>\n",
       "      <td>19560708</td>\n",
       "      <td>19570625</td>\n",
       "      <td>19570626</td>\n",
       "      <td>19570702</td>\n",
       "      <td>19560707</td>\n",
       "      <td>19570701</td>\n",
       "      <td>19570627</td>\n",
       "      <td>19570728</td>\n",
       "      <td>19560709</td>\n",
       "      <td>19570624</td>\n",
       "      <td>...</td>\n",
       "      <td>-0.297310</td>\n",
       "      <td>0.281411</td>\n",
       "      <td>0.414869</td>\n",
       "      <td>0.263460</td>\n",
       "      <td>-0.033923</td>\n",
       "      <td>-0.368161</td>\n",
       "      <td>-0.173413</td>\n",
       "      <td>-0.098069</td>\n",
       "      <td>0.004391</td>\n",
       "      <td>0.028584</td>\n",
       "    </tr>\n",
       "    <tr>\n",
       "      <th>20130716</th>\n",
       "      <td>19570626</td>\n",
       "      <td>19570702</td>\n",
       "      <td>19570703</td>\n",
       "      <td>19560709</td>\n",
       "      <td>19570627</td>\n",
       "      <td>19570625</td>\n",
       "      <td>19570704</td>\n",
       "      <td>19570729</td>\n",
       "      <td>19570701</td>\n",
       "      <td>19560708</td>\n",
       "      <td>...</td>\n",
       "      <td>-0.053174</td>\n",
       "      <td>0.340757</td>\n",
       "      <td>-0.257390</td>\n",
       "      <td>-0.169466</td>\n",
       "      <td>-0.079024</td>\n",
       "      <td>-0.049076</td>\n",
       "      <td>-0.222097</td>\n",
       "      <td>0.067864</td>\n",
       "      <td>-0.146098</td>\n",
       "      <td>-0.002266</td>\n",
       "    </tr>\n",
       "    <tr>\n",
       "      <th>20130717</th>\n",
       "      <td>19570627</td>\n",
       "      <td>19570704</td>\n",
       "      <td>19570703</td>\n",
       "      <td>19570702</td>\n",
       "      <td>19570626</td>\n",
       "      <td>19560710</td>\n",
       "      <td>19570705</td>\n",
       "      <td>19570730</td>\n",
       "      <td>19570628</td>\n",
       "      <td>19570701</td>\n",
       "      <td>...</td>\n",
       "      <td>-0.309011</td>\n",
       "      <td>0.089543</td>\n",
       "      <td>-0.115584</td>\n",
       "      <td>-0.218824</td>\n",
       "      <td>-0.268240</td>\n",
       "      <td>0.058822</td>\n",
       "      <td>-0.126518</td>\n",
       "      <td>0.143484</td>\n",
       "      <td>-0.248070</td>\n",
       "      <td>0.282629</td>\n",
       "    </tr>\n",
       "    <tr>\n",
       "      <th>20130718</th>\n",
       "      <td>19570704</td>\n",
       "      <td>19570705</td>\n",
       "      <td>19570628</td>\n",
       "      <td>19570627</td>\n",
       "      <td>19570703</td>\n",
       "      <td>19570731</td>\n",
       "      <td>19560624</td>\n",
       "      <td>19570702</td>\n",
       "      <td>19560711</td>\n",
       "      <td>19570730</td>\n",
       "      <td>...</td>\n",
       "      <td>-0.099006</td>\n",
       "      <td>-0.167025</td>\n",
       "      <td>0.006505</td>\n",
       "      <td>0.149398</td>\n",
       "      <td>0.106216</td>\n",
       "      <td>0.345971</td>\n",
       "      <td>-0.146334</td>\n",
       "      <td>0.126187</td>\n",
       "      <td>-0.125393</td>\n",
       "      <td>-0.002311</td>\n",
       "    </tr>\n",
       "    <tr>\n",
       "      <th>20130719</th>\n",
       "      <td>19560625</td>\n",
       "      <td>19570628</td>\n",
       "      <td>19570801</td>\n",
       "      <td>19570629</td>\n",
       "      <td>19570705</td>\n",
       "      <td>19560624</td>\n",
       "      <td>19570627</td>\n",
       "      <td>19570704</td>\n",
       "      <td>19570706</td>\n",
       "      <td>19560626</td>\n",
       "      <td>...</td>\n",
       "      <td>0.120918</td>\n",
       "      <td>0.276314</td>\n",
       "      <td>0.256931</td>\n",
       "      <td>0.414601</td>\n",
       "      <td>0.373720</td>\n",
       "      <td>0.341264</td>\n",
       "      <td>0.250203</td>\n",
       "      <td>0.170120</td>\n",
       "      <td>0.246184</td>\n",
       "      <td>0.120446</td>\n",
       "    </tr>\n",
       "  </tbody>\n",
       "</table>\n",
       "<p>5 rows × 60 columns</p>\n",
       "</div>"
      ],
      "text/plain": [
       "          date.an1  date.an2  date.an3  date.an4  date.an5  date.an6  \\\n",
       "date                                                                   \n",
       "20130715  19560708  19570625  19570626  19570702  19560707  19570701   \n",
       "20130716  19570626  19570702  19570703  19560709  19570627  19570625   \n",
       "20130717  19570627  19570704  19570703  19570702  19570626  19560710   \n",
       "20130718  19570704  19570705  19570628  19570627  19570703  19570731   \n",
       "20130719  19560625  19570628  19570801  19570629  19570705  19560624   \n",
       "\n",
       "          date.an7  date.an8  date.an9  date.an10    ...        cor11  \\\n",
       "date                                                 ...                \n",
       "20130715  19570627  19570728  19560709   19570624    ...    -0.297310   \n",
       "20130716  19570704  19570729  19570701   19560708    ...    -0.053174   \n",
       "20130717  19570705  19570730  19570628   19570701    ...    -0.309011   \n",
       "20130718  19560624  19570702  19560711   19570730    ...    -0.099006   \n",
       "20130719  19570627  19570704  19570706   19560626    ...     0.120918   \n",
       "\n",
       "             cor12     cor13     cor14     cor15     cor16     cor17  \\\n",
       "date                                                                   \n",
       "20130715  0.281411  0.414869  0.263460 -0.033923 -0.368161 -0.173413   \n",
       "20130716  0.340757 -0.257390 -0.169466 -0.079024 -0.049076 -0.222097   \n",
       "20130717  0.089543 -0.115584 -0.218824 -0.268240  0.058822 -0.126518   \n",
       "20130718 -0.167025  0.006505  0.149398  0.106216  0.345971 -0.146334   \n",
       "20130719  0.276314  0.256931  0.414601  0.373720  0.341264  0.250203   \n",
       "\n",
       "             cor18     cor19     cor20  \n",
       "date                                    \n",
       "20130715 -0.098069  0.004391  0.028584  \n",
       "20130716  0.067864 -0.146098 -0.002266  \n",
       "20130717  0.143484 -0.248070  0.282629  \n",
       "20130718  0.126187 -0.125393 -0.002311  \n",
       "20130719  0.170120  0.246184  0.120446  \n",
       "\n",
       "[5 rows x 60 columns]"
      ]
     },
     "execution_count": 242,
     "metadata": {},
     "output_type": "execute_result"
    }
   ],
   "source": [
    "#To read file produced in birdhouse\n",
    "#dfS = pd.DataFrame()\n",
    "#analogs = 'http://birdhouse-lsce.extra.cea.fr:8090/wpsoutputs/flyingpigeon/output_txt-0797016c-378e-11e6-91dd-41d8cd554993.txt'\n",
    "#dfS = pd.read_csv(analogs, delimiter=r\"\\s+\", index_col=0)\n",
    "#dfS.head()"
   ]
  },
  {
   "cell_type": "code",
   "execution_count": 244,
   "metadata": {
    "collapsed": false
   },
   "outputs": [
    {
     "data": {
      "text/html": [
       "<div>\n",
       "<table border=\"1\" class=\"dataframe\">\n",
       "  <thead>\n",
       "    <tr style=\"text-align: right;\">\n",
       "      <th></th>\n",
       "      <th>date.an1</th>\n",
       "      <th>date.an2</th>\n",
       "      <th>date.an3</th>\n",
       "      <th>date.an4</th>\n",
       "      <th>date.an5</th>\n",
       "      <th>date.an6</th>\n",
       "      <th>date.an7</th>\n",
       "      <th>date.an8</th>\n",
       "      <th>date.an9</th>\n",
       "      <th>date.an10</th>\n",
       "      <th>...</th>\n",
       "      <th>cor11</th>\n",
       "      <th>cor12</th>\n",
       "      <th>cor13</th>\n",
       "      <th>cor14</th>\n",
       "      <th>cor15</th>\n",
       "      <th>cor16</th>\n",
       "      <th>cor17</th>\n",
       "      <th>cor18</th>\n",
       "      <th>cor19</th>\n",
       "      <th>cor20</th>\n",
       "    </tr>\n",
       "    <tr>\n",
       "      <th>date</th>\n",
       "      <th></th>\n",
       "      <th></th>\n",
       "      <th></th>\n",
       "      <th></th>\n",
       "      <th></th>\n",
       "      <th></th>\n",
       "      <th></th>\n",
       "      <th></th>\n",
       "      <th></th>\n",
       "      <th></th>\n",
       "      <th></th>\n",
       "      <th></th>\n",
       "      <th></th>\n",
       "      <th></th>\n",
       "      <th></th>\n",
       "      <th></th>\n",
       "      <th></th>\n",
       "      <th></th>\n",
       "      <th></th>\n",
       "      <th></th>\n",
       "      <th></th>\n",
       "    </tr>\n",
       "  </thead>\n",
       "  <tbody>\n",
       "    <tr>\n",
       "      <th>19480101</th>\n",
       "      <td>19560126</td>\n",
       "      <td>19850131</td>\n",
       "      <td>20110114</td>\n",
       "      <td>19551224</td>\n",
       "      <td>19850130</td>\n",
       "      <td>19980114</td>\n",
       "      <td>19521221</td>\n",
       "      <td>20001211</td>\n",
       "      <td>19681220</td>\n",
       "      <td>19871224</td>\n",
       "      <td>...</td>\n",
       "      <td>0.496248</td>\n",
       "      <td>0.621168</td>\n",
       "      <td>0.378193</td>\n",
       "      <td>0.594238</td>\n",
       "      <td>0.405156</td>\n",
       "      <td>0.642016</td>\n",
       "      <td>0.371728</td>\n",
       "      <td>0.609399</td>\n",
       "      <td>0.574232</td>\n",
       "      <td>0.360594</td>\n",
       "    </tr>\n",
       "    <tr>\n",
       "      <th>19480102</th>\n",
       "      <td>20001211</td>\n",
       "      <td>19681221</td>\n",
       "      <td>19551224</td>\n",
       "      <td>20110112</td>\n",
       "      <td>19560126</td>\n",
       "      <td>19741220</td>\n",
       "      <td>19600121</td>\n",
       "      <td>19681220</td>\n",
       "      <td>19521221</td>\n",
       "      <td>19850131</td>\n",
       "      <td>...</td>\n",
       "      <td>0.555860</td>\n",
       "      <td>0.495064</td>\n",
       "      <td>0.675751</td>\n",
       "      <td>0.473601</td>\n",
       "      <td>0.329321</td>\n",
       "      <td>0.664506</td>\n",
       "      <td>0.592903</td>\n",
       "      <td>0.461086</td>\n",
       "      <td>0.557974</td>\n",
       "      <td>0.495405</td>\n",
       "    </tr>\n",
       "    <tr>\n",
       "      <th>19480103</th>\n",
       "      <td>19491206</td>\n",
       "      <td>19741222</td>\n",
       "      <td>19750110</td>\n",
       "      <td>19851222</td>\n",
       "      <td>19641231</td>\n",
       "      <td>19921215</td>\n",
       "      <td>19741221</td>\n",
       "      <td>19931217</td>\n",
       "      <td>19950124</td>\n",
       "      <td>19491207</td>\n",
       "      <td>...</td>\n",
       "      <td>0.591253</td>\n",
       "      <td>0.571272</td>\n",
       "      <td>0.472771</td>\n",
       "      <td>0.424513</td>\n",
       "      <td>0.647315</td>\n",
       "      <td>0.524868</td>\n",
       "      <td>0.521988</td>\n",
       "      <td>0.652662</td>\n",
       "      <td>0.599281</td>\n",
       "      <td>0.510727</td>\n",
       "    </tr>\n",
       "    <tr>\n",
       "      <th>19480104</th>\n",
       "      <td>20031217</td>\n",
       "      <td>19891221</td>\n",
       "      <td>19921215</td>\n",
       "      <td>20020121</td>\n",
       "      <td>19510114</td>\n",
       "      <td>19931218</td>\n",
       "      <td>19921216</td>\n",
       "      <td>19741224</td>\n",
       "      <td>19931217</td>\n",
       "      <td>19851222</td>\n",
       "      <td>...</td>\n",
       "      <td>0.452602</td>\n",
       "      <td>0.626009</td>\n",
       "      <td>0.594023</td>\n",
       "      <td>0.556825</td>\n",
       "      <td>0.584074</td>\n",
       "      <td>0.440337</td>\n",
       "      <td>0.448684</td>\n",
       "      <td>0.480334</td>\n",
       "      <td>0.426003</td>\n",
       "      <td>0.356706</td>\n",
       "    </tr>\n",
       "    <tr>\n",
       "      <th>19480105</th>\n",
       "      <td>19971210</td>\n",
       "      <td>19971209</td>\n",
       "      <td>19971211</td>\n",
       "      <td>19591230</td>\n",
       "      <td>19931217</td>\n",
       "      <td>19591228</td>\n",
       "      <td>19591229</td>\n",
       "      <td>19950129</td>\n",
       "      <td>20020121</td>\n",
       "      <td>19550120</td>\n",
       "      <td>...</td>\n",
       "      <td>0.605750</td>\n",
       "      <td>0.573455</td>\n",
       "      <td>0.519351</td>\n",
       "      <td>0.550601</td>\n",
       "      <td>0.461024</td>\n",
       "      <td>0.335482</td>\n",
       "      <td>0.569624</td>\n",
       "      <td>0.579975</td>\n",
       "      <td>0.482314</td>\n",
       "      <td>0.523988</td>\n",
       "    </tr>\n",
       "  </tbody>\n",
       "</table>\n",
       "<p>5 rows × 60 columns</p>\n",
       "</div>"
      ],
      "text/plain": [
       "          date.an1  date.an2  date.an3  date.an4  date.an5  date.an6  \\\n",
       "date                                                                   \n",
       "19480101  19560126  19850131  20110114  19551224  19850130  19980114   \n",
       "19480102  20001211  19681221  19551224  20110112  19560126  19741220   \n",
       "19480103  19491206  19741222  19750110  19851222  19641231  19921215   \n",
       "19480104  20031217  19891221  19921215  20020121  19510114  19931218   \n",
       "19480105  19971210  19971209  19971211  19591230  19931217  19591228   \n",
       "\n",
       "          date.an7  date.an8  date.an9  date.an10    ...        cor11  \\\n",
       "date                                                 ...                \n",
       "19480101  19521221  20001211  19681220   19871224    ...     0.496248   \n",
       "19480102  19600121  19681220  19521221   19850131    ...     0.555860   \n",
       "19480103  19741221  19931217  19950124   19491207    ...     0.591253   \n",
       "19480104  19921216  19741224  19931217   19851222    ...     0.452602   \n",
       "19480105  19591229  19950129  20020121   19550120    ...     0.605750   \n",
       "\n",
       "             cor12     cor13     cor14     cor15     cor16     cor17  \\\n",
       "date                                                                   \n",
       "19480101  0.621168  0.378193  0.594238  0.405156  0.642016  0.371728   \n",
       "19480102  0.495064  0.675751  0.473601  0.329321  0.664506  0.592903   \n",
       "19480103  0.571272  0.472771  0.424513  0.647315  0.524868  0.521988   \n",
       "19480104  0.626009  0.594023  0.556825  0.584074  0.440337  0.448684   \n",
       "19480105  0.573455  0.519351  0.550601  0.461024  0.335482  0.569624   \n",
       "\n",
       "             cor18     cor19     cor20  \n",
       "date                                    \n",
       "19480101  0.609399  0.574232  0.360594  \n",
       "19480102  0.461086  0.557974  0.495405  \n",
       "19480103  0.652662  0.599281  0.510727  \n",
       "19480104  0.480334  0.426003  0.356706  \n",
       "19480105  0.579975  0.482314  0.523988  \n",
       "\n",
       "[5 rows x 60 columns]"
      ]
     },
     "execution_count": 244,
     "metadata": {},
     "output_type": "execute_result"
    }
   ],
   "source": [
    "# Create dataframe from analogues file\n",
    "# Latest file: /home/estimr1/yiou/estimr1/NCEP/slpano-NA.analog30rms.1d.all1948-2016.dat\n",
    "# 2015: /home/estimr1/yiou/estimr1/NCEP/slpano-NA.analog30rms.1d.all1948-2015.dat\n",
    "# Note that last day in 2015 file is 20151225 (and NOT 20151231) because that is the last sunday of Dec 2015.\n",
    "\n",
    "dfS = pd.DataFrame()\n",
    "dfS = pd.read_csv('/home/estimr1/yiou/estimr1/NCEP/slpano-NA.analog30rms.1d.all1948-2016.dat', delimiter=' ', index_col=0)\n",
    "#dfS.set_index('Date', inplace=True)\n",
    "\n",
    "dfS.head(5)\n",
    "\n",
    "#dfS.index.name"
   ]
  },
  {
   "cell_type": "code",
   "execution_count": 245,
   "metadata": {
    "collapsed": false
   },
   "outputs": [
    {
     "data": {
      "text/html": [
       "<div>\n",
       "<table border=\"1\" class=\"dataframe\">\n",
       "  <thead>\n",
       "    <tr style=\"text-align: right;\">\n",
       "      <th></th>\n",
       "      <th>date.an1</th>\n",
       "      <th>date.an2</th>\n",
       "      <th>date.an3</th>\n",
       "      <th>date.an4</th>\n",
       "      <th>date.an5</th>\n",
       "      <th>date.an6</th>\n",
       "      <th>date.an7</th>\n",
       "      <th>date.an8</th>\n",
       "      <th>date.an9</th>\n",
       "      <th>date.an10</th>\n",
       "      <th>...</th>\n",
       "      <th>cor11</th>\n",
       "      <th>cor12</th>\n",
       "      <th>cor13</th>\n",
       "      <th>cor14</th>\n",
       "      <th>cor15</th>\n",
       "      <th>cor16</th>\n",
       "      <th>cor17</th>\n",
       "      <th>cor18</th>\n",
       "      <th>cor19</th>\n",
       "      <th>cor20</th>\n",
       "    </tr>\n",
       "    <tr>\n",
       "      <th>date</th>\n",
       "      <th></th>\n",
       "      <th></th>\n",
       "      <th></th>\n",
       "      <th></th>\n",
       "      <th></th>\n",
       "      <th></th>\n",
       "      <th></th>\n",
       "      <th></th>\n",
       "      <th></th>\n",
       "      <th></th>\n",
       "      <th></th>\n",
       "      <th></th>\n",
       "      <th></th>\n",
       "      <th></th>\n",
       "      <th></th>\n",
       "      <th></th>\n",
       "      <th></th>\n",
       "      <th></th>\n",
       "      <th></th>\n",
       "      <th></th>\n",
       "      <th></th>\n",
       "    </tr>\n",
       "  </thead>\n",
       "  <tbody>\n",
       "    <tr>\n",
       "      <th>20160613</th>\n",
       "      <td>19770514</td>\n",
       "      <td>19580622</td>\n",
       "      <td>19960703</td>\n",
       "      <td>19680620</td>\n",
       "      <td>19880531</td>\n",
       "      <td>19480616</td>\n",
       "      <td>19880701</td>\n",
       "      <td>19540606</td>\n",
       "      <td>19680621</td>\n",
       "      <td>19880601</td>\n",
       "      <td>...</td>\n",
       "      <td>0.511035</td>\n",
       "      <td>0.515002</td>\n",
       "      <td>0.474934</td>\n",
       "      <td>0.573175</td>\n",
       "      <td>0.512184</td>\n",
       "      <td>0.539033</td>\n",
       "      <td>0.566547</td>\n",
       "      <td>0.479236</td>\n",
       "      <td>0.434792</td>\n",
       "      <td>0.414608</td>\n",
       "    </tr>\n",
       "    <tr>\n",
       "      <th>20160614</th>\n",
       "      <td>19580622</td>\n",
       "      <td>19880702</td>\n",
       "      <td>19880701</td>\n",
       "      <td>19580623</td>\n",
       "      <td>20120606</td>\n",
       "      <td>19540609</td>\n",
       "      <td>19580621</td>\n",
       "      <td>20090705</td>\n",
       "      <td>20100608</td>\n",
       "      <td>20120607</td>\n",
       "      <td>...</td>\n",
       "      <td>0.561573</td>\n",
       "      <td>0.599886</td>\n",
       "      <td>0.575354</td>\n",
       "      <td>0.578218</td>\n",
       "      <td>0.512706</td>\n",
       "      <td>0.604387</td>\n",
       "      <td>0.643425</td>\n",
       "      <td>0.578632</td>\n",
       "      <td>0.570656</td>\n",
       "      <td>0.510388</td>\n",
       "    </tr>\n",
       "    <tr>\n",
       "      <th>20160615</th>\n",
       "      <td>20030702</td>\n",
       "      <td>20100608</td>\n",
       "      <td>19580622</td>\n",
       "      <td>19580623</td>\n",
       "      <td>19540704</td>\n",
       "      <td>19970622</td>\n",
       "      <td>20090607</td>\n",
       "      <td>19880702</td>\n",
       "      <td>19490524</td>\n",
       "      <td>20120607</td>\n",
       "      <td>...</td>\n",
       "      <td>0.596715</td>\n",
       "      <td>0.644501</td>\n",
       "      <td>0.606516</td>\n",
       "      <td>0.574877</td>\n",
       "      <td>0.601888</td>\n",
       "      <td>0.506091</td>\n",
       "      <td>0.613552</td>\n",
       "      <td>0.655912</td>\n",
       "      <td>0.569119</td>\n",
       "      <td>0.611980</td>\n",
       "    </tr>\n",
       "    <tr>\n",
       "      <th>20160616</th>\n",
       "      <td>19970622</td>\n",
       "      <td>19580623</td>\n",
       "      <td>20090707</td>\n",
       "      <td>19580624</td>\n",
       "      <td>19530603</td>\n",
       "      <td>20090708</td>\n",
       "      <td>19990705</td>\n",
       "      <td>20030702</td>\n",
       "      <td>19580622</td>\n",
       "      <td>19540705</td>\n",
       "      <td>...</td>\n",
       "      <td>0.487257</td>\n",
       "      <td>0.369651</td>\n",
       "      <td>0.510639</td>\n",
       "      <td>0.496947</td>\n",
       "      <td>0.445235</td>\n",
       "      <td>0.423884</td>\n",
       "      <td>0.529484</td>\n",
       "      <td>0.545829</td>\n",
       "      <td>0.458409</td>\n",
       "      <td>0.338569</td>\n",
       "    </tr>\n",
       "    <tr>\n",
       "      <th>20160617</th>\n",
       "      <td>20090708</td>\n",
       "      <td>20090707</td>\n",
       "      <td>20090709</td>\n",
       "      <td>19970623</td>\n",
       "      <td>20050605</td>\n",
       "      <td>19880604</td>\n",
       "      <td>19990706</td>\n",
       "      <td>19990705</td>\n",
       "      <td>19660624</td>\n",
       "      <td>19510626</td>\n",
       "      <td>...</td>\n",
       "      <td>0.516598</td>\n",
       "      <td>0.462850</td>\n",
       "      <td>0.429987</td>\n",
       "      <td>0.586695</td>\n",
       "      <td>0.542526</td>\n",
       "      <td>0.443260</td>\n",
       "      <td>0.354462</td>\n",
       "      <td>0.551617</td>\n",
       "      <td>0.478514</td>\n",
       "      <td>0.535178</td>\n",
       "    </tr>\n",
       "  </tbody>\n",
       "</table>\n",
       "<p>5 rows × 60 columns</p>\n",
       "</div>"
      ],
      "text/plain": [
       "          date.an1  date.an2  date.an3  date.an4  date.an5  date.an6  \\\n",
       "date                                                                   \n",
       "20160613  19770514  19580622  19960703  19680620  19880531  19480616   \n",
       "20160614  19580622  19880702  19880701  19580623  20120606  19540609   \n",
       "20160615  20030702  20100608  19580622  19580623  19540704  19970622   \n",
       "20160616  19970622  19580623  20090707  19580624  19530603  20090708   \n",
       "20160617  20090708  20090707  20090709  19970623  20050605  19880604   \n",
       "\n",
       "          date.an7  date.an8  date.an9  date.an10    ...        cor11  \\\n",
       "date                                                 ...                \n",
       "20160613  19880701  19540606  19680621   19880601    ...     0.511035   \n",
       "20160614  19580621  20090705  20100608   20120607    ...     0.561573   \n",
       "20160615  20090607  19880702  19490524   20120607    ...     0.596715   \n",
       "20160616  19990705  20030702  19580622   19540705    ...     0.487257   \n",
       "20160617  19990706  19990705  19660624   19510626    ...     0.516598   \n",
       "\n",
       "             cor12     cor13     cor14     cor15     cor16     cor17  \\\n",
       "date                                                                   \n",
       "20160613  0.515002  0.474934  0.573175  0.512184  0.539033  0.566547   \n",
       "20160614  0.599886  0.575354  0.578218  0.512706  0.604387  0.643425   \n",
       "20160615  0.644501  0.606516  0.574877  0.601888  0.506091  0.613552   \n",
       "20160616  0.369651  0.510639  0.496947  0.445235  0.423884  0.529484   \n",
       "20160617  0.462850  0.429987  0.586695  0.542526  0.443260  0.354462   \n",
       "\n",
       "             cor18     cor19     cor20  \n",
       "date                                    \n",
       "20160613  0.479236  0.434792  0.414608  \n",
       "20160614  0.578632  0.570656  0.510388  \n",
       "20160615  0.655912  0.569119  0.611980  \n",
       "20160616  0.545829  0.458409  0.338569  \n",
       "20160617  0.551617  0.478514  0.535178  \n",
       "\n",
       "[5 rows x 60 columns]"
      ]
     },
     "execution_count": 245,
     "metadata": {},
     "output_type": "execute_result"
    }
   ],
   "source": [
    "dfS.tail(5)"
   ]
  },
  {
   "cell_type": "code",
   "execution_count": 246,
   "metadata": {
    "collapsed": false
   },
   "outputs": [
    {
     "data": {
      "text/plain": [
       "Int64Index([19480101, 19480102, 19480103, 19480104, 19480105, 19480106,\n",
       "            19480107, 19480108, 19480109, 19480110, \n",
       "            ...\n",
       "            20160608, 20160609, 20160610, 20160611, 20160612, 20160613,\n",
       "            20160614, 20160615, 20160616, 20160617],\n",
       "           dtype='int64', name=u'date', length=25006)"
      ]
     },
     "execution_count": 246,
     "metadata": {},
     "output_type": "execute_result"
    }
   ],
   "source": [
    "dfS.index"
   ]
  },
  {
   "cell_type": "code",
   "execution_count": 247,
   "metadata": {
    "collapsed": false
   },
   "outputs": [
    {
     "data": {
      "text/plain": [
       "25006"
      ]
     },
     "execution_count": 247,
     "metadata": {},
     "output_type": "execute_result"
    }
   ],
   "source": [
    "len(dfS.index)"
   ]
  },
  {
   "cell_type": "code",
   "execution_count": 248,
   "metadata": {
    "collapsed": false
   },
   "outputs": [],
   "source": [
    "#Chop off 2016 rows NO!!! there will still be 2016 dates found as analogues, which messes up js script\n",
    "#dfS = dfS[dfS.index <= 20151231]"
   ]
  },
  {
   "cell_type": "code",
   "execution_count": 249,
   "metadata": {
    "collapsed": false
   },
   "outputs": [
    {
     "data": {
      "text/plain": [
       "date\n",
       "19480101    19480101\n",
       "19480102    19480102\n",
       "19480103    19480103\n",
       "19480104    19480104\n",
       "19480105    19480105\n",
       "19480106    19480106\n",
       "19480107    19480107\n",
       "19480108    19480108\n",
       "19480109    19480109\n",
       "19480110    19480110\n",
       "Name: dateRef, dtype: int64"
      ]
     },
     "execution_count": 249,
     "metadata": {},
     "output_type": "execute_result"
    }
   ],
   "source": [
    "#SAVE DATE INDEX\n",
    "#DF['id2'] = DF.index\n",
    "dfS['dateRef'] = dfS.index\n",
    "dfS['dateRef'].head(10)"
   ]
  },
  {
   "cell_type": "code",
   "execution_count": 250,
   "metadata": {
    "collapsed": false
   },
   "outputs": [],
   "source": [
    "#TRANSPOSE ANLG DATE COLS INTO SINGLE COL\n",
    "\n",
    "#Define temporary df containing only anlg dates cols\n",
    "df_anlg = dfS.iloc[:, 0:20]\n",
    "\n",
    "#remove index name before transpose (stack)\n",
    "df_anlg.index.name = \"\"\n",
    "\n",
    "#transpose (stack)into single col\n",
    "dateStack = df_anlg.stack()\n",
    "#dateStack"
   ]
  },
  {
   "cell_type": "code",
   "execution_count": 251,
   "metadata": {
    "collapsed": false
   },
   "outputs": [
    {
     "data": {
      "text/plain": [
       "19480101  dis1    523.709383\n",
       "          dis2    586.884633\n",
       "          dis3    623.145003\n",
       "          dis4    632.450071\n",
       "          dis5    635.355183\n",
       "dtype: float64"
      ]
     },
     "execution_count": 251,
     "metadata": {},
     "output_type": "execute_result"
    }
   ],
   "source": [
    "#TRANSPOSE DIS COLS INTO SINGLE COL\n",
    "\n",
    "#Define temporary df containing only dis cols\n",
    "df_dis = dfS.iloc[:, 20:40]\n",
    "\n",
    "#remove index name before transpose (stack)\n",
    "df_dis.index.name = \"\"\n",
    "\n",
    "#transpose (stack) into single col and take absolute value\n",
    "disStack = df_dis.stack().abs()\n",
    "disStack.head(5)"
   ]
  },
  {
   "cell_type": "code",
   "execution_count": 252,
   "metadata": {
    "collapsed": false
   },
   "outputs": [
    {
     "data": {
      "text/plain": [
       "19480101  cor1    0.708439\n",
       "          cor2    0.676750\n",
       "          cor3    0.640156\n",
       "          cor4    0.485716\n",
       "          cor5    0.519602\n",
       "dtype: float64"
      ]
     },
     "execution_count": 252,
     "metadata": {},
     "output_type": "execute_result"
    }
   ],
   "source": [
    "#TRANSPOSE CORR COLS INTO SINGLE COL\n",
    "\n",
    "#Define temporary df containing only corr cols\n",
    "df_corr = dfS.iloc[:, 40:60]\n",
    "\n",
    "#remove index name before transpose (stack)\n",
    "df_corr.index.name = \"\"\n",
    "\n",
    "#transpose (stack) into single col\n",
    "corrStack = df_corr.stack()\n",
    "corrStack.head(5)"
   ]
  },
  {
   "cell_type": "code",
   "execution_count": 253,
   "metadata": {
    "collapsed": true
   },
   "outputs": [],
   "source": [
    "#BUILD NEW DF IN CORRECT FORMAT\n",
    "\n",
    "#CREATE DF OF CORRECT DIMENSIONS (n x num_cols)\n",
    "df_all = dfS.iloc[:, 0:num_cols]\n",
    "#rename cols\n",
    "df_all.columns = ['dateAnlg', 'Dis', 'Corr']"
   ]
  },
  {
   "cell_type": "code",
   "execution_count": 254,
   "metadata": {
    "collapsed": false
   },
   "outputs": [
    {
     "data": {
      "text/html": [
       "<div>\n",
       "<table border=\"1\" class=\"dataframe\">\n",
       "  <thead>\n",
       "    <tr style=\"text-align: right;\">\n",
       "      <th></th>\n",
       "      <th>dateAnlg</th>\n",
       "      <th>Dis</th>\n",
       "      <th>Corr</th>\n",
       "    </tr>\n",
       "    <tr>\n",
       "      <th></th>\n",
       "      <th></th>\n",
       "      <th></th>\n",
       "      <th></th>\n",
       "    </tr>\n",
       "  </thead>\n",
       "  <tbody>\n",
       "    <tr>\n",
       "      <th>19480101</th>\n",
       "      <td>19560126</td>\n",
       "      <td>19850131</td>\n",
       "      <td>20110114</td>\n",
       "    </tr>\n",
       "    <tr>\n",
       "      <th>19480102</th>\n",
       "      <td>20001211</td>\n",
       "      <td>19681221</td>\n",
       "      <td>19551224</td>\n",
       "    </tr>\n",
       "    <tr>\n",
       "      <th>19480103</th>\n",
       "      <td>19491206</td>\n",
       "      <td>19741222</td>\n",
       "      <td>19750110</td>\n",
       "    </tr>\n",
       "    <tr>\n",
       "      <th>19480104</th>\n",
       "      <td>20031217</td>\n",
       "      <td>19891221</td>\n",
       "      <td>19921215</td>\n",
       "    </tr>\n",
       "    <tr>\n",
       "      <th>19480105</th>\n",
       "      <td>19971210</td>\n",
       "      <td>19971209</td>\n",
       "      <td>19971211</td>\n",
       "    </tr>\n",
       "  </tbody>\n",
       "</table>\n",
       "</div>"
      ],
      "text/plain": [
       "          dateAnlg       Dis      Corr\n",
       "                                      \n",
       "19480101  19560126  19850131  20110114\n",
       "19480102  20001211  19681221  19551224\n",
       "19480103  19491206  19741222  19750110\n",
       "19480104  20031217  19891221  19921215\n",
       "19480105  19971210  19971209  19971211"
      ]
     },
     "execution_count": 254,
     "metadata": {},
     "output_type": "execute_result"
    }
   ],
   "source": [
    "#dfS.index.tolist()\n",
    "df_all.head(5)"
   ]
  },
  {
   "cell_type": "code",
   "execution_count": 255,
   "metadata": {
    "collapsed": false
   },
   "outputs": [
    {
     "data": {
      "text/html": [
       "<div>\n",
       "<table border=\"1\" class=\"dataframe\">\n",
       "  <thead>\n",
       "    <tr style=\"text-align: right;\">\n",
       "      <th></th>\n",
       "      <th>dateAnlg</th>\n",
       "      <th>Dis</th>\n",
       "      <th>Corr</th>\n",
       "    </tr>\n",
       "    <tr>\n",
       "      <th>dateRef</th>\n",
       "      <th></th>\n",
       "      <th></th>\n",
       "      <th></th>\n",
       "    </tr>\n",
       "  </thead>\n",
       "  <tbody>\n",
       "    <tr>\n",
       "      <th>19480101</th>\n",
       "      <td>19560126</td>\n",
       "      <td>19850131</td>\n",
       "      <td>20110114</td>\n",
       "    </tr>\n",
       "    <tr>\n",
       "      <th>19480102</th>\n",
       "      <td>20001211</td>\n",
       "      <td>19681221</td>\n",
       "      <td>19551224</td>\n",
       "    </tr>\n",
       "    <tr>\n",
       "      <th>19480103</th>\n",
       "      <td>19491206</td>\n",
       "      <td>19741222</td>\n",
       "      <td>19750110</td>\n",
       "    </tr>\n",
       "    <tr>\n",
       "      <th>19480104</th>\n",
       "      <td>20031217</td>\n",
       "      <td>19891221</td>\n",
       "      <td>19921215</td>\n",
       "    </tr>\n",
       "    <tr>\n",
       "      <th>19480105</th>\n",
       "      <td>19971210</td>\n",
       "      <td>19971209</td>\n",
       "      <td>19971211</td>\n",
       "    </tr>\n",
       "    <tr>\n",
       "      <th>19480106</th>\n",
       "      <td>20020122</td>\n",
       "      <td>19710120</td>\n",
       "      <td>19931217</td>\n",
       "    </tr>\n",
       "    <tr>\n",
       "      <th>19480107</th>\n",
       "      <td>19781214</td>\n",
       "      <td>19591227</td>\n",
       "      <td>19510112</td>\n",
       "    </tr>\n",
       "    <tr>\n",
       "      <th>19480108</th>\n",
       "      <td>20040114</td>\n",
       "      <td>19591228</td>\n",
       "      <td>19781214</td>\n",
       "    </tr>\n",
       "    <tr>\n",
       "      <th>19480109</th>\n",
       "      <td>20021230</td>\n",
       "      <td>20020121</td>\n",
       "      <td>19931217</td>\n",
       "    </tr>\n",
       "    <tr>\n",
       "      <th>19480110</th>\n",
       "      <td>19550128</td>\n",
       "      <td>19710116</td>\n",
       "      <td>19800130</td>\n",
       "    </tr>\n",
       "  </tbody>\n",
       "</table>\n",
       "</div>"
      ],
      "text/plain": [
       "          dateAnlg       Dis      Corr\n",
       "dateRef                               \n",
       "19480101  19560126  19850131  20110114\n",
       "19480102  20001211  19681221  19551224\n",
       "19480103  19491206  19741222  19750110\n",
       "19480104  20031217  19891221  19921215\n",
       "19480105  19971210  19971209  19971211\n",
       "19480106  20020122  19710120  19931217\n",
       "19480107  19781214  19591227  19510112\n",
       "19480108  20040114  19591228  19781214\n",
       "19480109  20021230  20020121  19931217\n",
       "19480110  19550128  19710116  19800130"
      ]
     },
     "execution_count": 255,
     "metadata": {},
     "output_type": "execute_result"
    }
   ],
   "source": [
    "df_all = df_all.set_index(dfS['dateRef'] )\n",
    "df_all.head(10)"
   ]
  },
  {
   "cell_type": "code",
   "execution_count": 256,
   "metadata": {
    "collapsed": false
   },
   "outputs": [],
   "source": [
    "#REPLICATE INDEX COL 20 TIMES PER ROW\n",
    "\n",
    "#http://stackoverflow.com/questions/26777832/replicating-rows-in-a-pandas-data-frame-by-a-column-value\n",
    "#df2 = df.loc[np.repeat(df.index.values,df.n)]\n",
    "df_all = df_all.loc[np.repeat(df_all.index.values,num_analogues)]"
   ]
  },
  {
   "cell_type": "code",
   "execution_count": 257,
   "metadata": {
    "collapsed": false
   },
   "outputs": [
    {
     "data": {
      "text/html": [
       "<div>\n",
       "<table border=\"1\" class=\"dataframe\">\n",
       "  <thead>\n",
       "    <tr style=\"text-align: right;\">\n",
       "      <th></th>\n",
       "      <th>dateAnlg</th>\n",
       "      <th>Dis</th>\n",
       "      <th>Corr</th>\n",
       "    </tr>\n",
       "    <tr>\n",
       "      <th>dateRef</th>\n",
       "      <th></th>\n",
       "      <th></th>\n",
       "      <th></th>\n",
       "    </tr>\n",
       "  </thead>\n",
       "  <tbody>\n",
       "    <tr>\n",
       "      <th>19480101</th>\n",
       "      <td>19560126</td>\n",
       "      <td>523.709383</td>\n",
       "      <td>0.708439</td>\n",
       "    </tr>\n",
       "    <tr>\n",
       "      <th>19480101</th>\n",
       "      <td>19850131</td>\n",
       "      <td>586.884633</td>\n",
       "      <td>0.676750</td>\n",
       "    </tr>\n",
       "    <tr>\n",
       "      <th>19480101</th>\n",
       "      <td>20110114</td>\n",
       "      <td>623.145003</td>\n",
       "      <td>0.640156</td>\n",
       "    </tr>\n",
       "    <tr>\n",
       "      <th>19480101</th>\n",
       "      <td>19551224</td>\n",
       "      <td>632.450071</td>\n",
       "      <td>0.485716</td>\n",
       "    </tr>\n",
       "    <tr>\n",
       "      <th>19480101</th>\n",
       "      <td>19850130</td>\n",
       "      <td>635.355183</td>\n",
       "      <td>0.519602</td>\n",
       "    </tr>\n",
       "  </tbody>\n",
       "</table>\n",
       "</div>"
      ],
      "text/plain": [
       "          dateAnlg         Dis      Corr\n",
       "dateRef                                 \n",
       "19480101  19560126  523.709383  0.708439\n",
       "19480101  19850131  586.884633  0.676750\n",
       "19480101  20110114  623.145003  0.640156\n",
       "19480101  19551224  632.450071  0.485716\n",
       "19480101  19850130  635.355183  0.519602"
      ]
     },
     "execution_count": 257,
     "metadata": {},
     "output_type": "execute_result"
    }
   ],
   "source": [
    "#REPLACE COLS WITH STACKED ANLG DATES, DIS AND CORR\n",
    "df_all.iloc[:,0] = list(dateStack)\n",
    "df_all.iloc[:,1] = list(disStack)\n",
    "df_all.iloc[:,2] = list(corrStack)\n",
    "df_all.head(5)"
   ]
  },
  {
   "cell_type": "code",
   "execution_count": 258,
   "metadata": {
    "collapsed": false
   },
   "outputs": [
    {
     "data": {
      "text/plain": [
       "(500120, 3)"
      ]
     },
     "execution_count": 258,
     "metadata": {},
     "output_type": "execute_result"
    }
   ],
   "source": [
    "df_all.shape"
   ]
  },
  {
   "cell_type": "code",
   "execution_count": 259,
   "metadata": {
    "collapsed": false,
    "scrolled": true
   },
   "outputs": [
    {
     "data": {
      "text/html": [
       "<div>\n",
       "<table border=\"1\" class=\"dataframe\">\n",
       "  <thead>\n",
       "    <tr style=\"text-align: right;\">\n",
       "      <th></th>\n",
       "      <th>dateAnlg</th>\n",
       "      <th>Dis</th>\n",
       "      <th>Corr</th>\n",
       "    </tr>\n",
       "    <tr>\n",
       "      <th>dateRef</th>\n",
       "      <th></th>\n",
       "      <th></th>\n",
       "      <th></th>\n",
       "    </tr>\n",
       "  </thead>\n",
       "  <tbody>\n",
       "    <tr>\n",
       "      <th>20160617</th>\n",
       "      <td>19570519</td>\n",
       "      <td>505.247492</td>\n",
       "      <td>0.443260</td>\n",
       "    </tr>\n",
       "    <tr>\n",
       "      <th>20160617</th>\n",
       "      <td>19890627</td>\n",
       "      <td>510.247497</td>\n",
       "      <td>0.354462</td>\n",
       "    </tr>\n",
       "    <tr>\n",
       "      <th>20160617</th>\n",
       "      <td>19510628</td>\n",
       "      <td>512.333517</td>\n",
       "      <td>0.551617</td>\n",
       "    </tr>\n",
       "    <tr>\n",
       "      <th>20160617</th>\n",
       "      <td>19980628</td>\n",
       "      <td>515.598167</td>\n",
       "      <td>0.478514</td>\n",
       "    </tr>\n",
       "    <tr>\n",
       "      <th>20160617</th>\n",
       "      <td>19910618</td>\n",
       "      <td>515.688414</td>\n",
       "      <td>0.535178</td>\n",
       "    </tr>\n",
       "  </tbody>\n",
       "</table>\n",
       "</div>"
      ],
      "text/plain": [
       "          dateAnlg         Dis      Corr\n",
       "dateRef                                 \n",
       "20160617  19570519  505.247492  0.443260\n",
       "20160617  19890627  510.247497  0.354462\n",
       "20160617  19510628  512.333517  0.551617\n",
       "20160617  19980628  515.598167  0.478514\n",
       "20160617  19910618  515.688414  0.535178"
      ]
     },
     "execution_count": 259,
     "metadata": {},
     "output_type": "execute_result"
    }
   ],
   "source": [
    "df_all.tail(5)"
   ]
  },
  {
   "cell_type": "code",
   "execution_count": 260,
   "metadata": {
    "collapsed": true
   },
   "outputs": [],
   "source": [
    "dfS_select = df_all[df_all.index <= 19600101]"
   ]
  },
  {
   "cell_type": "code",
   "execution_count": 261,
   "metadata": {
    "collapsed": false
   },
   "outputs": [
    {
     "data": {
      "text/html": [
       "<div>\n",
       "<table border=\"1\" class=\"dataframe\">\n",
       "  <thead>\n",
       "    <tr style=\"text-align: right;\">\n",
       "      <th></th>\n",
       "      <th>dateAnlg</th>\n",
       "      <th>Dis</th>\n",
       "      <th>Corr</th>\n",
       "    </tr>\n",
       "    <tr>\n",
       "      <th>dateRef</th>\n",
       "      <th></th>\n",
       "      <th></th>\n",
       "      <th></th>\n",
       "    </tr>\n",
       "  </thead>\n",
       "  <tbody>\n",
       "    <tr>\n",
       "      <th>19600101</th>\n",
       "      <td>20040109</td>\n",
       "      <td>797.287846</td>\n",
       "      <td>0.699930</td>\n",
       "    </tr>\n",
       "    <tr>\n",
       "      <th>19600101</th>\n",
       "      <td>20040107</td>\n",
       "      <td>801.705454</td>\n",
       "      <td>0.738068</td>\n",
       "    </tr>\n",
       "    <tr>\n",
       "      <th>19600101</th>\n",
       "      <td>19750128</td>\n",
       "      <td>811.387152</td>\n",
       "      <td>0.620306</td>\n",
       "    </tr>\n",
       "    <tr>\n",
       "      <th>19600101</th>\n",
       "      <td>19541212</td>\n",
       "      <td>813.104730</td>\n",
       "      <td>0.546885</td>\n",
       "    </tr>\n",
       "    <tr>\n",
       "      <th>19600101</th>\n",
       "      <td>20001202</td>\n",
       "      <td>825.934345</td>\n",
       "      <td>0.645723</td>\n",
       "    </tr>\n",
       "    <tr>\n",
       "      <th>19600101</th>\n",
       "      <td>19740113</td>\n",
       "      <td>825.959133</td>\n",
       "      <td>0.783222</td>\n",
       "    </tr>\n",
       "    <tr>\n",
       "      <th>19600101</th>\n",
       "      <td>19521220</td>\n",
       "      <td>837.784433</td>\n",
       "      <td>0.566982</td>\n",
       "    </tr>\n",
       "    <tr>\n",
       "      <th>19600101</th>\n",
       "      <td>19661228</td>\n",
       "      <td>838.124823</td>\n",
       "      <td>0.695898</td>\n",
       "    </tr>\n",
       "    <tr>\n",
       "      <th>19600101</th>\n",
       "      <td>20001203</td>\n",
       "      <td>840.777348</td>\n",
       "      <td>0.549039</td>\n",
       "    </tr>\n",
       "    <tr>\n",
       "      <th>19600101</th>\n",
       "      <td>19641206</td>\n",
       "      <td>843.629503</td>\n",
       "      <td>0.478781</td>\n",
       "    </tr>\n",
       "  </tbody>\n",
       "</table>\n",
       "</div>"
      ],
      "text/plain": [
       "          dateAnlg         Dis      Corr\n",
       "dateRef                                 \n",
       "19600101  20040109  797.287846  0.699930\n",
       "19600101  20040107  801.705454  0.738068\n",
       "19600101  19750128  811.387152  0.620306\n",
       "19600101  19541212  813.104730  0.546885\n",
       "19600101  20001202  825.934345  0.645723\n",
       "19600101  19740113  825.959133  0.783222\n",
       "19600101  19521220  837.784433  0.566982\n",
       "19600101  19661228  838.124823  0.695898\n",
       "19600101  20001203  840.777348  0.549039\n",
       "19600101  19641206  843.629503  0.478781"
      ]
     },
     "execution_count": 261,
     "metadata": {},
     "output_type": "execute_result"
    }
   ],
   "source": [
    "dfS_select.tail(10)"
   ]
  },
  {
   "cell_type": "code",
   "execution_count": 76,
   "metadata": {
    "collapsed": false
   },
   "outputs": [],
   "source": [
    "#SAVE TO CSV FILE\n",
    "\n",
    "#df_all.to_csv('analogues_19480101_20151225.json', float_format='%.2f', sep='\\t')\n",
    "\n",
    "#df_all.to_csv('analogues_19480101_20160520.json', float_format='%.2f', sep='\\t')\n",
    "\n",
    "#dfS_select.to_csv('analogues_select.json', float_format='%.2f', sep='\\t')"
   ]
  },
  {
   "cell_type": "code",
   "execution_count": 77,
   "metadata": {
    "collapsed": false
   },
   "outputs": [
    {
     "data": {
      "text/plain": [
       "u'/homel/cnangini/PROJECTS/analogues'"
      ]
     },
     "execution_count": 77,
     "metadata": {},
     "output_type": "execute_result"
    }
   ],
   "source": [
    "pwd"
   ]
  },
  {
   "cell_type": "code",
   "execution_count": 86,
   "metadata": {
    "collapsed": false
   },
   "outputs": [
    {
     "name": "stdout",
     "output_type": "stream",
     "text": [
      "-0.0773818303236 0.952985818969\n"
     ]
    }
   ],
   "source": [
    "print df_all['Corr'].min(), df_all['Corr'].max()"
   ]
  },
  {
   "cell_type": "code",
   "execution_count": 87,
   "metadata": {
    "collapsed": false
   },
   "outputs": [
    {
     "name": "stdout",
     "output_type": "stream",
     "text": [
      "284.431297359 1369.41118104\n"
     ]
    }
   ],
   "source": [
    "print df_all['Dis'].min(), df_all['Dis'].max()"
   ]
  },
  {
   "cell_type": "code",
   "execution_count": 31,
   "metadata": {
    "collapsed": false
   },
   "outputs": [],
   "source": [
    "#check 1970-1979\n",
    "df_check =  df_all[ (df_all['dateAnlg'] >= 19700101) & (df_all['dateAnlg'] <= 19791231) ]\n",
    "\n",
    "\n",
    "#((df['column1']=='banana') & (df['colour']=='green'))"
   ]
  },
  {
   "cell_type": "code",
   "execution_count": 32,
   "metadata": {
    "collapsed": false
   },
   "outputs": [
    {
     "data": {
      "text/plain": [
       "(75935, 3)"
      ]
     },
     "execution_count": 32,
     "metadata": {},
     "output_type": "execute_result"
    }
   ],
   "source": [
    "df_check.shape"
   ]
  },
  {
   "cell_type": "code",
   "execution_count": 33,
   "metadata": {
    "collapsed": true
   },
   "outputs": [],
   "source": [
    "df_check =  df_all[ (df_all['dateAnlg'] >= 20100101) & (df_all['dateAnlg'] <= 20191231) ]"
   ]
  },
  {
   "cell_type": "code",
   "execution_count": 34,
   "metadata": {
    "collapsed": false
   },
   "outputs": [
    {
     "data": {
      "text/plain": [
       "(44554, 3)"
      ]
     },
     "execution_count": 34,
     "metadata": {},
     "output_type": "execute_result"
    }
   ],
   "source": [
    "df_check.shape"
   ]
  },
  {
   "cell_type": "code",
   "execution_count": 35,
   "metadata": {
    "collapsed": false
   },
   "outputs": [],
   "source": [
    "#cut file for testing purposes\n",
    "df_select = df_all.iloc[19000:19100,:]"
   ]
  },
  {
   "cell_type": "code",
   "execution_count": 36,
   "metadata": {
    "collapsed": false
   },
   "outputs": [
    {
     "data": {
      "text/plain": [
       "(100, 3)"
      ]
     },
     "execution_count": 36,
     "metadata": {},
     "output_type": "execute_result"
    }
   ],
   "source": [
    "df_select.shape"
   ]
  },
  {
   "cell_type": "code",
   "execution_count": 37,
   "metadata": {
    "collapsed": false
   },
   "outputs": [
    {
     "data": {
      "text/html": [
       "<div>\n",
       "<table border=\"1\" class=\"dataframe\">\n",
       "  <thead>\n",
       "    <tr style=\"text-align: right;\">\n",
       "      <th></th>\n",
       "      <th>dateAnlg</th>\n",
       "      <th>Dis</th>\n",
       "      <th>Corr</th>\n",
       "    </tr>\n",
       "    <tr>\n",
       "      <th>dateRef</th>\n",
       "      <th></th>\n",
       "      <th></th>\n",
       "      <th></th>\n",
       "    </tr>\n",
       "  </thead>\n",
       "  <tbody>\n",
       "    <tr>\n",
       "      <th>19500812</th>\n",
       "      <td>19840828</td>\n",
       "      <td>449.988840</td>\n",
       "      <td>0.546204</td>\n",
       "    </tr>\n",
       "    <tr>\n",
       "      <th>19500812</th>\n",
       "      <td>19590909</td>\n",
       "      <td>453.044659</td>\n",
       "      <td>0.612506</td>\n",
       "    </tr>\n",
       "    <tr>\n",
       "      <th>19500812</th>\n",
       "      <td>20030819</td>\n",
       "      <td>453.638210</td>\n",
       "      <td>0.559760</td>\n",
       "    </tr>\n",
       "    <tr>\n",
       "      <th>19500812</th>\n",
       "      <td>19970801</td>\n",
       "      <td>457.039066</td>\n",
       "      <td>0.597291</td>\n",
       "    </tr>\n",
       "    <tr>\n",
       "      <th>19500812</th>\n",
       "      <td>19980815</td>\n",
       "      <td>459.252587</td>\n",
       "      <td>0.534387</td>\n",
       "    </tr>\n",
       "    <tr>\n",
       "      <th>19500812</th>\n",
       "      <td>19990829</td>\n",
       "      <td>466.308358</td>\n",
       "      <td>0.580896</td>\n",
       "    </tr>\n",
       "    <tr>\n",
       "      <th>19500812</th>\n",
       "      <td>19510820</td>\n",
       "      <td>466.860763</td>\n",
       "      <td>0.727749</td>\n",
       "    </tr>\n",
       "    <tr>\n",
       "      <th>19500812</th>\n",
       "      <td>20130816</td>\n",
       "      <td>467.150673</td>\n",
       "      <td>0.623782</td>\n",
       "    </tr>\n",
       "    <tr>\n",
       "      <th>19500812</th>\n",
       "      <td>19990717</td>\n",
       "      <td>471.338490</td>\n",
       "      <td>0.571134</td>\n",
       "    </tr>\n",
       "    <tr>\n",
       "      <th>19500812</th>\n",
       "      <td>19790816</td>\n",
       "      <td>471.416637</td>\n",
       "      <td>0.661347</td>\n",
       "    </tr>\n",
       "  </tbody>\n",
       "</table>\n",
       "</div>"
      ],
      "text/plain": [
       "          dateAnlg         Dis      Corr\n",
       "dateRef                                 \n",
       "19500812  19840828  449.988840  0.546204\n",
       "19500812  19590909  453.044659  0.612506\n",
       "19500812  20030819  453.638210  0.559760\n",
       "19500812  19970801  457.039066  0.597291\n",
       "19500812  19980815  459.252587  0.534387\n",
       "19500812  19990829  466.308358  0.580896\n",
       "19500812  19510820  466.860763  0.727749\n",
       "19500812  20130816  467.150673  0.623782\n",
       "19500812  19990717  471.338490  0.571134\n",
       "19500812  19790816  471.416637  0.661347"
      ]
     },
     "execution_count": 37,
     "metadata": {},
     "output_type": "execute_result"
    }
   ],
   "source": [
    "df_select.tail(10)"
   ]
  },
  {
   "cell_type": "code",
   "execution_count": 38,
   "metadata": {
    "collapsed": false
   },
   "outputs": [],
   "source": [
    "df_chunk = df_all.iloc[149000:149100,:]\n",
    "df_chunk2 = df_all.iloc[106000:106100,:]"
   ]
  },
  {
   "cell_type": "code",
   "execution_count": 39,
   "metadata": {
    "collapsed": false
   },
   "outputs": [],
   "source": [
    "df_select = df_select.append(df_chunk)\n",
    "df_select = df_select.append(df_chunk2)\n",
    "#df_select = pd.concat([df_select,df_chunk])"
   ]
  },
  {
   "cell_type": "code",
   "execution_count": 40,
   "metadata": {
    "collapsed": false
   },
   "outputs": [
    {
     "data": {
      "text/plain": [
       "(300, 3)"
      ]
     },
     "execution_count": 40,
     "metadata": {},
     "output_type": "execute_result"
    }
   ],
   "source": [
    "df_select.shape"
   ]
  },
  {
   "cell_type": "code",
   "execution_count": 41,
   "metadata": {
    "collapsed": true
   },
   "outputs": [],
   "source": [
    "#SAVE SELECTION TO TSV FILE\n",
    "\n",
    "#df_select.to_csv('analogues_reformat_all_select.tsv', float_format='%.2f', sep='\\t')"
   ]
  },
  {
   "cell_type": "code",
   "execution_count": 42,
   "metadata": {
    "collapsed": false
   },
   "outputs": [
    {
     "name": "stdout",
     "output_type": "stream",
     "text": [
      "-0.0773818303236 0.952985818969\n"
     ]
    }
   ],
   "source": [
    "print df_all['Corr'].min(), df_all['Corr'].max()"
   ]
  },
  {
   "cell_type": "code",
   "execution_count": 43,
   "metadata": {
    "collapsed": false,
    "scrolled": true
   },
   "outputs": [
    {
     "name": "stdout",
     "output_type": "stream",
     "text": [
      "284.431297359 1369.41118104\n"
     ]
    }
   ],
   "source": [
    "print df_all['Dis'].min(), df_all['Dis'].max()"
   ]
  },
  {
   "cell_type": "code",
   "execution_count": 44,
   "metadata": {
    "collapsed": false
   },
   "outputs": [
    {
     "name": "stdout",
     "output_type": "stream",
     "text": [
      "0.124791552993 0.821019151951\n"
     ]
    }
   ],
   "source": [
    "df_select['Corr'].max()\n",
    "df_select['Corr'].min()\n",
    "print df_select['Corr'].min(), df_select['Corr'].max()"
   ]
  },
  {
   "cell_type": "code",
   "execution_count": 45,
   "metadata": {
    "collapsed": false
   },
   "outputs": [
    {
     "name": "stdout",
     "output_type": "stream",
     "text": [
      "350.217929418 696.281040107\n"
     ]
    }
   ],
   "source": [
    "df_select['Dis'].max()\n",
    "df_select['Dis'].min()\n",
    "print df_select['Dis'].min(), df_select['Dis'].max()"
   ]
  },
  {
   "cell_type": "code",
   "execution_count": null,
   "metadata": {
    "collapsed": true
   },
   "outputs": [],
   "source": []
  }
 ],
 "metadata": {
  "kernelspec": {
   "display_name": "Python 2",
   "language": "python",
   "name": "python2"
  },
  "language_info": {
   "codemirror_mode": {
    "name": "ipython",
    "version": 2
   },
   "file_extension": ".py",
   "mimetype": "text/x-python",
   "name": "python",
   "nbconvert_exporter": "python",
   "pygments_lexer": "ipython2",
   "version": "2.7.10"
  }
 },
 "nbformat": 4,
 "nbformat_minor": 0
}
